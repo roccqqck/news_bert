{
 "cells": [
  {
   "cell_type": "code",
   "execution_count": 1,
   "metadata": {},
   "outputs": [],
   "source": [
    "import pandas as pd"
   ]
  },
  {
   "cell_type": "code",
   "execution_count": 6,
   "metadata": {},
   "outputs": [
    {
     "data": {
      "text/html": [
       "<div>\n",
       "<style scoped>\n",
       "    .dataframe tbody tr th:only-of-type {\n",
       "        vertical-align: middle;\n",
       "    }\n",
       "\n",
       "    .dataframe tbody tr th {\n",
       "        vertical-align: top;\n",
       "    }\n",
       "\n",
       "    .dataframe thead th {\n",
       "        text-align: right;\n",
       "    }\n",
       "</style>\n",
       "<table border=\"1\" class=\"dataframe\">\n",
       "  <thead>\n",
       "    <tr style=\"text-align: right;\">\n",
       "      <th></th>\n",
       "      <th>公司碼</th>\n",
       "      <th>日期</th>\n",
       "      <th>序碼</th>\n",
       "      <th>說明</th>\n",
       "      <th>出事原因</th>\n",
       "    </tr>\n",
       "  </thead>\n",
       "  <tbody>\n",
       "    <tr>\n",
       "      <th>0</th>\n",
       "      <td>2371 大同</td>\n",
       "      <td>2017/12/28</td>\n",
       "      <td>01001</td>\n",
       "      <td>＊發生其他負面事件,股價暴跌</td>\n",
       "      <td>P 股價暴跌</td>\n",
       "    </tr>\n",
       "    <tr>\n",
       "      <th>1</th>\n",
       "      <td>2371 大同</td>\n",
       "      <td>2017/12/28</td>\n",
       "      <td>01A01</td>\n",
       "      <td>1.大同增資案惹議，市場派提告。</td>\n",
       "      <td>P 股價暴跌</td>\n",
       "    </tr>\n",
       "    <tr>\n",
       "      <th>2</th>\n",
       "      <td>2371 大同</td>\n",
       "      <td>2017/12/28</td>\n",
       "      <td>01A02</td>\n",
       "      <td>2.大同因現金增資消息曝光、股價重挫，蒸發45億市值，已經損及股東權益，市</td>\n",
       "      <td>P 股價暴跌</td>\n",
       "    </tr>\n",
       "    <tr>\n",
       "      <th>3</th>\n",
       "      <td>2371 大同</td>\n",
       "      <td>2017/12/28</td>\n",
       "      <td>01A03</td>\n",
       "      <td>場派股東106/12/28在台北地檢署告發。大同再重申，董事會決議是在額定股本</td>\n",
       "      <td>P 股價暴跌</td>\n",
       "    </tr>\n",
       "    <tr>\n",
       "      <th>4</th>\n",
       "      <td>2371 大同</td>\n",
       "      <td>2017/12/28</td>\n",
       "      <td>01A04</td>\n",
       "      <td>內對原股東的現金增資，從未涉入股市，對於股價是否遭人為操縱，公司無從得</td>\n",
       "      <td>P 股價暴跌</td>\n",
       "    </tr>\n",
       "  </tbody>\n",
       "</table>\n",
       "</div>"
      ],
      "text/plain": [
       "       公司碼          日期     序碼                                       說明    出事原因\n",
       "0  2371 大同  2017/12/28  01001                           ＊發生其他負面事件,股價暴跌  P 股價暴跌\n",
       "1  2371 大同  2017/12/28  01A01                         1.大同增資案惹議，市場派提告。  P 股價暴跌\n",
       "2  2371 大同  2017/12/28  01A02    2.大同因現金增資消息曝光、股價重挫，蒸發45億市值，已經損及股東權益，市  P 股價暴跌\n",
       "3  2371 大同  2017/12/28  01A03  場派股東106/12/28在台北地檢署告發。大同再重申，董事會決議是在額定股本  P 股價暴跌\n",
       "4  2371 大同  2017/12/28  01A04      內對原股東的現金增資，從未涉入股市，對於股價是否遭人為操縱，公司無從得  P 股價暴跌"
      ]
     },
     "execution_count": 6,
     "metadata": {},
     "output_type": "execute_result"
    }
   ],
   "source": [
    "df_news = pd.read_csv(\"data/2008_2017_tej_bought.csv\",encoding=\"utf-8\")\n",
    "df_news.head()"
   ]
  },
  {
   "cell_type": "code",
   "execution_count": 7,
   "metadata": {},
   "outputs": [
    {
     "data": {
      "text/plain": [
       "(13821, 5)"
      ]
     },
     "execution_count": 7,
     "metadata": {},
     "output_type": "execute_result"
    }
   ],
   "source": [
    "df_news.shape"
   ]
  },
  {
   "cell_type": "code",
   "execution_count": 8,
   "metadata": {},
   "outputs": [
    {
     "data": {
      "text/html": [
       "<div>\n",
       "<style scoped>\n",
       "    .dataframe tbody tr th:only-of-type {\n",
       "        vertical-align: middle;\n",
       "    }\n",
       "\n",
       "    .dataframe tbody tr th {\n",
       "        vertical-align: top;\n",
       "    }\n",
       "\n",
       "    .dataframe thead th {\n",
       "        text-align: right;\n",
       "    }\n",
       "</style>\n",
       "<table border=\"1\" class=\"dataframe\">\n",
       "  <thead>\n",
       "    <tr style=\"text-align: right;\">\n",
       "      <th></th>\n",
       "      <th>公司碼</th>\n",
       "      <th>日期</th>\n",
       "      <th>序碼</th>\n",
       "      <th>說明</th>\n",
       "      <th>出事原因</th>\n",
       "      <th>公司碼2</th>\n",
       "    </tr>\n",
       "  </thead>\n",
       "  <tbody>\n",
       "    <tr>\n",
       "      <th>0</th>\n",
       "      <td>2371 大同</td>\n",
       "      <td>2017/12/28</td>\n",
       "      <td>01001</td>\n",
       "      <td>＊發生其他負面事件,股價暴跌</td>\n",
       "      <td>P 股價暴跌</td>\n",
       "      <td>NaN</td>\n",
       "    </tr>\n",
       "    <tr>\n",
       "      <th>1</th>\n",
       "      <td>2371 大同</td>\n",
       "      <td>2017/12/28</td>\n",
       "      <td>01A01</td>\n",
       "      <td>1.大同增資案惹議，市場派提告。</td>\n",
       "      <td>P 股價暴跌</td>\n",
       "      <td>2371 大同</td>\n",
       "    </tr>\n",
       "    <tr>\n",
       "      <th>2</th>\n",
       "      <td>2371 大同</td>\n",
       "      <td>2017/12/28</td>\n",
       "      <td>01A02</td>\n",
       "      <td>2.大同因現金增資消息曝光、股價重挫，蒸發45億市值，已經損及股東權益，市</td>\n",
       "      <td>P 股價暴跌</td>\n",
       "      <td>2371 大同</td>\n",
       "    </tr>\n",
       "    <tr>\n",
       "      <th>3</th>\n",
       "      <td>2371 大同</td>\n",
       "      <td>2017/12/28</td>\n",
       "      <td>01A03</td>\n",
       "      <td>場派股東106/12/28在台北地檢署告發。大同再重申，董事會決議是在額定股本</td>\n",
       "      <td>P 股價暴跌</td>\n",
       "      <td>2371 大同</td>\n",
       "    </tr>\n",
       "    <tr>\n",
       "      <th>4</th>\n",
       "      <td>2371 大同</td>\n",
       "      <td>2017/12/28</td>\n",
       "      <td>01A04</td>\n",
       "      <td>內對原股東的現金增資，從未涉入股市，對於股價是否遭人為操縱，公司無從得</td>\n",
       "      <td>P 股價暴跌</td>\n",
       "      <td>2371 大同</td>\n",
       "    </tr>\n",
       "  </tbody>\n",
       "</table>\n",
       "</div>"
      ],
      "text/plain": [
       "       公司碼          日期     序碼                                       說明  \\\n",
       "0  2371 大同  2017/12/28  01001                           ＊發生其他負面事件,股價暴跌   \n",
       "1  2371 大同  2017/12/28  01A01                         1.大同增資案惹議，市場派提告。   \n",
       "2  2371 大同  2017/12/28  01A02    2.大同因現金增資消息曝光、股價重挫，蒸發45億市值，已經損及股東權益，市   \n",
       "3  2371 大同  2017/12/28  01A03  場派股東106/12/28在台北地檢署告發。大同再重申，董事會決議是在額定股本   \n",
       "4  2371 大同  2017/12/28  01A04      內對原股東的現金增資，從未涉入股市，對於股價是否遭人為操縱，公司無從得   \n",
       "\n",
       "     出事原因     公司碼2  \n",
       "0  P 股價暴跌      NaN  \n",
       "1  P 股價暴跌  2371 大同  \n",
       "2  P 股價暴跌  2371 大同  \n",
       "3  P 股價暴跌  2371 大同  \n",
       "4  P 股價暴跌  2371 大同  "
      ]
     },
     "execution_count": 8,
     "metadata": {},
     "output_type": "execute_result"
    }
   ],
   "source": [
    "df_news['公司碼2'] = df_news['公司碼'].shift(periods=1) # 公司碼往下移動一格\n",
    "df_news.head()"
   ]
  },
  {
   "cell_type": "code",
   "execution_count": 9,
   "metadata": {},
   "outputs": [
    {
     "data": {
      "text/html": [
       "<div>\n",
       "<style scoped>\n",
       "    .dataframe tbody tr th:only-of-type {\n",
       "        vertical-align: middle;\n",
       "    }\n",
       "\n",
       "    .dataframe tbody tr th {\n",
       "        vertical-align: top;\n",
       "    }\n",
       "\n",
       "    .dataframe thead th {\n",
       "        text-align: right;\n",
       "    }\n",
       "</style>\n",
       "<table border=\"1\" class=\"dataframe\">\n",
       "  <thead>\n",
       "    <tr style=\"text-align: right;\">\n",
       "      <th></th>\n",
       "      <th>公司碼</th>\n",
       "      <th>日期</th>\n",
       "      <th>序碼</th>\n",
       "      <th>說明</th>\n",
       "      <th>出事原因</th>\n",
       "      <th>公司碼2</th>\n",
       "    </tr>\n",
       "  </thead>\n",
       "  <tbody>\n",
       "    <tr>\n",
       "      <th>0</th>\n",
       "      <td>2371 大同</td>\n",
       "      <td>2017/12/28</td>\n",
       "      <td>01001</td>\n",
       "      <td>＊發生其他負面事件,股價暴跌</td>\n",
       "      <td>P 股價暴跌</td>\n",
       "      <td>NaN</td>\n",
       "    </tr>\n",
       "    <tr>\n",
       "      <th>12</th>\n",
       "      <td>4746 台耀</td>\n",
       "      <td>2017/12/28</td>\n",
       "      <td>01001</td>\n",
       "      <td>＊發生其他負面事件,其他</td>\n",
       "      <td>U 其他</td>\n",
       "      <td>2371 大同</td>\n",
       "    </tr>\n",
       "    <tr>\n",
       "      <th>15</th>\n",
       "      <td>2474 可成</td>\n",
       "      <td>2017/12/27</td>\n",
       "      <td>01001</td>\n",
       "      <td>＊發生重大財務事件,景氣不佳停工</td>\n",
       "      <td>T 景氣不佳停工</td>\n",
       "      <td>4746 台耀</td>\n",
       "    </tr>\n",
       "    <tr>\n",
       "      <th>19</th>\n",
       "      <td>2062 橋椿</td>\n",
       "      <td>2017/12/27</td>\n",
       "      <td>01001</td>\n",
       "      <td>＊發生重大財務事件,景氣不佳停工</td>\n",
       "      <td>T 景氣不佳停工</td>\n",
       "      <td>2474 可成</td>\n",
       "    </tr>\n",
       "    <tr>\n",
       "      <th>31</th>\n",
       "      <td>4141 龍燈-KY</td>\n",
       "      <td>2017/12/27</td>\n",
       "      <td>01001</td>\n",
       "      <td>＊發生重大財務事件,景氣不佳停工</td>\n",
       "      <td>T 景氣不佳停工</td>\n",
       "      <td>2062 橋椿</td>\n",
       "    </tr>\n",
       "  </tbody>\n",
       "</table>\n",
       "</div>"
      ],
      "text/plain": [
       "           公司碼          日期     序碼                說明      出事原因     公司碼2\n",
       "0      2371 大同  2017/12/28  01001    ＊發生其他負面事件,股價暴跌    P 股價暴跌      NaN\n",
       "12     4746 台耀  2017/12/28  01001      ＊發生其他負面事件,其他      U 其他  2371 大同\n",
       "15     2474 可成  2017/12/27  01001  ＊發生重大財務事件,景氣不佳停工  T 景氣不佳停工  4746 台耀\n",
       "19     2062 橋椿  2017/12/27  01001  ＊發生重大財務事件,景氣不佳停工  T 景氣不佳停工  2474 可成\n",
       "31  4141 龍燈-KY  2017/12/27  01001  ＊發生重大財務事件,景氣不佳停工  T 景氣不佳停工  2062 橋椿"
      ]
     },
     "execution_count": 9,
     "metadata": {},
     "output_type": "execute_result"
    }
   ],
   "source": [
    "df_same = df_news[df_news['公司碼2'] != df_news['公司碼']]   # 公司碼上下兩列不相等的\n",
    "df_same.head()"
   ]
  },
  {
   "cell_type": "code",
   "execution_count": 10,
   "metadata": {},
   "outputs": [
    {
     "data": {
      "text/plain": [
       "(2246, 6)"
      ]
     },
     "execution_count": 10,
     "metadata": {},
     "output_type": "execute_result"
    }
   ],
   "source": [
    "df_same.shape #總共2246起事件"
   ]
  },
  {
   "cell_type": "code",
   "execution_count": 11,
   "metadata": {},
   "outputs": [
    {
     "data": {
      "text/plain": [
       "array(['P 股價暴跌', 'U 其他', 'T 景氣不佳停工', '9 環保與安全', 'J 暫停交易', 'V 價值減損',\n",
       "       'Q 內控不當', '0 其他違法事件', '7 訴訟案件', '8 資訊公告', 'E 繼續經營疑慮', 'G 紓困財危',\n",
       "       '3 勞資關係差', 'F 掏空挪用', 'M 銀行緊縮', 'H 重整', '6 內線交易', 'B 董監跳票',\n",
       "       'O 大虧, 淨值低於5', 'N 全額下市', '1 紓困-非財危', 'Z 淨值為負', 'D 倒閉破產', '4 增資退補件',\n",
       "       'W 撤銷公發', '5 撤上市櫃(含興櫃)', 'L 謠傳危機', 'C 跳票擠兌'], dtype=object)"
      ]
     },
     "execution_count": 11,
     "metadata": {},
     "output_type": "execute_result"
    }
   ],
   "source": [
    "df_news[\"出事原因\"].unique()  # 列出欄位28種特殊的值"
   ]
  },
  {
   "cell_type": "code",
   "execution_count": null,
   "metadata": {},
   "outputs": [],
   "source": []
  }
 ],
 "metadata": {
  "kernelspec": {
   "display_name": "Python 3",
   "language": "python",
   "name": "python3"
  },
  "language_info": {
   "codemirror_mode": {
    "name": "ipython",
    "version": 3
   },
   "file_extension": ".py",
   "mimetype": "text/x-python",
   "name": "python",
   "nbconvert_exporter": "python",
   "pygments_lexer": "ipython3",
   "version": "3.7.4"
  }
 },
 "nbformat": 4,
 "nbformat_minor": 4
}
