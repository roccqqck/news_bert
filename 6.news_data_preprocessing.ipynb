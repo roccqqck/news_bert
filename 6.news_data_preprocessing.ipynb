{
 "cells": [
  {
   "cell_type": "code",
   "execution_count": 1,
   "metadata": {},
   "outputs": [
    {
     "name": "stderr",
     "output_type": "stream",
     "text": [
      "/home/barry/miniconda3/envs/bertenv2/lib/python3.7/site-packages/tqdm/std.py:648: FutureWarning: The Panel class is removed from pandas. Accessing it from the top-level namespace will also be removed in the next version\n",
      "  from pandas import Panel\n"
     ]
    }
   ],
   "source": [
    "import pandas as pd\n",
    "import numpy as np\n",
    "import re\n",
    "import os\n",
    "\n",
    "from tqdm import tqdm\n",
    "tqdm.pandas()"
   ]
  },
  {
   "cell_type": "markdown",
   "metadata": {},
   "source": [
    "# 1 匯入資料"
   ]
  },
  {
   "cell_type": "markdown",
   "metadata": {},
   "source": [
    "## 1-1 匯入危機公司新聞"
   ]
  },
  {
   "cell_type": "markdown",
   "metadata": {},
   "source": [
    "### 1-1-1 匯入TEJ危機公司新聞"
   ]
  },
  {
   "cell_type": "code",
   "execution_count": 2,
   "metadata": {},
   "outputs": [
    {
     "name": "stdout",
     "output_type": "stream",
     "text": [
      "(3444, 5)\n"
     ]
    },
    {
     "data": {
      "text/html": [
       "<div>\n",
       "<style scoped>\n",
       "    .dataframe tbody tr th:only-of-type {\n",
       "        vertical-align: middle;\n",
       "    }\n",
       "\n",
       "    .dataframe tbody tr th {\n",
       "        vertical-align: top;\n",
       "    }\n",
       "\n",
       "    .dataframe thead th {\n",
       "        text-align: right;\n",
       "    }\n",
       "</style>\n",
       "<table border=\"1\" class=\"dataframe\">\n",
       "  <thead>\n",
       "    <tr style=\"text-align: right;\">\n",
       "      <th></th>\n",
       "      <th>公司碼</th>\n",
       "      <th>年月</th>\n",
       "      <th>則次</th>\n",
       "      <th>序號</th>\n",
       "      <th>新聞內容</th>\n",
       "    </tr>\n",
       "  </thead>\n",
       "  <tbody>\n",
       "    <tr>\n",
       "      <th>0</th>\n",
       "      <td>2474 可成</td>\n",
       "      <td>2017/12/29</td>\n",
       "      <td>01</td>\n",
       "      <td>10</td>\n",
       "      <td>可成旗下子公司可成科技( 宿遷) 及可功科技( 宿遷)28 日分別斥資6.2 億元及6.3 ...</td>\n",
       "    </tr>\n",
       "    <tr>\n",
       "      <th>1</th>\n",
       "      <td>1611 中電</td>\n",
       "      <td>2017/12/28</td>\n",
       "      <td>01</td>\n",
       "      <td>10</td>\n",
       "      <td>公開資訊觀測站重大訊息公告                                 ...</td>\n",
       "    </tr>\n",
       "  </tbody>\n",
       "</table>\n",
       "</div>"
      ],
      "text/plain": [
       "       公司碼          年月  則次  序號  \\\n",
       "0  2474 可成  2017/12/29  01  10   \n",
       "1  1611 中電  2017/12/28  01  10   \n",
       "\n",
       "                                                新聞內容  \n",
       "0  可成旗下子公司可成科技( 宿遷) 及可功科技( 宿遷)28 日分別斥資6.2 億元及6.3 ...  \n",
       "1  公開資訊觀測站重大訊息公告                                 ...  "
      ]
     },
     "execution_count": 2,
     "metadata": {},
     "output_type": "execute_result"
    }
   ],
   "source": [
    "tej_distress = pd.read_csv('data/2018_2017_tej_distress_0423.csv')\n",
    "print(tej_distress.shape)\n",
    "tej_distress.head(2)"
   ]
  },
  {
   "cell_type": "markdown",
   "metadata": {},
   "source": [
    "### 1-1-2 匯入UDN危機公司新聞"
   ]
  },
  {
   "cell_type": "code",
   "execution_count": 3,
   "metadata": {},
   "outputs": [],
   "source": [
    "# 設定路徑，將該資料夾內所有檔案名稱列出來\n",
    "Folder_Path = 'data/udn_distress/'\n",
    "file_list = os.listdir(Folder_Path)\n",
    "# file_list"
   ]
  },
  {
   "cell_type": "code",
   "execution_count": 4,
   "metadata": {},
   "outputs": [
    {
     "name": "stdout",
     "output_type": "stream",
     "text": [
      "(2589, 3)\n"
     ]
    },
    {
     "data": {
      "text/html": [
       "<div>\n",
       "<style scoped>\n",
       "    .dataframe tbody tr th:only-of-type {\n",
       "        vertical-align: middle;\n",
       "    }\n",
       "\n",
       "    .dataframe tbody tr th {\n",
       "        vertical-align: top;\n",
       "    }\n",
       "\n",
       "    .dataframe thead th {\n",
       "        text-align: right;\n",
       "    }\n",
       "</style>\n",
       "<table border=\"1\" class=\"dataframe\">\n",
       "  <thead>\n",
       "    <tr style=\"text-align: right;\">\n",
       "      <th></th>\n",
       "      <th>company</th>\n",
       "      <th>time</th>\n",
       "      <th>content</th>\n",
       "    </tr>\n",
       "  </thead>\n",
       "  <tbody>\n",
       "    <tr>\n",
       "      <th>0</th>\n",
       "      <td>2331 精英</td>\n",
       "      <td>【2009-04-13/經濟日報/C3版/市場焦點】</td>\n",
       "      <td>（\\r\\n）積極搶攻電信業自有品牌小筆電市場宣告開花結果。\\r\\n主管表示，\\r\\n近期拿下...</td>\n",
       "    </tr>\n",
       "    <tr>\n",
       "      <th>1</th>\n",
       "      <td>2331 精英</td>\n",
       "      <td>【2009-05-08/經濟日報/C3版/市場焦點】</td>\n",
       "      <td>（\\r\\n）營運出現大轉機，新任總經理許志宏昨（7）日上任，\\r\\n將再搶下大陸第二階段家電...</td>\n",
       "    </tr>\n",
       "  </tbody>\n",
       "</table>\n",
       "</div>"
      ],
      "text/plain": [
       "   company                        time  \\\n",
       "0  2331 精英  【2009-04-13/經濟日報/C3版/市場焦點】   \n",
       "1  2331 精英  【2009-05-08/經濟日報/C3版/市場焦點】   \n",
       "\n",
       "                                             content  \n",
       "0  （\\r\\n）積極搶攻電信業自有品牌小筆電市場宣告開花結果。\\r\\n主管表示，\\r\\n近期拿下...  \n",
       "1  （\\r\\n）營運出現大轉機，新任總經理許志宏昨（7）日上任，\\r\\n將再搶下大陸第二階段家電...  "
      ]
     },
     "execution_count": 4,
     "metadata": {},
     "output_type": "execute_result"
    }
   ],
   "source": [
    "udn_distress = pd.DataFrame(columns=['company', 'title', 'time', 'content'])\n",
    "\n",
    "for file in file_list:\n",
    "    df_temp = pd.read_csv('data/udn_distress/' + file)\n",
    "    udn_distress = pd.concat([udn_distress, df_temp])\n",
    "udn_distress = udn_distress.drop('title', axis=1).dropna()\n",
    "print(udn_distress.shape)\n",
    "udn_distress.head(2)"
   ]
  },
  {
   "cell_type": "markdown",
   "metadata": {},
   "source": [
    "### 1-1-3 （針對UDN）擷取日期，把日期格式轉換為yyyy/mm/dd"
   ]
  },
  {
   "cell_type": "code",
   "execution_count": 5,
   "metadata": {},
   "outputs": [
    {
     "name": "stdout",
     "output_type": "stream",
     "text": [
      "【2009-05-25/經濟日報/C3版/市場焦點】\n",
      "2009/05/25\n",
      "2009-05-25\n"
     ]
    }
   ],
   "source": [
    "from datetime import date\n",
    "import datetime\n",
    "\n",
    "#測試一下\n",
    "\n",
    "s = udn_distress['time'].iloc[4]\n",
    "print(s)\n",
    "match = re.search('\\d+-\\d+-\\d+', s)\n",
    "date = str(match.group(0))\n",
    "date = date.replace('-', '/')\n",
    "print(date)\n",
    "date = datetime.datetime.strptime(date, '%Y/%m/%d').date()\n",
    "# date = datetime.datetime.strptime(match.group(0), '%Y-%m-%d').date()\n",
    "print(date)"
   ]
  },
  {
   "cell_type": "code",
   "execution_count": 6,
   "metadata": {},
   "outputs": [
    {
     "name": "stdout",
     "output_type": "stream",
     "text": [
      "(2589, 4)\n"
     ]
    },
    {
     "data": {
      "text/html": [
       "<div>\n",
       "<style scoped>\n",
       "    .dataframe tbody tr th:only-of-type {\n",
       "        vertical-align: middle;\n",
       "    }\n",
       "\n",
       "    .dataframe tbody tr th {\n",
       "        vertical-align: top;\n",
       "    }\n",
       "\n",
       "    .dataframe thead th {\n",
       "        text-align: right;\n",
       "    }\n",
       "</style>\n",
       "<table border=\"1\" class=\"dataframe\">\n",
       "  <thead>\n",
       "    <tr style=\"text-align: right;\">\n",
       "      <th></th>\n",
       "      <th>company</th>\n",
       "      <th>time</th>\n",
       "      <th>content</th>\n",
       "      <th>date</th>\n",
       "    </tr>\n",
       "  </thead>\n",
       "  <tbody>\n",
       "    <tr>\n",
       "      <th>0</th>\n",
       "      <td>2331 精英</td>\n",
       "      <td>【2009-04-13/經濟日報/C3版/市場焦點】</td>\n",
       "      <td>（\\r\\n）積極搶攻電信業自有品牌小筆電市場宣告開花結果。\\r\\n主管表示，\\r\\n近期拿下...</td>\n",
       "      <td>2009/04/13</td>\n",
       "    </tr>\n",
       "    <tr>\n",
       "      <th>1</th>\n",
       "      <td>2331 精英</td>\n",
       "      <td>【2009-05-08/經濟日報/C3版/市場焦點】</td>\n",
       "      <td>（\\r\\n）營運出現大轉機，新任總經理許志宏昨（7）日上任，\\r\\n將再搶下大陸第二階段家電...</td>\n",
       "      <td>2009/05/08</td>\n",
       "    </tr>\n",
       "  </tbody>\n",
       "</table>\n",
       "</div>"
      ],
      "text/plain": [
       "   company                        time  \\\n",
       "0  2331 精英  【2009-04-13/經濟日報/C3版/市場焦點】   \n",
       "1  2331 精英  【2009-05-08/經濟日報/C3版/市場焦點】   \n",
       "\n",
       "                                             content        date  \n",
       "0  （\\r\\n）積極搶攻電信業自有品牌小筆電市場宣告開花結果。\\r\\n主管表示，\\r\\n近期拿下...  2009/04/13  \n",
       "1  （\\r\\n）營運出現大轉機，新任總經理許志宏昨（7）日上任，\\r\\n將再搶下大陸第二階段家電...  2009/05/08  "
      ]
     },
     "execution_count": 6,
     "metadata": {},
     "output_type": "execute_result"
    }
   ],
   "source": [
    "dates = []\n",
    "for time in udn_distress['time']:\n",
    "    s = time\n",
    "    match = re.search('\\d+-\\d+-\\d+', s)\n",
    "    date = str(match.group(0))\n",
    "    date = date.replace('-', '/')\n",
    "    dates.append(date)\n",
    "udn_distress['date'] = dates\n",
    "# udn_distress.drop('time', axis=1, inplace=True)\n",
    "print(udn_distress.shape)\n",
    "udn_distress.head(2)"
   ]
  },
  {
   "cell_type": "code",
   "execution_count": 7,
   "metadata": {},
   "outputs": [
    {
     "name": "stdout",
     "output_type": "stream",
     "text": [
      "(2589, 4)\n"
     ]
    },
    {
     "data": {
      "text/html": [
       "<div>\n",
       "<style scoped>\n",
       "    .dataframe tbody tr th:only-of-type {\n",
       "        vertical-align: middle;\n",
       "    }\n",
       "\n",
       "    .dataframe tbody tr th {\n",
       "        vertical-align: top;\n",
       "    }\n",
       "\n",
       "    .dataframe thead th {\n",
       "        text-align: right;\n",
       "    }\n",
       "</style>\n",
       "<table border=\"1\" class=\"dataframe\">\n",
       "  <thead>\n",
       "    <tr style=\"text-align: right;\">\n",
       "      <th></th>\n",
       "      <th>company</th>\n",
       "      <th>time</th>\n",
       "      <th>content</th>\n",
       "      <th>date</th>\n",
       "    </tr>\n",
       "  </thead>\n",
       "  <tbody>\n",
       "    <tr>\n",
       "      <th>0</th>\n",
       "      <td>2331 精英</td>\n",
       "      <td>【2009-04-13/經濟日報/C3版/市場焦點】</td>\n",
       "      <td>（  ）積極搶攻電信業自有品牌小筆電市場宣告開花結果。  主管表示，  近期拿下遠傳（490...</td>\n",
       "      <td>2009/04/13</td>\n",
       "    </tr>\n",
       "    <tr>\n",
       "      <th>1</th>\n",
       "      <td>2331 精英</td>\n",
       "      <td>【2009-05-08/經濟日報/C3版/市場焦點】</td>\n",
       "      <td>（  ）營運出現大轉機，新任總經理許志宏昨（7）日上任，  將再搶下大陸第二階段家電下鄉大單...</td>\n",
       "      <td>2009/05/08</td>\n",
       "    </tr>\n",
       "  </tbody>\n",
       "</table>\n",
       "</div>"
      ],
      "text/plain": [
       "   company                        time  \\\n",
       "0  2331 精英  【2009-04-13/經濟日報/C3版/市場焦點】   \n",
       "1  2331 精英  【2009-05-08/經濟日報/C3版/市場焦點】   \n",
       "\n",
       "                                             content        date  \n",
       "0  （  ）積極搶攻電信業自有品牌小筆電市場宣告開花結果。  主管表示，  近期拿下遠傳（490...  2009/04/13  \n",
       "1  （  ）營運出現大轉機，新任總經理許志宏昨（7）日上任，  將再搶下大陸第二階段家電下鄉大單...  2009/05/08  "
      ]
     },
     "execution_count": 7,
     "metadata": {},
     "output_type": "execute_result"
    }
   ],
   "source": [
    "# 把一些字串刪掉改空格\n",
    "udn_distress['content'] = udn_distress['content'].astype(str).str.replace('\\r' , ' ').str.replace('\\t' , ' ').str.replace(\"\\n\", \" \").str.replace(\",\", \" \").str.replace('\"' , ' ').str.replace(\"'\" , ' ')\n",
    "udn_distress['company'] = udn_distress['company'].astype(str).str.replace('\\r' , ' ').str.replace('\\t' , ' ').str.replace(\"\\n\", \" \").str.replace(\",\", \" \").str.replace('\"' , ' ').str.replace(\"'\" , ' ')\n",
    "print(udn_distress.shape)\n",
    "udn_distress.head(2)"
   ]
  },
  {
   "cell_type": "code",
   "execution_count": 8,
   "metadata": {},
   "outputs": [
    {
     "name": "stdout",
     "output_type": "stream",
     "text": [
      "(2589, 3)\n"
     ]
    },
    {
     "data": {
      "text/html": [
       "<div>\n",
       "<style scoped>\n",
       "    .dataframe tbody tr th:only-of-type {\n",
       "        vertical-align: middle;\n",
       "    }\n",
       "\n",
       "    .dataframe tbody tr th {\n",
       "        vertical-align: top;\n",
       "    }\n",
       "\n",
       "    .dataframe thead th {\n",
       "        text-align: right;\n",
       "    }\n",
       "</style>\n",
       "<table border=\"1\" class=\"dataframe\">\n",
       "  <thead>\n",
       "    <tr style=\"text-align: right;\">\n",
       "      <th></th>\n",
       "      <th>company</th>\n",
       "      <th>content</th>\n",
       "      <th>date</th>\n",
       "    </tr>\n",
       "  </thead>\n",
       "  <tbody>\n",
       "    <tr>\n",
       "      <th>0</th>\n",
       "      <td>2331 精英</td>\n",
       "      <td>（  ）積極搶攻電信業自有品牌小筆電市場宣告開花結果。  主管表示，  近期拿下遠傳（490...</td>\n",
       "      <td>2009/04/13</td>\n",
       "    </tr>\n",
       "    <tr>\n",
       "      <th>1</th>\n",
       "      <td>2331 精英</td>\n",
       "      <td>（  ）營運出現大轉機，新任總經理許志宏昨（7）日上任，  將再搶下大陸第二階段家電下鄉大單...</td>\n",
       "      <td>2009/05/08</td>\n",
       "    </tr>\n",
       "  </tbody>\n",
       "</table>\n",
       "</div>"
      ],
      "text/plain": [
       "   company                                            content        date\n",
       "0  2331 精英  （  ）積極搶攻電信業自有品牌小筆電市場宣告開花結果。  主管表示，  近期拿下遠傳（490...  2009/04/13\n",
       "1  2331 精英  （  ）營運出現大轉機，新任總經理許志宏昨（7）日上任，  將再搶下大陸第二階段家電下鄉大單...  2009/05/08"
      ]
     },
     "execution_count": 8,
     "metadata": {},
     "output_type": "execute_result"
    }
   ],
   "source": [
    "udn_distress = udn_distress.loc[:, ['company', 'content', 'date']]\n",
    "print(udn_distress.shape)\n",
    "udn_distress.head(2)"
   ]
  },
  {
   "cell_type": "code",
   "execution_count": null,
   "metadata": {},
   "outputs": [],
   "source": [
    "udn_distress.to_csv(\"data/udn_distress_news.csv\", index=False)"
   ]
  },
  {
   "cell_type": "code",
   "execution_count": 9,
   "metadata": {},
   "outputs": [
    {
     "name": "stdout",
     "output_type": "stream",
     "text": [
      "(2589, 3)\n"
     ]
    },
    {
     "data": {
      "text/html": [
       "<div>\n",
       "<style scoped>\n",
       "    .dataframe tbody tr th:only-of-type {\n",
       "        vertical-align: middle;\n",
       "    }\n",
       "\n",
       "    .dataframe tbody tr th {\n",
       "        vertical-align: top;\n",
       "    }\n",
       "\n",
       "    .dataframe thead th {\n",
       "        text-align: right;\n",
       "    }\n",
       "</style>\n",
       "<table border=\"1\" class=\"dataframe\">\n",
       "  <thead>\n",
       "    <tr style=\"text-align: right;\">\n",
       "      <th></th>\n",
       "      <th>company</th>\n",
       "      <th>content</th>\n",
       "      <th>date</th>\n",
       "    </tr>\n",
       "  </thead>\n",
       "  <tbody>\n",
       "    <tr>\n",
       "      <th>0</th>\n",
       "      <td>2331 精英</td>\n",
       "      <td>（  ）積極搶攻電信業自有品牌小筆電市場宣告開花結果。  主管表示，  近期拿下遠傳（490...</td>\n",
       "      <td>2009/04/13</td>\n",
       "    </tr>\n",
       "    <tr>\n",
       "      <th>1</th>\n",
       "      <td>2331 精英</td>\n",
       "      <td>（  ）營運出現大轉機，新任總經理許志宏昨（7）日上任，  將再搶下大陸第二階段家電下鄉大單...</td>\n",
       "      <td>2009/05/08</td>\n",
       "    </tr>\n",
       "  </tbody>\n",
       "</table>\n",
       "</div>"
      ],
      "text/plain": [
       "   company                                            content        date\n",
       "0  2331 精英  （  ）積極搶攻電信業自有品牌小筆電市場宣告開花結果。  主管表示，  近期拿下遠傳（490...  2009/04/13\n",
       "1  2331 精英  （  ）營運出現大轉機，新任總經理許志宏昨（7）日上任，  將再搶下大陸第二階段家電下鄉大單...  2009/05/08"
      ]
     },
     "execution_count": 9,
     "metadata": {},
     "output_type": "execute_result"
    }
   ],
   "source": [
    "udn_distress = pd.read_csv(\"data/udn_distress_news.csv\", encoding=\"utf-8\")\n",
    "print(udn_distress.shape)\n",
    "udn_distress.head(2)"
   ]
  },
  {
   "cell_type": "markdown",
   "metadata": {},
   "source": [
    "### 1-1-4 合併危機公司資料集為 distress_news"
   ]
  },
  {
   "cell_type": "code",
   "execution_count": 10,
   "metadata": {},
   "outputs": [
    {
     "name": "stdout",
     "output_type": "stream",
     "text": [
      "(6033, 3)\n"
     ]
    },
    {
     "data": {
      "text/html": [
       "<div>\n",
       "<style scoped>\n",
       "    .dataframe tbody tr th:only-of-type {\n",
       "        vertical-align: middle;\n",
       "    }\n",
       "\n",
       "    .dataframe tbody tr th {\n",
       "        vertical-align: top;\n",
       "    }\n",
       "\n",
       "    .dataframe thead th {\n",
       "        text-align: right;\n",
       "    }\n",
       "</style>\n",
       "<table border=\"1\" class=\"dataframe\">\n",
       "  <thead>\n",
       "    <tr style=\"text-align: right;\">\n",
       "      <th></th>\n",
       "      <th>company</th>\n",
       "      <th>date</th>\n",
       "      <th>content</th>\n",
       "    </tr>\n",
       "  </thead>\n",
       "  <tbody>\n",
       "    <tr>\n",
       "      <th>0</th>\n",
       "      <td>2331 精英</td>\n",
       "      <td>2009/04/13</td>\n",
       "      <td>（  ）積極搶攻電信業自有品牌小筆電市場宣告開花結果。  主管表示，  近期拿下遠傳（490...</td>\n",
       "    </tr>\n",
       "    <tr>\n",
       "      <th>1</th>\n",
       "      <td>2331 精英</td>\n",
       "      <td>2009/05/08</td>\n",
       "      <td>（  ）營運出現大轉機，新任總經理許志宏昨（7）日上任，  將再搶下大陸第二階段家電下鄉大單...</td>\n",
       "    </tr>\n",
       "  </tbody>\n",
       "</table>\n",
       "</div>"
      ],
      "text/plain": [
       "   company        date                                            content\n",
       "0  2331 精英  2009/04/13  （  ）積極搶攻電信業自有品牌小筆電市場宣告開花結果。  主管表示，  近期拿下遠傳（490...\n",
       "1  2331 精英  2009/05/08  （  ）營運出現大轉機，新任總經理許志宏昨（7）日上任，  將再搶下大陸第二階段家電下鄉大單..."
      ]
     },
     "execution_count": 10,
     "metadata": {},
     "output_type": "execute_result"
    }
   ],
   "source": [
    "distress_news = pd.DataFrame(columns=['company', 'date', 'content'])\n",
    "company = udn_distress['company']\n",
    "company = company.append(tej_distress['公司碼'])\n",
    "date = udn_distress['date']\n",
    "date = date.append(tej_distress['年月'])\n",
    "content = udn_distress['content']\n",
    "content = content.append(tej_distress['新聞內容'])\n",
    "distress_news['company'] = company\n",
    "distress_news['date'] = date\n",
    "distress_news['content'] = content\n",
    "print(distress_news.shape)\n",
    "distress_news.head(2)"
   ]
  },
  {
   "cell_type": "code",
   "execution_count": null,
   "metadata": {},
   "outputs": [],
   "source": [
    "distress_news.to_csv(\"data/tej_udn_distress_news.csv\", index=False)"
   ]
  },
  {
   "cell_type": "code",
   "execution_count": 11,
   "metadata": {},
   "outputs": [
    {
     "name": "stdout",
     "output_type": "stream",
     "text": [
      "(6033, 3)\n"
     ]
    },
    {
     "data": {
      "text/html": [
       "<div>\n",
       "<style scoped>\n",
       "    .dataframe tbody tr th:only-of-type {\n",
       "        vertical-align: middle;\n",
       "    }\n",
       "\n",
       "    .dataframe tbody tr th {\n",
       "        vertical-align: top;\n",
       "    }\n",
       "\n",
       "    .dataframe thead th {\n",
       "        text-align: right;\n",
       "    }\n",
       "</style>\n",
       "<table border=\"1\" class=\"dataframe\">\n",
       "  <thead>\n",
       "    <tr style=\"text-align: right;\">\n",
       "      <th></th>\n",
       "      <th>company</th>\n",
       "      <th>date</th>\n",
       "      <th>content</th>\n",
       "    </tr>\n",
       "  </thead>\n",
       "  <tbody>\n",
       "    <tr>\n",
       "      <th>0</th>\n",
       "      <td>2331 精英</td>\n",
       "      <td>2009/04/13</td>\n",
       "      <td>（  ）積極搶攻電信業自有品牌小筆電市場宣告開花結果。  主管表示，  近期拿下遠傳（490...</td>\n",
       "    </tr>\n",
       "    <tr>\n",
       "      <th>1</th>\n",
       "      <td>2331 精英</td>\n",
       "      <td>2009/05/08</td>\n",
       "      <td>（  ）營運出現大轉機，新任總經理許志宏昨（7）日上任，  將再搶下大陸第二階段家電下鄉大單...</td>\n",
       "    </tr>\n",
       "  </tbody>\n",
       "</table>\n",
       "</div>"
      ],
      "text/plain": [
       "   company        date                                            content\n",
       "0  2331 精英  2009/04/13  （  ）積極搶攻電信業自有品牌小筆電市場宣告開花結果。  主管表示，  近期拿下遠傳（490...\n",
       "1  2331 精英  2009/05/08  （  ）營運出現大轉機，新任總經理許志宏昨（7）日上任，  將再搶下大陸第二階段家電下鄉大單..."
      ]
     },
     "execution_count": 11,
     "metadata": {},
     "output_type": "execute_result"
    }
   ],
   "source": [
    "distress_news = pd.read_csv(\"data/tej_udn_distress_news.csv\", encoding=\"utf-8\")\n",
    "print(distress_news.shape)\n",
    "distress_news.head(2)"
   ]
  },
  {
   "cell_type": "markdown",
   "metadata": {},
   "source": [
    "## 1-2 匯入正常公司新聞"
   ]
  },
  {
   "cell_type": "markdown",
   "metadata": {},
   "source": [
    "### 1-2-1 匯入TFJ正常公司新聞"
   ]
  },
  {
   "cell_type": "code",
   "execution_count": 12,
   "metadata": {},
   "outputs": [
    {
     "name": "stdout",
     "output_type": "stream",
     "text": [
      "(7269, 5)\n"
     ]
    },
    {
     "data": {
      "text/html": [
       "<div>\n",
       "<style scoped>\n",
       "    .dataframe tbody tr th:only-of-type {\n",
       "        vertical-align: middle;\n",
       "    }\n",
       "\n",
       "    .dataframe tbody tr th {\n",
       "        vertical-align: top;\n",
       "    }\n",
       "\n",
       "    .dataframe thead th {\n",
       "        text-align: right;\n",
       "    }\n",
       "</style>\n",
       "<table border=\"1\" class=\"dataframe\">\n",
       "  <thead>\n",
       "    <tr style=\"text-align: right;\">\n",
       "      <th></th>\n",
       "      <th>公司碼</th>\n",
       "      <th>年月</th>\n",
       "      <th>則次</th>\n",
       "      <th>序號</th>\n",
       "      <th>新聞內容</th>\n",
       "    </tr>\n",
       "  </thead>\n",
       "  <tbody>\n",
       "    <tr>\n",
       "      <th>0</th>\n",
       "      <td>9946 三發地產</td>\n",
       "      <td>2017/12/26</td>\n",
       "      <td>01</td>\n",
       "      <td>10</td>\n",
       "      <td>三發地產(9946)昨(25)日舉行法說會時表示，總銷50億元的高雄「三發晶沙」、總銷50億...</td>\n",
       "    </tr>\n",
       "    <tr>\n",
       "      <th>1</th>\n",
       "      <td>2049 上銀</td>\n",
       "      <td>2017/12/11</td>\n",
       "      <td>01</td>\n",
       "      <td>10</td>\n",
       "      <td>上銀(2049)公佈11月合併營收首度突破20億元，達20.41億元，月增3.5%、年增34...</td>\n",
       "    </tr>\n",
       "  </tbody>\n",
       "</table>\n",
       "</div>"
      ],
      "text/plain": [
       "         公司碼          年月  則次  序號  \\\n",
       "0  9946 三發地產  2017/12/26  01  10   \n",
       "1    2049 上銀  2017/12/11  01  10   \n",
       "\n",
       "                                                新聞內容  \n",
       "0  三發地產(9946)昨(25)日舉行法說會時表示，總銷50億元的高雄「三發晶沙」、總銷50億...  \n",
       "1  上銀(2049)公佈11月合併營收首度突破20億元，達20.41億元，月增3.5%、年增34...  "
      ]
     },
     "execution_count": 12,
     "metadata": {},
     "output_type": "execute_result"
    }
   ],
   "source": [
    "tej_normal = pd.read_csv('data/2018_2017_tej_normal_0423.csv')\n",
    "print(tej_normal.shape)\n",
    "tej_normal.head(2)"
   ]
  },
  {
   "cell_type": "markdown",
   "metadata": {},
   "source": [
    "### 1-2-2 匯入UDN正常公司新聞（0422：正常公司的UDN資料蒐集不完整，暫不採納）"
   ]
  },
  {
   "cell_type": "code",
   "execution_count": null,
   "metadata": {},
   "outputs": [],
   "source": [
    "# Folder_Path = '/home/michael/Documents/M10609101_Thesis/News/udn/normal/'\n",
    "# file_list = os.listdir(Folder_Path)\n",
    "# # file_list"
   ]
  },
  {
   "cell_type": "code",
   "execution_count": null,
   "metadata": {},
   "outputs": [],
   "source": [
    "# udn_normal = pd.DataFrame(columns=['company', 'title', 'time', 'content'])\n",
    "\n",
    "# for file in file_list:\n",
    "#     df_temp = pd.read_csv('News/udn/normal/' + file)\n",
    "#     udn_normal = pd.concat([udn_normal, df_temp])\n",
    "# udn_normal = udn_normal.drop('title', axis=1).dropna()\n",
    "# udn_normal.head()"
   ]
  },
  {
   "cell_type": "code",
   "execution_count": null,
   "metadata": {},
   "outputs": [],
   "source": [
    "# len(udn_normal)"
   ]
  },
  {
   "cell_type": "markdown",
   "metadata": {},
   "source": [
    "### 1-2-3 （針對UDN）擷取日期，把日期格式轉換為yyyy/mm/dd（0422：正常公司的UDN資料蒐集不完整，暫不採納）"
   ]
  },
  {
   "cell_type": "code",
   "execution_count": null,
   "metadata": {},
   "outputs": [],
   "source": [
    "# dates = []\n",
    "# for time in udn_normal['time']:\n",
    "#     s = time\n",
    "#     match = re.search('\\d+-\\d+-\\d+', s)\n",
    "#     date = str(match.group(0))\n",
    "#     date = date.replace('-', '/')\n",
    "#     dates.append(date)\n",
    "# udn_normal['date'] = dates\n",
    "# # udn_normal.drop('time', axis=1, inplace=True)\n",
    "# udn_normal.tail()"
   ]
  },
  {
   "cell_type": "markdown",
   "metadata": {},
   "source": [
    "### 1-2-4 合併危機公司資料集為 normal_news"
   ]
  },
  {
   "cell_type": "code",
   "execution_count": 13,
   "metadata": {},
   "outputs": [
    {
     "name": "stdout",
     "output_type": "stream",
     "text": [
      "(7269, 3)\n"
     ]
    },
    {
     "data": {
      "text/html": [
       "<div>\n",
       "<style scoped>\n",
       "    .dataframe tbody tr th:only-of-type {\n",
       "        vertical-align: middle;\n",
       "    }\n",
       "\n",
       "    .dataframe tbody tr th {\n",
       "        vertical-align: top;\n",
       "    }\n",
       "\n",
       "    .dataframe thead th {\n",
       "        text-align: right;\n",
       "    }\n",
       "</style>\n",
       "<table border=\"1\" class=\"dataframe\">\n",
       "  <thead>\n",
       "    <tr style=\"text-align: right;\">\n",
       "      <th></th>\n",
       "      <th>company</th>\n",
       "      <th>date</th>\n",
       "      <th>content</th>\n",
       "    </tr>\n",
       "  </thead>\n",
       "  <tbody>\n",
       "    <tr>\n",
       "      <th>0</th>\n",
       "      <td>9946 三發地產</td>\n",
       "      <td>2017/12/26</td>\n",
       "      <td>三發地產(9946)昨(25)日舉行法說會時表示，總銷50億元的高雄「三發晶沙」、總銷50億...</td>\n",
       "    </tr>\n",
       "    <tr>\n",
       "      <th>1</th>\n",
       "      <td>2049 上銀</td>\n",
       "      <td>2017/12/11</td>\n",
       "      <td>上銀(2049)公佈11月合併營收首度突破20億元，達20.41億元，月增3.5%、年增34...</td>\n",
       "    </tr>\n",
       "  </tbody>\n",
       "</table>\n",
       "</div>"
      ],
      "text/plain": [
       "     company        date                                            content\n",
       "0  9946 三發地產  2017/12/26  三發地產(9946)昨(25)日舉行法說會時表示，總銷50億元的高雄「三發晶沙」、總銷50億...\n",
       "1    2049 上銀  2017/12/11  上銀(2049)公佈11月合併營收首度突破20億元，達20.41億元，月增3.5%、年增34..."
      ]
     },
     "execution_count": 13,
     "metadata": {},
     "output_type": "execute_result"
    }
   ],
   "source": [
    "normal_news = pd.DataFrame(columns=['company', 'date', 'content'])\n",
    "normal_news['company'] = tej_normal['公司碼']\n",
    "normal_news['date'] = tej_normal['年月']\n",
    "normal_news['content'] = tej_normal['新聞內容']\n",
    "print(normal_news.shape)\n",
    "normal_news.head(2)"
   ]
  },
  {
   "cell_type": "code",
   "execution_count": null,
   "metadata": {},
   "outputs": [],
   "source": [
    "# normal_news = pd.DataFrame(columns=['company', 'date', 'content'])\n",
    "# company = udn_normal['company']\n",
    "# company = company.append(tej_normal['公司碼'])\n",
    "# date = udn_normal['date']\n",
    "# date = date.append(tej_normal['年月'])\n",
    "# content = udn_normal['content']\n",
    "# content = content.append(tej_normal['新聞內容'])\n",
    "# normal_news['company'] = company\n",
    "# normal_news['date'] = date\n",
    "# normal_news['content'] = content\n",
    "# normal_news.head()"
   ]
  },
  {
   "cell_type": "code",
   "execution_count": null,
   "metadata": {},
   "outputs": [],
   "source": [
    "normal_news.to_csv(\"data/tej_normal_news.csv\", index=False)"
   ]
  },
  {
   "cell_type": "code",
   "execution_count": 14,
   "metadata": {},
   "outputs": [
    {
     "name": "stdout",
     "output_type": "stream",
     "text": [
      "(7269, 3)\n"
     ]
    },
    {
     "data": {
      "text/html": [
       "<div>\n",
       "<style scoped>\n",
       "    .dataframe tbody tr th:only-of-type {\n",
       "        vertical-align: middle;\n",
       "    }\n",
       "\n",
       "    .dataframe tbody tr th {\n",
       "        vertical-align: top;\n",
       "    }\n",
       "\n",
       "    .dataframe thead th {\n",
       "        text-align: right;\n",
       "    }\n",
       "</style>\n",
       "<table border=\"1\" class=\"dataframe\">\n",
       "  <thead>\n",
       "    <tr style=\"text-align: right;\">\n",
       "      <th></th>\n",
       "      <th>company</th>\n",
       "      <th>date</th>\n",
       "      <th>content</th>\n",
       "    </tr>\n",
       "  </thead>\n",
       "  <tbody>\n",
       "    <tr>\n",
       "      <th>0</th>\n",
       "      <td>9946 三發地產</td>\n",
       "      <td>2017/12/26</td>\n",
       "      <td>三發地產(9946)昨(25)日舉行法說會時表示，總銷50億元的高雄「三發晶沙」、總銷50億...</td>\n",
       "    </tr>\n",
       "    <tr>\n",
       "      <th>1</th>\n",
       "      <td>2049 上銀</td>\n",
       "      <td>2017/12/11</td>\n",
       "      <td>上銀(2049)公佈11月合併營收首度突破20億元，達20.41億元，月增3.5%、年增34...</td>\n",
       "    </tr>\n",
       "  </tbody>\n",
       "</table>\n",
       "</div>"
      ],
      "text/plain": [
       "     company        date                                            content\n",
       "0  9946 三發地產  2017/12/26  三發地產(9946)昨(25)日舉行法說會時表示，總銷50億元的高雄「三發晶沙」、總銷50億...\n",
       "1    2049 上銀  2017/12/11  上銀(2049)公佈11月合併營收首度突破20億元，達20.41億元，月增3.5%、年增34..."
      ]
     },
     "execution_count": 14,
     "metadata": {},
     "output_type": "execute_result"
    }
   ],
   "source": [
    "normal_news = pd.read_csv(\"data/tej_normal_news.csv\", encoding=\"utf-8\")\n",
    "print(normal_news.shape)\n",
    "normal_news.head(2)"
   ]
  },
  {
   "cell_type": "code",
   "execution_count": 15,
   "metadata": {},
   "outputs": [
    {
     "name": "stdout",
     "output_type": "stream",
     "text": [
      "(13302, 3)\n"
     ]
    },
    {
     "data": {
      "text/html": [
       "<div>\n",
       "<style scoped>\n",
       "    .dataframe tbody tr th:only-of-type {\n",
       "        vertical-align: middle;\n",
       "    }\n",
       "\n",
       "    .dataframe tbody tr th {\n",
       "        vertical-align: top;\n",
       "    }\n",
       "\n",
       "    .dataframe thead th {\n",
       "        text-align: right;\n",
       "    }\n",
       "</style>\n",
       "<table border=\"1\" class=\"dataframe\">\n",
       "  <thead>\n",
       "    <tr style=\"text-align: right;\">\n",
       "      <th></th>\n",
       "      <th>company</th>\n",
       "      <th>date</th>\n",
       "      <th>content</th>\n",
       "    </tr>\n",
       "  </thead>\n",
       "  <tbody>\n",
       "    <tr>\n",
       "      <th>0</th>\n",
       "      <td>9946 三發地產</td>\n",
       "      <td>2017/12/26</td>\n",
       "      <td>三發地產(9946)昨(25)日舉行法說會時表示，總銷50億元的高雄「三發晶沙」、總銷50億...</td>\n",
       "    </tr>\n",
       "    <tr>\n",
       "      <th>1</th>\n",
       "      <td>2049 上銀</td>\n",
       "      <td>2017/12/11</td>\n",
       "      <td>上銀(2049)公佈11月合併營收首度突破20億元，達20.41億元，月增3.5%、年增34...</td>\n",
       "    </tr>\n",
       "  </tbody>\n",
       "</table>\n",
       "</div>"
      ],
      "text/plain": [
       "     company        date                                            content\n",
       "0  9946 三發地產  2017/12/26  三發地產(9946)昨(25)日舉行法說會時表示，總銷50億元的高雄「三發晶沙」、總銷50億...\n",
       "1    2049 上銀  2017/12/11  上銀(2049)公佈11月合併營收首度突破20億元，達20.41億元，月增3.5%、年增34..."
      ]
     },
     "execution_count": 15,
     "metadata": {},
     "output_type": "execute_result"
    }
   ],
   "source": [
    "all_news = pd.concat([normal_news, distress_news])   # 上下合併\n",
    "print(all_news.shape)\n",
    "all_news.head(2)"
   ]
  },
  {
   "cell_type": "code",
   "execution_count": 16,
   "metadata": {},
   "outputs": [
    {
     "name": "stdout",
     "output_type": "stream",
     "text": [
      "(13302, 3)\n"
     ]
    },
    {
     "data": {
      "text/html": [
       "<div>\n",
       "<style scoped>\n",
       "    .dataframe tbody tr th:only-of-type {\n",
       "        vertical-align: middle;\n",
       "    }\n",
       "\n",
       "    .dataframe tbody tr th {\n",
       "        vertical-align: top;\n",
       "    }\n",
       "\n",
       "    .dataframe thead th {\n",
       "        text-align: right;\n",
       "    }\n",
       "</style>\n",
       "<table border=\"1\" class=\"dataframe\">\n",
       "  <thead>\n",
       "    <tr style=\"text-align: right;\">\n",
       "      <th></th>\n",
       "      <th>company</th>\n",
       "      <th>date</th>\n",
       "      <th>content</th>\n",
       "    </tr>\n",
       "  </thead>\n",
       "  <tbody>\n",
       "    <tr>\n",
       "      <th>0</th>\n",
       "      <td>2316 楠梓電</td>\n",
       "      <td>2007-01-01</td>\n",
       "      <td>印刷電路板產業「大者恆大」趨勢愈來愈明顯，即使景氣連續兩年上升，大廠對於今年不看淡，下游手機...</td>\n",
       "    </tr>\n",
       "    <tr>\n",
       "      <th>1</th>\n",
       "      <td>5469 瀚宇博</td>\n",
       "      <td>2007-01-01</td>\n",
       "      <td>印刷電路板產業「大者恆大」趨勢愈來愈明顯，即使景氣連續兩年上升，大廠對於今年不看淡，下游手機...</td>\n",
       "    </tr>\n",
       "  </tbody>\n",
       "</table>\n",
       "</div>"
      ],
      "text/plain": [
       "    company       date                                            content\n",
       "0  2316 楠梓電 2007-01-01  印刷電路板產業「大者恆大」趨勢愈來愈明顯，即使景氣連續兩年上升，大廠對於今年不看淡，下游手機...\n",
       "1  5469 瀚宇博 2007-01-01  印刷電路板產業「大者恆大」趨勢愈來愈明顯，即使景氣連續兩年上升，大廠對於今年不看淡，下游手機..."
      ]
     },
     "execution_count": 16,
     "metadata": {},
     "output_type": "execute_result"
    }
   ],
   "source": [
    "all_news['date'] = pd.to_datetime(all_news['date'])\n",
    "all_news = all_news.sort_values(by=['date']).reset_index(drop=True) # 用post_time排序 # 在重設index\n",
    "print(all_news.shape)\n",
    "all_news.head(2)"
   ]
  },
  {
   "cell_type": "code",
   "execution_count": null,
   "metadata": {},
   "outputs": [],
   "source": [
    "all_news.to_csv(\"data/tej_udn_all_news.csv\", index=False)"
   ]
  },
  {
   "cell_type": "markdown",
   "metadata": {},
   "source": [
    "## 2-3 每間公司風險分布\n",
    "使用意藍2015年風險資料集、經過BERT主題模型產生的model 將每篇文章輸出1*5的output\n",
    "\n",
    "13302篇文章就有13302*5"
   ]
  },
  {
   "cell_type": "code",
   "execution_count": 1,
   "metadata": {},
   "outputs": [
    {
     "name": "stderr",
     "output_type": "stream",
     "text": [
      "/home/barry/miniconda3/envs/bertenv2/lib/python3.7/site-packages/tqdm/std.py:648: FutureWarning: The Panel class is removed from pandas. Accessing it from the top-level namespace will also be removed in the next version\n",
      "  from pandas import Panel\n"
     ]
    }
   ],
   "source": [
    "import pandas as pd\n",
    "import numpy as np\n",
    "import re\n",
    "import os\n",
    "\n",
    "from tqdm import tqdm\n",
    "tqdm.pandas()\n",
    "\n",
    "import tensorflow as tf\n",
    "from transformers import BertTokenizer, TFBertModel, TFBertForSequenceClassification, AdamW\n",
    "\n",
    "from tensorflow.keras import Sequential, Model, Input\n",
    "from tensorflow.keras.layers import Dense, Embedding, SpatialDropout1D, Dropout, Activation, Flatten, InputLayer"
   ]
  },
  {
   "cell_type": "code",
   "execution_count": 3,
   "metadata": {},
   "outputs": [
    {
     "name": "stdout",
     "output_type": "stream",
     "text": [
      "(13302, 3)\n"
     ]
    },
    {
     "data": {
      "text/html": [
       "<div>\n",
       "<style scoped>\n",
       "    .dataframe tbody tr th:only-of-type {\n",
       "        vertical-align: middle;\n",
       "    }\n",
       "\n",
       "    .dataframe tbody tr th {\n",
       "        vertical-align: top;\n",
       "    }\n",
       "\n",
       "    .dataframe thead th {\n",
       "        text-align: right;\n",
       "    }\n",
       "</style>\n",
       "<table border=\"1\" class=\"dataframe\">\n",
       "  <thead>\n",
       "    <tr style=\"text-align: right;\">\n",
       "      <th></th>\n",
       "      <th>company</th>\n",
       "      <th>date</th>\n",
       "      <th>content</th>\n",
       "    </tr>\n",
       "  </thead>\n",
       "  <tbody>\n",
       "    <tr>\n",
       "      <th>0</th>\n",
       "      <td>2316 楠梓電</td>\n",
       "      <td>2007-01-01</td>\n",
       "      <td>印刷電路板產業「大者恆大」趨勢愈來愈明顯，即使景氣連續兩年上升，大廠對於今年不看淡，下游手機...</td>\n",
       "    </tr>\n",
       "    <tr>\n",
       "      <th>1</th>\n",
       "      <td>5469 瀚宇博</td>\n",
       "      <td>2007-01-01</td>\n",
       "      <td>印刷電路板產業「大者恆大」趨勢愈來愈明顯，即使景氣連續兩年上升，大廠對於今年不看淡，下游手機...</td>\n",
       "    </tr>\n",
       "  </tbody>\n",
       "</table>\n",
       "</div>"
      ],
      "text/plain": [
       "    company        date                                            content\n",
       "0  2316 楠梓電  2007-01-01  印刷電路板產業「大者恆大」趨勢愈來愈明顯，即使景氣連續兩年上升，大廠對於今年不看淡，下游手機...\n",
       "1  5469 瀚宇博  2007-01-01  印刷電路板產業「大者恆大」趨勢愈來愈明顯，即使景氣連續兩年上升，大廠對於今年不看淡，下游手機..."
      ]
     },
     "execution_count": 3,
     "metadata": {},
     "output_type": "execute_result"
    }
   ],
   "source": [
    "all_news = pd.read_csv(\"data/tej_udn_all_news.csv\", encoding=\"utf-8\")\n",
    "print(all_news.shape)\n",
    "all_news.head(2)"
   ]
  },
  {
   "cell_type": "code",
   "execution_count": 19,
   "metadata": {},
   "outputs": [
    {
     "data": {
      "text/html": [
       "<div>\n",
       "<style scoped>\n",
       "    .dataframe tbody tr th:only-of-type {\n",
       "        vertical-align: middle;\n",
       "    }\n",
       "\n",
       "    .dataframe tbody tr th {\n",
       "        vertical-align: top;\n",
       "    }\n",
       "\n",
       "    .dataframe thead th {\n",
       "        text-align: right;\n",
       "    }\n",
       "</style>\n",
       "<table border=\"1\" class=\"dataframe\">\n",
       "  <thead>\n",
       "    <tr style=\"text-align: right;\">\n",
       "      <th></th>\n",
       "      <th>company</th>\n",
       "      <th>date</th>\n",
       "      <th>content</th>\n",
       "    </tr>\n",
       "  </thead>\n",
       "  <tbody>\n",
       "    <tr>\n",
       "      <th>count</th>\n",
       "      <td>13302</td>\n",
       "      <td>13302</td>\n",
       "      <td>13302</td>\n",
       "    </tr>\n",
       "    <tr>\n",
       "      <th>unique</th>\n",
       "      <td>240</td>\n",
       "      <td>3038</td>\n",
       "      <td>12746</td>\n",
       "    </tr>\n",
       "    <tr>\n",
       "      <th>top</th>\n",
       "      <td>2330 台積電</td>\n",
       "      <td>2008-01-17</td>\n",
       "      <td>中華信用評等公司昨日確認台塑集團四家核心公司，包括台塑、南亞塑膠、台化、台塑石化，長期企業信...</td>\n",
       "    </tr>\n",
       "    <tr>\n",
       "      <th>freq</th>\n",
       "      <td>613</td>\n",
       "      <td>20</td>\n",
       "      <td>4</td>\n",
       "    </tr>\n",
       "  </tbody>\n",
       "</table>\n",
       "</div>"
      ],
      "text/plain": [
       "         company        date  \\\n",
       "count      13302       13302   \n",
       "unique       240        3038   \n",
       "top     2330 台積電  2008-01-17   \n",
       "freq         613          20   \n",
       "\n",
       "                                                  content  \n",
       "count                                               13302  \n",
       "unique                                              12746  \n",
       "top     中華信用評等公司昨日確認台塑集團四家核心公司，包括台塑、南亞塑膠、台化、台塑石化，長期企業信...  \n",
       "freq                                                    4  "
      ]
     },
     "execution_count": 19,
     "metadata": {},
     "output_type": "execute_result"
    }
   ],
   "source": [
    "all_news.describe()"
   ]
  },
  {
   "cell_type": "code",
   "execution_count": 20,
   "metadata": {},
   "outputs": [
    {
     "name": "stdout",
     "output_type": "stream",
     "text": [
      "<class 'pandas.core.frame.DataFrame'>\n",
      "RangeIndex: 13302 entries, 0 to 13301\n",
      "Data columns (total 3 columns):\n",
      "company    13302 non-null object\n",
      "date       13302 non-null object\n",
      "content    13302 non-null object\n",
      "dtypes: object(3)\n",
      "memory usage: 311.9+ KB\n"
     ]
    }
   ],
   "source": [
    "all_news.info()"
   ]
  },
  {
   "cell_type": "code",
   "execution_count": 21,
   "metadata": {},
   "outputs": [],
   "source": [
    "# 文章字數 > 510了話 去尾\n",
    "# 字數小於512-2 因為還有CLS SEP\n",
    "def remove_510(text):\n",
    "    if len(text) > 510:\n",
    "        text = text[:510]    # 只取前510個字\n",
    "    return text"
   ]
  },
  {
   "cell_type": "code",
   "execution_count": 22,
   "metadata": {},
   "outputs": [
    {
     "name": "stdout",
     "output_type": "stream",
     "text": [
      "(13302, 3)\n"
     ]
    },
    {
     "data": {
      "text/html": [
       "<div>\n",
       "<style scoped>\n",
       "    .dataframe tbody tr th:only-of-type {\n",
       "        vertical-align: middle;\n",
       "    }\n",
       "\n",
       "    .dataframe tbody tr th {\n",
       "        vertical-align: top;\n",
       "    }\n",
       "\n",
       "    .dataframe thead th {\n",
       "        text-align: right;\n",
       "    }\n",
       "</style>\n",
       "<table border=\"1\" class=\"dataframe\">\n",
       "  <thead>\n",
       "    <tr style=\"text-align: right;\">\n",
       "      <th></th>\n",
       "      <th>company</th>\n",
       "      <th>date</th>\n",
       "      <th>content</th>\n",
       "    </tr>\n",
       "  </thead>\n",
       "  <tbody>\n",
       "    <tr>\n",
       "      <th>0</th>\n",
       "      <td>2316 楠梓電</td>\n",
       "      <td>2007-01-01</td>\n",
       "      <td>印刷電路板產業「大者恆大」趨勢愈來愈明顯，即使景氣連續兩年上升，大廠對於今年不看淡，下游手機...</td>\n",
       "    </tr>\n",
       "    <tr>\n",
       "      <th>1</th>\n",
       "      <td>5469 瀚宇博</td>\n",
       "      <td>2007-01-01</td>\n",
       "      <td>印刷電路板產業「大者恆大」趨勢愈來愈明顯，即使景氣連續兩年上升，大廠對於今年不看淡，下游手機...</td>\n",
       "    </tr>\n",
       "  </tbody>\n",
       "</table>\n",
       "</div>"
      ],
      "text/plain": [
       "    company        date                                            content\n",
       "0  2316 楠梓電  2007-01-01  印刷電路板產業「大者恆大」趨勢愈來愈明顯，即使景氣連續兩年上升，大廠對於今年不看淡，下游手機...\n",
       "1  5469 瀚宇博  2007-01-01  印刷電路板產業「大者恆大」趨勢愈來愈明顯，即使景氣連續兩年上升，大廠對於今年不看淡，下游手機..."
      ]
     },
     "execution_count": 22,
     "metadata": {},
     "output_type": "execute_result"
    }
   ],
   "source": [
    "all_news[\"content\"] = all_news[\"content\"].apply(remove_510)\n",
    "print(all_news.shape)\n",
    "all_news.head(2)"
   ]
  },
  {
   "cell_type": "code",
   "execution_count": 23,
   "metadata": {},
   "outputs": [],
   "source": [
    "# Load pre-trained model tokenizer, to convert our text into tokens that correspond to BERT’s vocabulary.\n",
    "tokenizer = BertTokenizer.from_pretrained('bert-base-chinese')\n",
    "\n",
    "def input_ids_all(text):\n",
    "#    tokenizer = BertTokenizer.from_pretrained('bert-base-chinese')\n",
    "    tokens = tokenizer.tokenize(text)        # 每個字切詞成一個list\n",
    "    input_ids = tokenizer.convert_tokens_to_ids(tokens)  # 每個字轉成id\n",
    "    input_ids = tokenizer.build_inputs_with_special_tokens(input_ids)    # 句子前後加上 CLS SEP 的 id\n",
    "    input_ids = np.array(input_ids)          # list 轉 numpy\n",
    "    if len(input_ids) < 512:\n",
    "        n = 512 - len(input_ids)\n",
    "        input_ids = np.pad(input_ids, (0, n), mode ='constant', constant_values=(0))  \n",
    "        # array右邊append n 個 0  補長度到512\n",
    "    return input_ids"
   ]
  },
  {
   "cell_type": "code",
   "execution_count": 24,
   "metadata": {},
   "outputs": [
    {
     "name": "stderr",
     "output_type": "stream",
     "text": [
      "100%|██████████| 13302/13302 [00:16<00:00, 788.21it/s]\n"
     ]
    },
    {
     "name": "stdout",
     "output_type": "stream",
     "text": [
      "(13302, 4)\n"
     ]
    },
    {
     "data": {
      "text/html": [
       "<div>\n",
       "<style scoped>\n",
       "    .dataframe tbody tr th:only-of-type {\n",
       "        vertical-align: middle;\n",
       "    }\n",
       "\n",
       "    .dataframe tbody tr th {\n",
       "        vertical-align: top;\n",
       "    }\n",
       "\n",
       "    .dataframe thead th {\n",
       "        text-align: right;\n",
       "    }\n",
       "</style>\n",
       "<table border=\"1\" class=\"dataframe\">\n",
       "  <thead>\n",
       "    <tr style=\"text-align: right;\">\n",
       "      <th></th>\n",
       "      <th>company</th>\n",
       "      <th>date</th>\n",
       "      <th>content</th>\n",
       "      <th>input_ids</th>\n",
       "    </tr>\n",
       "  </thead>\n",
       "  <tbody>\n",
       "    <tr>\n",
       "      <th>0</th>\n",
       "      <td>2316 楠梓電</td>\n",
       "      <td>2007-01-01</td>\n",
       "      <td>印刷電路板產業「大者恆大」趨勢愈來愈明顯，即使景氣連續兩年上升，大廠對於今年不看淡，下游手機...</td>\n",
       "      <td>[101, 1313, 1170, 7442, 6662, 3352, 4496, 3511...</td>\n",
       "    </tr>\n",
       "    <tr>\n",
       "      <th>1</th>\n",
       "      <td>5469 瀚宇博</td>\n",
       "      <td>2007-01-01</td>\n",
       "      <td>印刷電路板產業「大者恆大」趨勢愈來愈明顯，即使景氣連續兩年上升，大廠對於今年不看淡，下游手機...</td>\n",
       "      <td>[101, 1313, 1170, 7442, 6662, 3352, 4496, 3511...</td>\n",
       "    </tr>\n",
       "  </tbody>\n",
       "</table>\n",
       "</div>"
      ],
      "text/plain": [
       "    company        date                                            content  \\\n",
       "0  2316 楠梓電  2007-01-01  印刷電路板產業「大者恆大」趨勢愈來愈明顯，即使景氣連續兩年上升，大廠對於今年不看淡，下游手機...   \n",
       "1  5469 瀚宇博  2007-01-01  印刷電路板產業「大者恆大」趨勢愈來愈明顯，即使景氣連續兩年上升，大廠對於今年不看淡，下游手機...   \n",
       "\n",
       "                                           input_ids  \n",
       "0  [101, 1313, 1170, 7442, 6662, 3352, 4496, 3511...  \n",
       "1  [101, 1313, 1170, 7442, 6662, 3352, 4496, 3511...  "
      ]
     },
     "execution_count": 24,
     "metadata": {},
     "output_type": "execute_result"
    }
   ],
   "source": [
    "# df['text2'] = df['text']].apply(lambda x: \" \".join(jieba.cut(x)))\n",
    "# df_news['tokens'] = df_news['text'].apply(lambda x:  tokenizer.tokenize(x) )\n",
    "all_news['input_ids'] = all_news['content'].progress_apply(input_ids_all)\n",
    "print(all_news.shape)\n",
    "all_news.head(2)"
   ]
  },
  {
   "cell_type": "code",
   "execution_count": 25,
   "metadata": {},
   "outputs": [
    {
     "name": "stdout",
     "output_type": "stream",
     "text": [
      "(13302, 512)\n"
     ]
    },
    {
     "data": {
      "text/plain": [
       "array([[ 101, 1313, 1170, ...,    0,    0,    0],\n",
       "       [ 101, 1313, 1170, ...,    0,    0,    0],\n",
       "       [ 101, 1313, 1170, ...,    0,    0,    0],\n",
       "       ...,\n",
       "       [ 101, 1377, 2768, ...,    0,    0,    0],\n",
       "       [ 101, 8020, 8021, ...,    0,    0,    0],\n",
       "       [ 101, 3189, 3315, ...,    0,    0,    0]])"
      ]
     },
     "execution_count": 25,
     "metadata": {},
     "output_type": "execute_result"
    }
   ],
   "source": [
    "# df_news['input_ids'].to_numpy() 出來不是一個2d numpy \n",
    "# 只好用for loop一個一個拿出來合併\n",
    "# 用np vstack超級慢 不知道為何  改用最外層是list append\n",
    "input_ids = []      # list\n",
    "for index, row in all_news.iterrows():  \n",
    "    np_1d = all_news.loc[index,'input_ids']    # 1d np arrary\n",
    "    input_ids.append(np_1d)                       # 1d np的 list # list[np_1, np_2, np_3, ....]\n",
    "\n",
    "\n",
    "input_ids = np.array(input_ids)                       # 轉成2d np\n",
    "print(input_ids.shape)\n",
    "input_ids"
   ]
  },
  {
   "cell_type": "code",
   "execution_count": 26,
   "metadata": {},
   "outputs": [
    {
     "name": "stdout",
     "output_type": "stream",
     "text": [
      "Model: \"model\"\n",
      "_________________________________________________________________\n",
      "Layer (type)                 Output Shape              Param #   \n",
      "=================================================================\n",
      "input_1 (InputLayer)         [(None, 512)]             0         \n",
      "_________________________________________________________________\n",
      "model (Model)                (None, 5)                 104233733 \n",
      "=================================================================\n",
      "Total params: 104,233,733\n",
      "Trainable params: 104,233,733\n",
      "Non-trainable params: 0\n",
      "_________________________________________________________________\n"
     ]
    }
   ],
   "source": [
    "# Recreate the exact same model, including its weights and the optimizer\n",
    "# 讀取存的model\n",
    "input_layer = Input(shape = (512,), dtype='int64')  # 預設是float 要改成input_id的int64\n",
    "load_model = tf.keras.models.load_model('model/model_bert_eland_softmax_1')(input_layer)\n",
    "model_1 = Model(inputs=input_layer, outputs=load_model)\n",
    "\n",
    "# Show the model architecture\n",
    "model_1.summary()"
   ]
  },
  {
   "cell_type": "code",
   "execution_count": null,
   "metadata": {},
   "outputs": [],
   "source": [
    "%%time\n",
    "predictions = model_1.predict(input_ids)   # 輸出的是n*5的編碼值array\n",
    "print(predictions.shape)\n",
    "predictions"
   ]
  },
  {
   "cell_type": "code",
   "execution_count": null,
   "metadata": {},
   "outputs": [],
   "source": [
    "df_predictions = pd.DataFrame(predictions, columns = [\"c_0\", \"c_1\", \"c_2\", \"c_3\", \"c_4\"])\n",
    "print(df_predictions.shape)\n",
    "df_predictions.head(2)"
   ]
  },
  {
   "cell_type": "code",
   "execution_count": null,
   "metadata": {},
   "outputs": [],
   "source": [
    "all_news[\"c_0\"].sum()"
   ]
  },
  {
   "cell_type": "code",
   "execution_count": null,
   "metadata": {},
   "outputs": [],
   "source": [
    "all_news = pd.concat([all_news, df_predictions], axis=1)   # axis=1左右合併 axis=0 上下合併\n",
    "print(all_news.shape)\n",
    "all_news.head(2)"
   ]
  },
  {
   "cell_type": "markdown",
   "metadata": {},
   "source": [
    "### 需要宣告一個240公司*10年的dataframe"
   ]
  },
  {
   "cell_type": "code",
   "execution_count": 4,
   "metadata": {},
   "outputs": [
    {
     "name": "stdout",
     "output_type": "stream",
     "text": [
      "240\n"
     ]
    },
    {
     "data": {
      "text/plain": [
       "array(['2316 楠梓電', '5469 瀚宇博', '3037 欣興', '1612 宏泰', '2498 宏達電',\n",
       "       '1477 聚陽', '6168 宏齊', '2484 希華', '2534 宏盛', '6277 宏正', '2606 裕民',\n",
       "       '2527 宏璟', '5305 敦南', '2376 技嘉', '3018 同開', '1236 宏亞', '2536 宏普',\n",
       "       '3052 夆典', '1558 伸興', '1452 宏益', '2358 廷鑫', '3605 宏致', '2408 南亞科',\n",
       "       '6271 同欣電', '3015 全漢', '4532 瑞智', '6152 百一', '2331 精英', '1532 勤美',\n",
       "       '2325 矽品', '3682 亞太電', '8271 宇瞻', '2344 華邦電', '9934 成霖', '8150 南茂',\n",
       "       '6196 帆宣', '1583 程泰', '3528 安馳', '2511 太子', '8021 尖點', '9911 櫻花',\n",
       "       '3591 艾笛森', '4919 新唐', '4119 旭富', '1442 名軒', '1618 合機', '1414 東和',\n",
       "       '1805 寶徠', '1451 年興', '2528 皇普', '2429 銘旺科', '1525 江申', '4414 如興',\n",
       "       '9943 好樂迪', '2301 光寶科', '2472 立隆電', '3406 玉晶光', '1907 永豐餘',\n",
       "       '3026 禾伸堂', '6285 啟碁', '2485 兆赫', '2461 光群雷', '2419 仲琦',\n",
       "       '6281 全國電', '2439 美律', '2340 光磊', '3321 同泰', '2509 全坤建', '1323 永裕',\n",
       "       '3058 立德', '3004 豐達科', '2330 台積電', '1904 正隆', '5608 四維航',\n",
       "       '4906 正文', '2392 正崴', '2105 正新', '9921 巨大', '2506 太設', '1507 永大',\n",
       "       '1538 正峰新', '1475 本盟', '1726 永記', '6192 巨路', '1506 正道', '3149 正達',\n",
       "       '1786 科妍', '3054 立萬利', '2616 山隆', '1432 大魯閣', '6505 台塑化',\n",
       "       '1326 台化', '6176 瑞儀', '1456 怡華', '3045 台灣大', '2308 台達電',\n",
       "       '2636 台驊投控', '1215 卜蜂', '4746 台耀', '3705 永信', '2841 台開', '1101 台泥',\n",
       "       '1903 士紙', '1309 台達化', '2338 光罩', '1614 三洋電', '3532 台勝科',\n",
       "       '1516 川飛', '1724 台硝', '1539 巨庭', '1220 台榮', '9906 欣巴巴', '2451 創見',\n",
       "       '4934 太極', '2353 宏碁', '1732 毛寶', '2547 日勝生', '6269 台郡', '8011 台通',\n",
       "       '2311 日月光', '2383 台光電', '2008 高興昌', '3049 和鑫', '2727 王品',\n",
       "       '3036 文曄', '1472 三洋紡', '3090 日電貿', '1227 佳格', '8039 台虹', '6225 天瀚',\n",
       "       '2314 台揚', '2540 愛山林', '2348 海悅', '2642 宅配通', '2323 中環', '4938 和碩',\n",
       "       '2388 威盛', '2409 友達', '6209 今國光', '1723 中碳', '1513 中興電', '2324 仁寶',\n",
       "       '2332 友訊', '1218 泰山', '1449 佳和', '2705 六福', '2034 允強', '1733 五鼎',\n",
       "       '3494 誠研', '3593 力銘', '1457 宜進', '1233 天仁', '1704 榮化', '2412 中華電',\n",
       "       '5388 中磊', '2475 華映', '2915 潤泰全', '2450 神腦', '2002 中鋼',\n",
       "       '2633 台灣高鐵', '2515 中工', '9933 中鼎', '2204 中華', '2610 華航', '1560 中砂',\n",
       "       '2013 中鋼構', '6443 元晶', '2444 兆勁', '1314 中石化', '2491 吉祥全',\n",
       "       '2104 國際中橡', '2438 翔耀', '1905 華紙', '1413 宏洲', '2390 云辰', '6165 捷泰',\n",
       "       '2612 中航', '6142 友勁', '2613 中櫃', '8464 億豐', '2448 晶電', '2371 大同',\n",
       "       '1521 大億', '2337 旺宏', '3702 大聯大', '1210 大成', '2027 大成鋼',\n",
       "       '3673 TPK-KY', '1310 台苯', '1718 中纖', '1529 樂士', '2059 川湖',\n",
       "       '8473 山林水', '2028 威致', '4956 光鋐', '5521 工信', '1701 中化', '1762 中化生',\n",
       "       '1902 台紙', '1535 中宇', '3167 大量', '6184 大豐電', '1301 台塑', '2504 國產',\n",
       "       '1447 力鵬', '3008 大立光', '2206 三陽工業', '3027 盛達', '1201 味全',\n",
       "       '2474 可成', '1216 統一', '3041 揚智', '1307 三芳', '9917 中保', '2062 橋椿',\n",
       "       '1321 大洋', '2049 上銀', '2020 美亞', '6239 力成', '6464 台數科', '2025 千興',\n",
       "       '2103 台橡', '1707 葡萄王', '1611 中電', '4141 龍燈-KY', '1503 士電',\n",
       "       '2611 志信', '6128 上福', '1232 大統益', '2739 寒舍', '9919 康那香', '1515 力山',\n",
       "       '1721 三晃', '9946 三發地產', '2905 三商', '3701 大眾控', '2486 一詮',\n",
       "       '1316 上曜', '3130 一零四', '1453 大將'], dtype=object)"
      ]
     },
     "execution_count": 4,
     "metadata": {},
     "output_type": "execute_result"
    }
   ],
   "source": [
    "company_list = all_news[\"company\"].unique()  # 把欄位unique的值都挑出來變成numpy\n",
    "print(len(company_list))\n",
    "company_list"
   ]
  },
  {
   "cell_type": "code",
   "execution_count": 15,
   "metadata": {},
   "outputs": [
    {
     "name": "stdout",
     "output_type": "stream",
     "text": [
      "2400\n"
     ]
    },
    {
     "data": {
      "text/plain": [
       "array([['2316 楠梓電', '2008'],\n",
       "       ['2316 楠梓電', '2009'],\n",
       "       ['2316 楠梓電', '2010'],\n",
       "       ...,\n",
       "       ['1453 大將', '2015'],\n",
       "       ['1453 大將', '2016'],\n",
       "       ['1453 大將', '2017']], dtype='<U11')"
      ]
     },
     "execution_count": 15,
     "metadata": {},
     "output_type": "execute_result"
    }
   ],
   "source": [
    "temp = []\n",
    "for company_name in company_list:\n",
    "    for year in range(2008,2018):\n",
    "        company_name = str(company_name)\n",
    "        year = int(year)\n",
    "        temp_np = np.array([company_name , year])    # np(公司名,年分)\n",
    "        temp.append(temp_np)\n",
    "        \n",
    "temp = np.array(temp)\n",
    "print(len(temp))\n",
    "temp"
   ]
  },
  {
   "cell_type": "code",
   "execution_count": 16,
   "metadata": {},
   "outputs": [
    {
     "name": "stdout",
     "output_type": "stream",
     "text": [
      "(2400, 2)\n"
     ]
    },
    {
     "data": {
      "text/html": [
       "<div>\n",
       "<style scoped>\n",
       "    .dataframe tbody tr th:only-of-type {\n",
       "        vertical-align: middle;\n",
       "    }\n",
       "\n",
       "    .dataframe tbody tr th {\n",
       "        vertical-align: top;\n",
       "    }\n",
       "\n",
       "    .dataframe thead th {\n",
       "        text-align: right;\n",
       "    }\n",
       "</style>\n",
       "<table border=\"1\" class=\"dataframe\">\n",
       "  <thead>\n",
       "    <tr style=\"text-align: right;\">\n",
       "      <th></th>\n",
       "      <th>company</th>\n",
       "      <th>date</th>\n",
       "    </tr>\n",
       "  </thead>\n",
       "  <tbody>\n",
       "    <tr>\n",
       "      <th>0</th>\n",
       "      <td>2316 楠梓電</td>\n",
       "      <td>2008</td>\n",
       "    </tr>\n",
       "    <tr>\n",
       "      <th>1</th>\n",
       "      <td>2316 楠梓電</td>\n",
       "      <td>2009</td>\n",
       "    </tr>\n",
       "    <tr>\n",
       "      <th>2</th>\n",
       "      <td>2316 楠梓電</td>\n",
       "      <td>2010</td>\n",
       "    </tr>\n",
       "    <tr>\n",
       "      <th>3</th>\n",
       "      <td>2316 楠梓電</td>\n",
       "      <td>2011</td>\n",
       "    </tr>\n",
       "    <tr>\n",
       "      <th>4</th>\n",
       "      <td>2316 楠梓電</td>\n",
       "      <td>2012</td>\n",
       "    </tr>\n",
       "    <tr>\n",
       "      <th>...</th>\n",
       "      <td>...</td>\n",
       "      <td>...</td>\n",
       "    </tr>\n",
       "    <tr>\n",
       "      <th>2395</th>\n",
       "      <td>1453 大將</td>\n",
       "      <td>2013</td>\n",
       "    </tr>\n",
       "    <tr>\n",
       "      <th>2396</th>\n",
       "      <td>1453 大將</td>\n",
       "      <td>2014</td>\n",
       "    </tr>\n",
       "    <tr>\n",
       "      <th>2397</th>\n",
       "      <td>1453 大將</td>\n",
       "      <td>2015</td>\n",
       "    </tr>\n",
       "    <tr>\n",
       "      <th>2398</th>\n",
       "      <td>1453 大將</td>\n",
       "      <td>2016</td>\n",
       "    </tr>\n",
       "    <tr>\n",
       "      <th>2399</th>\n",
       "      <td>1453 大將</td>\n",
       "      <td>2017</td>\n",
       "    </tr>\n",
       "  </tbody>\n",
       "</table>\n",
       "<p>2400 rows × 2 columns</p>\n",
       "</div>"
      ],
      "text/plain": [
       "       company  date\n",
       "0     2316 楠梓電  2008\n",
       "1     2316 楠梓電  2009\n",
       "2     2316 楠梓電  2010\n",
       "3     2316 楠梓電  2011\n",
       "4     2316 楠梓電  2012\n",
       "...        ...   ...\n",
       "2395   1453 大將  2013\n",
       "2396   1453 大將  2014\n",
       "2397   1453 大將  2015\n",
       "2398   1453 大將  2016\n",
       "2399   1453 大將  2017\n",
       "\n",
       "[2400 rows x 2 columns]"
      ]
     },
     "execution_count": 16,
     "metadata": {},
     "output_type": "execute_result"
    }
   ],
   "source": [
    "df_topic_5_prob = pd.DataFrame(temp, columns = ['company' , 'date'])\n",
    "print(df_topic_5_prob.shape)\n",
    "df_topic_5_prob"
   ]
  },
  {
   "cell_type": "code",
   "execution_count": 17,
   "metadata": {},
   "outputs": [
    {
     "name": "stdout",
     "output_type": "stream",
     "text": [
      "(2400, 7)\n"
     ]
    },
    {
     "data": {
      "text/html": [
       "<div>\n",
       "<style scoped>\n",
       "    .dataframe tbody tr th:only-of-type {\n",
       "        vertical-align: middle;\n",
       "    }\n",
       "\n",
       "    .dataframe tbody tr th {\n",
       "        vertical-align: top;\n",
       "    }\n",
       "\n",
       "    .dataframe thead th {\n",
       "        text-align: right;\n",
       "    }\n",
       "</style>\n",
       "<table border=\"1\" class=\"dataframe\">\n",
       "  <thead>\n",
       "    <tr style=\"text-align: right;\">\n",
       "      <th></th>\n",
       "      <th>company</th>\n",
       "      <th>date</th>\n",
       "      <th>c_0</th>\n",
       "      <th>c_1</th>\n",
       "      <th>c_2</th>\n",
       "      <th>c_3</th>\n",
       "      <th>C-4</th>\n",
       "    </tr>\n",
       "  </thead>\n",
       "  <tbody>\n",
       "    <tr>\n",
       "      <th>0</th>\n",
       "      <td>2316 楠梓電</td>\n",
       "      <td>2008</td>\n",
       "      <td>0.0</td>\n",
       "      <td>0.0</td>\n",
       "      <td>0.0</td>\n",
       "      <td>0.0</td>\n",
       "      <td>0.0</td>\n",
       "    </tr>\n",
       "    <tr>\n",
       "      <th>1</th>\n",
       "      <td>2316 楠梓電</td>\n",
       "      <td>2009</td>\n",
       "      <td>0.0</td>\n",
       "      <td>0.0</td>\n",
       "      <td>0.0</td>\n",
       "      <td>0.0</td>\n",
       "      <td>0.0</td>\n",
       "    </tr>\n",
       "  </tbody>\n",
       "</table>\n",
       "</div>"
      ],
      "text/plain": [
       "    company  date  c_0  c_1  c_2  c_3  C-4\n",
       "0  2316 楠梓電  2008  0.0  0.0  0.0  0.0  0.0\n",
       "1  2316 楠梓電  2009  0.0  0.0  0.0  0.0  0.0"
      ]
     },
     "execution_count": 17,
     "metadata": {},
     "output_type": "execute_result"
    }
   ],
   "source": [
    "df_topic_5_prob[\"date\"] = df_topic_5_prob[\"date\"].astype(int)\n",
    "df_topic_5_prob[\"company\"] = df_topic_5_prob[\"company\"].astype(str)\n",
    "df_topic_5_prob[\"c_0\"] = 0.\n",
    "df_topic_5_prob[\"c_1\"] = 0.\n",
    "df_topic_5_prob[\"c_2\"] = 0.\n",
    "df_topic_5_prob[\"c_3\"] = 0.\n",
    "df_topic_5_prob[\"C-4\"] = 0.\n",
    "print(df_topic_5_prob.shape)\n",
    "df_topic_5_prob.head(2)"
   ]
  },
  {
   "cell_type": "code",
   "execution_count": 18,
   "metadata": {},
   "outputs": [
    {
     "data": {
      "text/html": [
       "<div>\n",
       "<style scoped>\n",
       "    .dataframe tbody tr th:only-of-type {\n",
       "        vertical-align: middle;\n",
       "    }\n",
       "\n",
       "    .dataframe tbody tr th {\n",
       "        vertical-align: top;\n",
       "    }\n",
       "\n",
       "    .dataframe thead th {\n",
       "        text-align: right;\n",
       "    }\n",
       "</style>\n",
       "<table border=\"1\" class=\"dataframe\">\n",
       "  <thead>\n",
       "    <tr style=\"text-align: right;\">\n",
       "      <th></th>\n",
       "      <th>company</th>\n",
       "      <th>date</th>\n",
       "      <th>c_0</th>\n",
       "      <th>c_1</th>\n",
       "      <th>c_2</th>\n",
       "      <th>c_3</th>\n",
       "      <th>C-4</th>\n",
       "    </tr>\n",
       "  </thead>\n",
       "  <tbody>\n",
       "    <tr>\n",
       "      <th>1</th>\n",
       "      <td>2316 楠梓電</td>\n",
       "      <td>2009</td>\n",
       "      <td>0.0</td>\n",
       "      <td>0.0</td>\n",
       "      <td>0.0</td>\n",
       "      <td>0.0</td>\n",
       "      <td>0.0</td>\n",
       "    </tr>\n",
       "  </tbody>\n",
       "</table>\n",
       "</div>"
      ],
      "text/plain": [
       "    company  date  c_0  c_1  c_2  c_3  C-4\n",
       "1  2316 楠梓電  2009  0.0  0.0  0.0  0.0  0.0"
      ]
     },
     "execution_count": 18,
     "metadata": {},
     "output_type": "execute_result"
    }
   ],
   "source": [
    "# a column contains \"A\" & b column contains \"B\" \n",
    "df_topic_5_prob[(df_topic_5_prob[\"company\"].str.contains(\"楠梓電\") & df_topic_5_prob[\"date\"].astype(str).str.contains(\"2009\") )]"
   ]
  },
  {
   "cell_type": "code",
   "execution_count": null,
   "metadata": {},
   "outputs": [],
   "source": []
  }
 ],
 "metadata": {
  "kernelspec": {
   "display_name": "Python 3",
   "language": "python",
   "name": "python3"
  },
  "language_info": {
   "codemirror_mode": {
    "name": "ipython",
    "version": 3
   },
   "file_extension": ".py",
   "mimetype": "text/x-python",
   "name": "python",
   "nbconvert_exporter": "python",
   "pygments_lexer": "ipython3",
   "version": "3.7.5"
  }
 },
 "nbformat": 4,
 "nbformat_minor": 4
}
