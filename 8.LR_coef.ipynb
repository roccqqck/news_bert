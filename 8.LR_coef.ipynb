{
 "cells": [
  {
   "cell_type": "markdown",
   "metadata": {},
   "source": [
    "# 2 Feature Engineering"
   ]
  },
  {
   "cell_type": "markdown",
   "metadata": {},
   "source": [
    "## 2-1 根據基本總分產生的初步TCRI等級"
   ]
  },
  {
   "cell_type": "code",
   "execution_count": 1,
   "metadata": {},
   "outputs": [
    {
     "name": "stderr",
     "output_type": "stream",
     "text": [
      "/home/barry/miniconda3/envs/bertenv2/lib/python3.7/site-packages/tqdm/std.py:648: FutureWarning: The Panel class is removed from pandas. Accessing it from the top-level namespace will also be removed in the next version\n",
      "  from pandas import Panel\n"
     ]
    }
   ],
   "source": [
    "import pandas as pd\n",
    "import numpy as np\n",
    "from tqdm import tqdm\n",
    "tqdm.pandas()"
   ]
  },
  {
   "cell_type": "code",
   "execution_count": 2,
   "metadata": {},
   "outputs": [
    {
     "name": "stdout",
     "output_type": "stream",
     "text": [
      "(2288, 20)\n"
     ]
    },
    {
     "data": {
      "text/html": [
       "<div>\n",
       "<style scoped>\n",
       "    .dataframe tbody tr th:only-of-type {\n",
       "        vertical-align: middle;\n",
       "    }\n",
       "\n",
       "    .dataframe tbody tr th {\n",
       "        vertical-align: top;\n",
       "    }\n",
       "\n",
       "    .dataframe thead th {\n",
       "        text-align: right;\n",
       "    }\n",
       "</style>\n",
       "<table border=\"1\" class=\"dataframe\">\n",
       "  <thead>\n",
       "    <tr style=\"text-align: right;\">\n",
       "      <th></th>\n",
       "      <th>公司</th>\n",
       "      <th>年月</th>\n",
       "      <th>TCRI</th>\n",
       "      <th>總分</th>\n",
       "      <th>CFO</th>\n",
       "      <th>CFO不一致</th>\n",
       "      <th>利息支出率</th>\n",
       "      <th>資產報酬%</th>\n",
       "      <th>營業利益%</th>\n",
       "      <th>借款息%</th>\n",
       "      <th>平均收款天增減</th>\n",
       "      <th>平均售貨天增減</th>\n",
       "      <th>借款依存度%</th>\n",
       "      <th>營收</th>\n",
       "      <th>TSE產業別</th>\n",
       "      <th>c_0</th>\n",
       "      <th>c_1</th>\n",
       "      <th>c_2</th>\n",
       "      <th>c_3</th>\n",
       "      <th>c_4</th>\n",
       "    </tr>\n",
       "  </thead>\n",
       "  <tbody>\n",
       "    <tr>\n",
       "      <th>2286</th>\n",
       "      <td>9943 好樂迪</td>\n",
       "      <td>2017/12/29</td>\n",
       "      <td>5.0</td>\n",
       "      <td>711.0</td>\n",
       "      <td>5.20</td>\n",
       "      <td>0</td>\n",
       "      <td>0.00</td>\n",
       "      <td>15.93</td>\n",
       "      <td>17.41</td>\n",
       "      <td>6.53</td>\n",
       "      <td>1.0</td>\n",
       "      <td>0.0</td>\n",
       "      <td>0.0</td>\n",
       "      <td>29.0</td>\n",
       "      <td>16</td>\n",
       "      <td>0.0</td>\n",
       "      <td>0.000000e+00</td>\n",
       "      <td>0.000000e+00</td>\n",
       "      <td>0.000000e+00</td>\n",
       "      <td>0.000000e+00</td>\n",
       "    </tr>\n",
       "    <tr>\n",
       "      <th>2287</th>\n",
       "      <td>9946 三發地產</td>\n",
       "      <td>2017/12/29</td>\n",
       "      <td>7.0</td>\n",
       "      <td>243.0</td>\n",
       "      <td>-8.71</td>\n",
       "      <td>1</td>\n",
       "      <td>7.49</td>\n",
       "      <td>3.83</td>\n",
       "      <td>20.42</td>\n",
       "      <td>2.51</td>\n",
       "      <td>9.0</td>\n",
       "      <td>1437.0</td>\n",
       "      <td>102.0</td>\n",
       "      <td>17.0</td>\n",
       "      <td>14</td>\n",
       "      <td>1.0</td>\n",
       "      <td>1.433146e-20</td>\n",
       "      <td>1.467837e-13</td>\n",
       "      <td>2.940595e-25</td>\n",
       "      <td>2.578725e-17</td>\n",
       "    </tr>\n",
       "  </tbody>\n",
       "</table>\n",
       "</div>"
      ],
      "text/plain": [
       "             公司          年月  TCRI     總分   CFO  CFO不一致  利息支出率  資產報酬%  營業利益%  \\\n",
       "2286   9943 好樂迪  2017/12/29   5.0  711.0  5.20       0   0.00  15.93  17.41   \n",
       "2287  9946 三發地產  2017/12/29   7.0  243.0 -8.71       1   7.49   3.83  20.42   \n",
       "\n",
       "      借款息%  平均收款天增減  平均售貨天增減  借款依存度%    營收  TSE產業別  c_0           c_1  \\\n",
       "2286  6.53      1.0      0.0     0.0  29.0      16  0.0  0.000000e+00   \n",
       "2287  2.51      9.0   1437.0   102.0  17.0      14  1.0  1.433146e-20   \n",
       "\n",
       "               c_2           c_3           c_4  \n",
       "2286  0.000000e+00  0.000000e+00  0.000000e+00  \n",
       "2287  1.467837e-13  2.940595e-25  2.578725e-17  "
      ]
     },
     "execution_count": 2,
     "metadata": {},
     "output_type": "execute_result"
    }
   ],
   "source": [
    "df = pd.read_csv(\"data/TCRI_2008_2017_prob.csv\", encoding=\"utf-8\")\n",
    "df[\"c_0\"] = df[\"c_0\"].astype(float)  # 讀取後將欄位弄成float\n",
    "df[\"c_1\"] = df[\"c_1\"].astype(float)\n",
    "df[\"c_2\"] = df[\"c_2\"].astype(float)\n",
    "df[\"c_3\"] = df[\"c_3\"].astype(float)\n",
    "df[\"c_4\"] = df[\"c_4\"].astype(float)\n",
    "df[\"TCRI\"] = df[\"TCRI\"].astype(float)\n",
    "print(df.shape)\n",
    "df.tail(2)"
   ]
  },
  {
   "cell_type": "code",
   "execution_count": 3,
   "metadata": {},
   "outputs": [],
   "source": [
    "def transformBasicTCRILevel(value):\n",
    "    level = 0\n",
    "    if value < 165.0:\n",
    "        level = 9\n",
    "    elif value < 250.0:\n",
    "        level = 8\n",
    "    elif value < 335.0:\n",
    "        level = 7\n",
    "    elif value < 420.0:\n",
    "        level = 6\n",
    "    elif value < 505.0:\n",
    "        level = 5\n",
    "    elif value < 590.0:\n",
    "        level = 4\n",
    "    elif value < 675.0:\n",
    "        level = 3\n",
    "    elif value < 760.0:\n",
    "        level = 2\n",
    "    else:\n",
    "        level = 1\n",
    "    return level"
   ]
  },
  {
   "cell_type": "code",
   "execution_count": 4,
   "metadata": {},
   "outputs": [],
   "source": [
    "basicTCRI = []\n",
    "for score in df['總分']:\n",
    "    basicTCRI.append(transformBasicTCRILevel(score))"
   ]
  },
  {
   "cell_type": "code",
   "execution_count": 5,
   "metadata": {},
   "outputs": [
    {
     "name": "stdout",
     "output_type": "stream",
     "text": [
      "2.3138757483972596\n"
     ]
    }
   ],
   "source": [
    "from sklearn.metrics import mean_squared_error\n",
    "from math import sqrt\n",
    "rmse = sqrt(mean_squared_error(basicTCRI, df['TCRI']))\n",
    "print(rmse)"
   ]
  },
  {
   "cell_type": "code",
   "execution_count": 6,
   "metadata": {},
   "outputs": [
    {
     "data": {
      "text/html": [
       "<div>\n",
       "<style scoped>\n",
       "    .dataframe tbody tr th:only-of-type {\n",
       "        vertical-align: middle;\n",
       "    }\n",
       "\n",
       "    .dataframe tbody tr th {\n",
       "        vertical-align: top;\n",
       "    }\n",
       "\n",
       "    .dataframe thead th {\n",
       "        text-align: right;\n",
       "    }\n",
       "</style>\n",
       "<table border=\"1\" class=\"dataframe\">\n",
       "  <thead>\n",
       "    <tr style=\"text-align: right;\">\n",
       "      <th></th>\n",
       "      <th>公司</th>\n",
       "      <th>年月</th>\n",
       "      <th>TCRI</th>\n",
       "      <th>CFO</th>\n",
       "      <th>CFO不一致</th>\n",
       "      <th>利息支出率</th>\n",
       "      <th>資產報酬%</th>\n",
       "      <th>營業利益%</th>\n",
       "      <th>借款息%</th>\n",
       "      <th>平均收款天增減</th>\n",
       "      <th>平均售貨天增減</th>\n",
       "      <th>借款依存度%</th>\n",
       "      <th>營收</th>\n",
       "      <th>TSE產業別</th>\n",
       "      <th>c_0</th>\n",
       "      <th>c_1</th>\n",
       "      <th>c_2</th>\n",
       "      <th>c_3</th>\n",
       "      <th>c_4</th>\n",
       "      <th>初步等級</th>\n",
       "    </tr>\n",
       "  </thead>\n",
       "  <tbody>\n",
       "    <tr>\n",
       "      <th>0</th>\n",
       "      <td>1101 台泥</td>\n",
       "      <td>2008/12/31</td>\n",
       "      <td>3.0</td>\n",
       "      <td>80.43</td>\n",
       "      <td>0</td>\n",
       "      <td>3.51</td>\n",
       "      <td>2.93</td>\n",
       "      <td>6.64</td>\n",
       "      <td>3.72</td>\n",
       "      <td>-2.0</td>\n",
       "      <td>-2.0</td>\n",
       "      <td>88.0</td>\n",
       "      <td>785.0</td>\n",
       "      <td>1</td>\n",
       "      <td>0.0</td>\n",
       "      <td>0.0</td>\n",
       "      <td>0.0</td>\n",
       "      <td>0.0</td>\n",
       "      <td>0.0</td>\n",
       "      <td>3</td>\n",
       "    </tr>\n",
       "    <tr>\n",
       "      <th>1</th>\n",
       "      <td>1201 味全</td>\n",
       "      <td>2008/12/31</td>\n",
       "      <td>5.0</td>\n",
       "      <td>10.75</td>\n",
       "      <td>0</td>\n",
       "      <td>0.54</td>\n",
       "      <td>4.62</td>\n",
       "      <td>4.04</td>\n",
       "      <td>3.27</td>\n",
       "      <td>-2.0</td>\n",
       "      <td>1.0</td>\n",
       "      <td>63.0</td>\n",
       "      <td>202.0</td>\n",
       "      <td>2</td>\n",
       "      <td>0.0</td>\n",
       "      <td>0.0</td>\n",
       "      <td>0.0</td>\n",
       "      <td>0.0</td>\n",
       "      <td>0.0</td>\n",
       "      <td>3</td>\n",
       "    </tr>\n",
       "    <tr>\n",
       "      <th>2</th>\n",
       "      <td>1210 大成</td>\n",
       "      <td>2008/12/31</td>\n",
       "      <td>4.0</td>\n",
       "      <td>23.25</td>\n",
       "      <td>0</td>\n",
       "      <td>0.42</td>\n",
       "      <td>5.93</td>\n",
       "      <td>1.96</td>\n",
       "      <td>4.42</td>\n",
       "      <td>-5.0</td>\n",
       "      <td>-9.0</td>\n",
       "      <td>43.0</td>\n",
       "      <td>712.0</td>\n",
       "      <td>2</td>\n",
       "      <td>0.0</td>\n",
       "      <td>0.0</td>\n",
       "      <td>0.0</td>\n",
       "      <td>0.0</td>\n",
       "      <td>0.0</td>\n",
       "      <td>2</td>\n",
       "    </tr>\n",
       "    <tr>\n",
       "      <th>3</th>\n",
       "      <td>1215 卜蜂</td>\n",
       "      <td>2008/12/31</td>\n",
       "      <td>4.0</td>\n",
       "      <td>1.77</td>\n",
       "      <td>0</td>\n",
       "      <td>0.27</td>\n",
       "      <td>5.49</td>\n",
       "      <td>2.37</td>\n",
       "      <td>3.73</td>\n",
       "      <td>0.0</td>\n",
       "      <td>-1.0</td>\n",
       "      <td>38.0</td>\n",
       "      <td>154.0</td>\n",
       "      <td>2</td>\n",
       "      <td>0.0</td>\n",
       "      <td>0.0</td>\n",
       "      <td>0.0</td>\n",
       "      <td>0.0</td>\n",
       "      <td>0.0</td>\n",
       "      <td>4</td>\n",
       "    </tr>\n",
       "    <tr>\n",
       "      <th>4</th>\n",
       "      <td>1216 統一</td>\n",
       "      <td>2008/12/31</td>\n",
       "      <td>4.0</td>\n",
       "      <td>178.78</td>\n",
       "      <td>0</td>\n",
       "      <td>1.38</td>\n",
       "      <td>4.02</td>\n",
       "      <td>4.95</td>\n",
       "      <td>3.56</td>\n",
       "      <td>-1.0</td>\n",
       "      <td>1.0</td>\n",
       "      <td>125.0</td>\n",
       "      <td>2997.0</td>\n",
       "      <td>2</td>\n",
       "      <td>0.0</td>\n",
       "      <td>0.0</td>\n",
       "      <td>0.0</td>\n",
       "      <td>0.0</td>\n",
       "      <td>0.0</td>\n",
       "      <td>3</td>\n",
       "    </tr>\n",
       "  </tbody>\n",
       "</table>\n",
       "</div>"
      ],
      "text/plain": [
       "        公司          年月  TCRI     CFO  CFO不一致  利息支出率  資產報酬%  營業利益%  借款息%  \\\n",
       "0  1101 台泥  2008/12/31   3.0   80.43       0   3.51   2.93   6.64  3.72   \n",
       "1  1201 味全  2008/12/31   5.0   10.75       0   0.54   4.62   4.04  3.27   \n",
       "2  1210 大成  2008/12/31   4.0   23.25       0   0.42   5.93   1.96  4.42   \n",
       "3  1215 卜蜂  2008/12/31   4.0    1.77       0   0.27   5.49   2.37  3.73   \n",
       "4  1216 統一  2008/12/31   4.0  178.78       0   1.38   4.02   4.95  3.56   \n",
       "\n",
       "   平均收款天增減  平均售貨天增減  借款依存度%      營收  TSE產業別  c_0  c_1  c_2  c_3  c_4  初步等級  \n",
       "0     -2.0     -2.0    88.0   785.0       1  0.0  0.0  0.0  0.0  0.0     3  \n",
       "1     -2.0      1.0    63.0   202.0       2  0.0  0.0  0.0  0.0  0.0     3  \n",
       "2     -5.0     -9.0    43.0   712.0       2  0.0  0.0  0.0  0.0  0.0     2  \n",
       "3      0.0     -1.0    38.0   154.0       2  0.0  0.0  0.0  0.0  0.0     4  \n",
       "4     -1.0      1.0   125.0  2997.0       2  0.0  0.0  0.0  0.0  0.0     3  "
      ]
     },
     "execution_count": 6,
     "metadata": {},
     "output_type": "execute_result"
    }
   ],
   "source": [
    "# 用初步等級將總分替換\n",
    "df.drop(['總分'], axis=1, inplace=True)\n",
    "df['初步等級'] = basicTCRI\n",
    "df.head()"
   ]
  },
  {
   "cell_type": "markdown",
   "metadata": {},
   "source": [
    "## 2-2 門檻等級：規模"
   ]
  },
  {
   "cell_type": "code",
   "execution_count": 7,
   "metadata": {},
   "outputs": [
    {
     "data": {
      "text/html": [
       "<div>\n",
       "<style scoped>\n",
       "    .dataframe tbody tr th:only-of-type {\n",
       "        vertical-align: middle;\n",
       "    }\n",
       "\n",
       "    .dataframe tbody tr th {\n",
       "        vertical-align: top;\n",
       "    }\n",
       "\n",
       "    .dataframe thead th {\n",
       "        text-align: right;\n",
       "    }\n",
       "</style>\n",
       "<table border=\"1\" class=\"dataframe\">\n",
       "  <thead>\n",
       "    <tr style=\"text-align: right;\">\n",
       "      <th></th>\n",
       "      <th>公司</th>\n",
       "      <th>年月</th>\n",
       "      <th>TCRI</th>\n",
       "      <th>CFO</th>\n",
       "      <th>CFO不一致</th>\n",
       "      <th>利息支出率</th>\n",
       "      <th>資產報酬%</th>\n",
       "      <th>營業利益%</th>\n",
       "      <th>借款息%</th>\n",
       "      <th>平均收款天增減</th>\n",
       "      <th>...</th>\n",
       "      <th>借款依存度%</th>\n",
       "      <th>營收</th>\n",
       "      <th>TSE產業別</th>\n",
       "      <th>c_0</th>\n",
       "      <th>c_1</th>\n",
       "      <th>c_2</th>\n",
       "      <th>c_3</th>\n",
       "      <th>c_4</th>\n",
       "      <th>初步等級</th>\n",
       "      <th>門檻等級_規模</th>\n",
       "    </tr>\n",
       "  </thead>\n",
       "  <tbody>\n",
       "    <tr>\n",
       "      <th>0</th>\n",
       "      <td>1101 台泥</td>\n",
       "      <td>2008/12/31</td>\n",
       "      <td>3.0</td>\n",
       "      <td>80.43</td>\n",
       "      <td>0</td>\n",
       "      <td>3.51</td>\n",
       "      <td>2.93</td>\n",
       "      <td>6.64</td>\n",
       "      <td>3.72</td>\n",
       "      <td>-2.0</td>\n",
       "      <td>...</td>\n",
       "      <td>88.0</td>\n",
       "      <td>785.0</td>\n",
       "      <td>1</td>\n",
       "      <td>0.0</td>\n",
       "      <td>0.0</td>\n",
       "      <td>0.0</td>\n",
       "      <td>0.0</td>\n",
       "      <td>0.0</td>\n",
       "      <td>3</td>\n",
       "      <td>3</td>\n",
       "    </tr>\n",
       "    <tr>\n",
       "      <th>1</th>\n",
       "      <td>1201 味全</td>\n",
       "      <td>2008/12/31</td>\n",
       "      <td>5.0</td>\n",
       "      <td>10.75</td>\n",
       "      <td>0</td>\n",
       "      <td>0.54</td>\n",
       "      <td>4.62</td>\n",
       "      <td>4.04</td>\n",
       "      <td>3.27</td>\n",
       "      <td>-2.0</td>\n",
       "      <td>...</td>\n",
       "      <td>63.0</td>\n",
       "      <td>202.0</td>\n",
       "      <td>2</td>\n",
       "      <td>0.0</td>\n",
       "      <td>0.0</td>\n",
       "      <td>0.0</td>\n",
       "      <td>0.0</td>\n",
       "      <td>0.0</td>\n",
       "      <td>3</td>\n",
       "      <td>3</td>\n",
       "    </tr>\n",
       "    <tr>\n",
       "      <th>2</th>\n",
       "      <td>1210 大成</td>\n",
       "      <td>2008/12/31</td>\n",
       "      <td>4.0</td>\n",
       "      <td>23.25</td>\n",
       "      <td>0</td>\n",
       "      <td>0.42</td>\n",
       "      <td>5.93</td>\n",
       "      <td>1.96</td>\n",
       "      <td>4.42</td>\n",
       "      <td>-5.0</td>\n",
       "      <td>...</td>\n",
       "      <td>43.0</td>\n",
       "      <td>712.0</td>\n",
       "      <td>2</td>\n",
       "      <td>0.0</td>\n",
       "      <td>0.0</td>\n",
       "      <td>0.0</td>\n",
       "      <td>0.0</td>\n",
       "      <td>0.0</td>\n",
       "      <td>2</td>\n",
       "      <td>2</td>\n",
       "    </tr>\n",
       "    <tr>\n",
       "      <th>3</th>\n",
       "      <td>1215 卜蜂</td>\n",
       "      <td>2008/12/31</td>\n",
       "      <td>4.0</td>\n",
       "      <td>1.77</td>\n",
       "      <td>0</td>\n",
       "      <td>0.27</td>\n",
       "      <td>5.49</td>\n",
       "      <td>2.37</td>\n",
       "      <td>3.73</td>\n",
       "      <td>0.0</td>\n",
       "      <td>...</td>\n",
       "      <td>38.0</td>\n",
       "      <td>154.0</td>\n",
       "      <td>2</td>\n",
       "      <td>0.0</td>\n",
       "      <td>0.0</td>\n",
       "      <td>0.0</td>\n",
       "      <td>0.0</td>\n",
       "      <td>0.0</td>\n",
       "      <td>4</td>\n",
       "      <td>4</td>\n",
       "    </tr>\n",
       "    <tr>\n",
       "      <th>4</th>\n",
       "      <td>1216 統一</td>\n",
       "      <td>2008/12/31</td>\n",
       "      <td>4.0</td>\n",
       "      <td>178.78</td>\n",
       "      <td>0</td>\n",
       "      <td>1.38</td>\n",
       "      <td>4.02</td>\n",
       "      <td>4.95</td>\n",
       "      <td>3.56</td>\n",
       "      <td>-1.0</td>\n",
       "      <td>...</td>\n",
       "      <td>125.0</td>\n",
       "      <td>2997.0</td>\n",
       "      <td>2</td>\n",
       "      <td>0.0</td>\n",
       "      <td>0.0</td>\n",
       "      <td>0.0</td>\n",
       "      <td>0.0</td>\n",
       "      <td>0.0</td>\n",
       "      <td>3</td>\n",
       "      <td>3</td>\n",
       "    </tr>\n",
       "  </tbody>\n",
       "</table>\n",
       "<p>5 rows × 21 columns</p>\n",
       "</div>"
      ],
      "text/plain": [
       "        公司          年月  TCRI     CFO  CFO不一致  利息支出率  資產報酬%  營業利益%  借款息%  \\\n",
       "0  1101 台泥  2008/12/31   3.0   80.43       0   3.51   2.93   6.64  3.72   \n",
       "1  1201 味全  2008/12/31   5.0   10.75       0   0.54   4.62   4.04  3.27   \n",
       "2  1210 大成  2008/12/31   4.0   23.25       0   0.42   5.93   1.96  4.42   \n",
       "3  1215 卜蜂  2008/12/31   4.0    1.77       0   0.27   5.49   2.37  3.73   \n",
       "4  1216 統一  2008/12/31   4.0  178.78       0   1.38   4.02   4.95  3.56   \n",
       "\n",
       "   平均收款天增減  ...  借款依存度%      營收  TSE產業別  c_0  c_1  c_2  c_3  c_4  初步等級  \\\n",
       "0     -2.0  ...    88.0   785.0       1  0.0  0.0  0.0  0.0  0.0     3   \n",
       "1     -2.0  ...    63.0   202.0       2  0.0  0.0  0.0  0.0  0.0     3   \n",
       "2     -5.0  ...    43.0   712.0       2  0.0  0.0  0.0  0.0  0.0     2   \n",
       "3      0.0  ...    38.0   154.0       2  0.0  0.0  0.0  0.0  0.0     4   \n",
       "4     -1.0  ...   125.0  2997.0       2  0.0  0.0  0.0  0.0  0.0     3   \n",
       "\n",
       "   門檻等級_規模  \n",
       "0        3  \n",
       "1        3  \n",
       "2        2  \n",
       "3        4  \n",
       "4        3  \n",
       "\n",
       "[5 rows x 21 columns]"
      ]
     },
     "execution_count": 7,
     "metadata": {},
     "output_type": "execute_result"
    }
   ],
   "source": [
    "thresholdLevel = []\n",
    "for i in range(len(df)):\n",
    "    rev = df['營收'].iloc[i]\n",
    "    level = df['初步等級'].iloc[i]\n",
    "    threshold = 0\n",
    "    \n",
    "    # 營收不到5億，則不列入前5等；電子業門檻較高，門檻為10億\n",
    "    if df['TSE產業別'].iloc[i] == 28: # 電子零組件業產業別代碼為28\n",
    "        threshold = 10\n",
    "    else:\n",
    "        threshold = 5\n",
    "    if rev < threshold and level <= 5:\n",
    "        level = 6\n",
    "        \n",
    "    # 營收不到10億，則不列入前4等；電子業門檻較高，門檻為20億\n",
    "    if df['TSE產業別'].iloc[i] == 28: # 電子零組件業產業別代碼為28\n",
    "        threshold = 20\n",
    "    else:\n",
    "        threshold = 10\n",
    "    if rev < threshold and level <= 4:\n",
    "        level = 5\n",
    "    \n",
    "    # 營收不到30億，則不列入前3等；電子業門檻較高，門檻為40億\n",
    "    if df['TSE產業別'].iloc[i] == 28: # 電子零組件業產業別代碼為28\n",
    "        threshold = 40\n",
    "    else:\n",
    "        threshold = 30\n",
    "    if rev < threshold and level <= 3:\n",
    "        level = 4\n",
    "        \n",
    "    # 營收不到100億，則不列入前2等\n",
    "    threshold = 100\n",
    "    if rev < threshold and level <= 2:\n",
    "        level = 3\n",
    "        \n",
    "    # 營收不到200億，則不列入前1等\n",
    "    threshold = 200\n",
    "    if rev < threshold and level <= 1:\n",
    "        level = 2\n",
    "    \n",
    "    # 補充電子業門檻較高原因：受景氣影響較深，除非擁有關鍵技術或特殊的利基市場、獨門生意，否則一律適用較嚴格的規模門檻。\n",
    "    \n",
    "    thresholdLevel.append(level)\n",
    "\n",
    "df['門檻等級_規模'] = thresholdLevel\n",
    "df.head()"
   ]
  },
  {
   "cell_type": "markdown",
   "metadata": {},
   "source": [
    "## 2-2 APL 財務壓力計"
   ]
  },
  {
   "cell_type": "markdown",
   "metadata": {},
   "source": [
    "### 2-2-1 Assets Management"
   ]
  },
  {
   "cell_type": "code",
   "execution_count": 8,
   "metadata": {},
   "outputs": [],
   "source": [
    "# # 確認有無離群值\n",
    "# plt.subplot(1, 2, 1)\n",
    "# plt.boxplot(df['平均收款天增減'])\n",
    "# plt.subplot(1, 2, 2)\n",
    "# plt.boxplot(df['平均售貨天增減'])\n",
    "# plt.tight_layout()"
   ]
  },
  {
   "cell_type": "code",
   "execution_count": 9,
   "metadata": {},
   "outputs": [
    {
     "data": {
      "text/html": [
       "<div>\n",
       "<style scoped>\n",
       "    .dataframe tbody tr th:only-of-type {\n",
       "        vertical-align: middle;\n",
       "    }\n",
       "\n",
       "    .dataframe tbody tr th {\n",
       "        vertical-align: top;\n",
       "    }\n",
       "\n",
       "    .dataframe thead th {\n",
       "        text-align: right;\n",
       "    }\n",
       "</style>\n",
       "<table border=\"1\" class=\"dataframe\">\n",
       "  <thead>\n",
       "    <tr style=\"text-align: right;\">\n",
       "      <th></th>\n",
       "      <th>公司</th>\n",
       "      <th>年月</th>\n",
       "      <th>TCRI</th>\n",
       "      <th>CFO</th>\n",
       "      <th>CFO不一致</th>\n",
       "      <th>利息支出率</th>\n",
       "      <th>資產報酬%</th>\n",
       "      <th>營業利益%</th>\n",
       "      <th>借款息%</th>\n",
       "      <th>平均收款天增減</th>\n",
       "      <th>...</th>\n",
       "      <th>借款依存度%</th>\n",
       "      <th>營收</th>\n",
       "      <th>TSE產業別</th>\n",
       "      <th>c_0</th>\n",
       "      <th>c_1</th>\n",
       "      <th>c_2</th>\n",
       "      <th>c_3</th>\n",
       "      <th>c_4</th>\n",
       "      <th>初步等級</th>\n",
       "      <th>門檻等級_規模</th>\n",
       "    </tr>\n",
       "  </thead>\n",
       "  <tbody>\n",
       "    <tr>\n",
       "      <th>0</th>\n",
       "      <td>1101 台泥</td>\n",
       "      <td>2008/12/31</td>\n",
       "      <td>3.0</td>\n",
       "      <td>80.43</td>\n",
       "      <td>0</td>\n",
       "      <td>3.51</td>\n",
       "      <td>2.93</td>\n",
       "      <td>6.64</td>\n",
       "      <td>3.72</td>\n",
       "      <td>-2.0</td>\n",
       "      <td>...</td>\n",
       "      <td>88.0</td>\n",
       "      <td>785.0</td>\n",
       "      <td>1</td>\n",
       "      <td>0.0</td>\n",
       "      <td>0.0</td>\n",
       "      <td>0.0</td>\n",
       "      <td>0.0</td>\n",
       "      <td>0.0</td>\n",
       "      <td>3</td>\n",
       "      <td>3</td>\n",
       "    </tr>\n",
       "    <tr>\n",
       "      <th>1</th>\n",
       "      <td>1201 味全</td>\n",
       "      <td>2008/12/31</td>\n",
       "      <td>5.0</td>\n",
       "      <td>10.75</td>\n",
       "      <td>0</td>\n",
       "      <td>0.54</td>\n",
       "      <td>4.62</td>\n",
       "      <td>4.04</td>\n",
       "      <td>3.27</td>\n",
       "      <td>-2.0</td>\n",
       "      <td>...</td>\n",
       "      <td>63.0</td>\n",
       "      <td>202.0</td>\n",
       "      <td>2</td>\n",
       "      <td>0.0</td>\n",
       "      <td>0.0</td>\n",
       "      <td>0.0</td>\n",
       "      <td>0.0</td>\n",
       "      <td>0.0</td>\n",
       "      <td>3</td>\n",
       "      <td>3</td>\n",
       "    </tr>\n",
       "  </tbody>\n",
       "</table>\n",
       "<p>2 rows × 21 columns</p>\n",
       "</div>"
      ],
      "text/plain": [
       "        公司          年月  TCRI    CFO  CFO不一致  利息支出率  資產報酬%  營業利益%  借款息%  \\\n",
       "0  1101 台泥  2008/12/31   3.0  80.43       0   3.51   2.93   6.64  3.72   \n",
       "1  1201 味全  2008/12/31   5.0  10.75       0   0.54   4.62   4.04  3.27   \n",
       "\n",
       "   平均收款天增減  ...  借款依存度%     營收  TSE產業別  c_0  c_1  c_2  c_3  c_4  初步等級  門檻等級_規模  \n",
       "0     -2.0  ...    88.0  785.0       1  0.0  0.0  0.0  0.0  0.0     3        3  \n",
       "1     -2.0  ...    63.0  202.0       2  0.0  0.0  0.0  0.0  0.0     3        3  \n",
       "\n",
       "[2 rows x 21 columns]"
      ]
     },
     "execution_count": 9,
     "metadata": {},
     "output_type": "execute_result"
    }
   ],
   "source": [
    "from scipy import stats\n",
    "index_temp_1 = df[(np.abs(stats.zscore(df['平均收款天增減'])) > 3)].index\n",
    "index_temp_2 = df[(np.abs(stats.zscore(df['平均售貨天增減'])) > 3)].index\n",
    "# display(index_temp_1)\n",
    "# display(index_temp_2)\n",
    "\n",
    "# 聯集：讓index不重複\n",
    "def find_union(lst1, lst2):\n",
    "    final_list = list(set(lst1) | set(lst2)) \n",
    "    return final_list\n",
    "\n",
    "index_to_drop = find_union(index_temp_1, index_temp_2)\n",
    "\n",
    "df.drop(index=index_to_drop, axis=1, inplace=True)\n",
    "df.head(2)"
   ]
  },
  {
   "cell_type": "code",
   "execution_count": 10,
   "metadata": {},
   "outputs": [],
   "source": [
    "# plt.subplot(1, 2, 1)\n",
    "# plt.boxplot(df['平均收款天增減'])\n",
    "# plt.subplot(1, 2, 2)\n",
    "# plt.boxplot(df['平均售貨天增減'])\n",
    "# plt.tight_layout()"
   ]
  },
  {
   "cell_type": "code",
   "execution_count": 11,
   "metadata": {},
   "outputs": [],
   "source": [
    "# A1. 平均收帳天數比前一期慢 >= 20 天\n",
    "# df[df['平均收款天增減'] >= 20]\n",
    "A1 = []\n",
    "for d in df['平均收款天增減']:\n",
    "    if d >= 20:\n",
    "        A1.append(int(d / 20))\n",
    "    else:\n",
    "        A1.append(0)\n",
    "df['A1'] = A1"
   ]
  },
  {
   "cell_type": "code",
   "execution_count": 12,
   "metadata": {},
   "outputs": [],
   "source": [
    "# A3. 平均售貨天數比前一期慢 >= 20 天\n",
    "A3 = []\n",
    "for d in df['平均售貨天增減']:\n",
    "    if d >= 20:\n",
    "        A3.append(int(d / 20))\n",
    "    else:\n",
    "        A3.append(0)\n",
    "df['A3'] = A3"
   ]
  },
  {
   "cell_type": "markdown",
   "metadata": {},
   "source": [
    "### 2-2-2 Profitability"
   ]
  },
  {
   "cell_type": "code",
   "execution_count": 13,
   "metadata": {},
   "outputs": [],
   "source": [
    "# P1. 當期的總資產報酬率(ROA)不敷借款息\n",
    "# df[df['資產報酬%'] - df['借款息%'] <= 0]\n",
    "P1 = []\n",
    "for i in range(len(df)):\n",
    "    if df['資產報酬%'].iloc[i] - df['借款息%'].iloc[i] <= 0:\n",
    "        P1.append(True)\n",
    "    else:\n",
    "        P1.append(False)"
   ]
  },
  {
   "cell_type": "code",
   "execution_count": 14,
   "metadata": {},
   "outputs": [],
   "source": [
    "# P2. 當期的營業利益率(OP%)不足支應利息支出率(INT%)\n",
    "# df[df['營業利益%'] - df['利息支出率'] <= 0]\n",
    "P2 = []\n",
    "for i in range(len(df)):\n",
    "    if df['營業利益%'].iloc[i] - df['利息支出率'].iloc[i] <= 0:\n",
    "        P2.append(True)\n",
    "    else:\n",
    "        P2.append(False)"
   ]
  },
  {
   "cell_type": "code",
   "execution_count": 15,
   "metadata": {},
   "outputs": [
    {
     "data": {
      "text/html": [
       "<div>\n",
       "<style scoped>\n",
       "    .dataframe tbody tr th:only-of-type {\n",
       "        vertical-align: middle;\n",
       "    }\n",
       "\n",
       "    .dataframe tbody tr th {\n",
       "        vertical-align: top;\n",
       "    }\n",
       "\n",
       "    .dataframe thead th {\n",
       "        text-align: right;\n",
       "    }\n",
       "</style>\n",
       "<table border=\"1\" class=\"dataframe\">\n",
       "  <thead>\n",
       "    <tr style=\"text-align: right;\">\n",
       "      <th></th>\n",
       "      <th>公司</th>\n",
       "      <th>年月</th>\n",
       "      <th>TCRI</th>\n",
       "      <th>CFO</th>\n",
       "      <th>CFO不一致</th>\n",
       "      <th>利息支出率</th>\n",
       "      <th>資產報酬%</th>\n",
       "      <th>營業利益%</th>\n",
       "      <th>借款息%</th>\n",
       "      <th>平均收款天增減</th>\n",
       "      <th>...</th>\n",
       "      <th>c_0</th>\n",
       "      <th>c_1</th>\n",
       "      <th>c_2</th>\n",
       "      <th>c_3</th>\n",
       "      <th>c_4</th>\n",
       "      <th>初步等級</th>\n",
       "      <th>門檻等級_規模</th>\n",
       "      <th>A1</th>\n",
       "      <th>A3</th>\n",
       "      <th>P</th>\n",
       "    </tr>\n",
       "  </thead>\n",
       "  <tbody>\n",
       "    <tr>\n",
       "      <th>0</th>\n",
       "      <td>1101 台泥</td>\n",
       "      <td>2008/12/31</td>\n",
       "      <td>3.0</td>\n",
       "      <td>80.43</td>\n",
       "      <td>0</td>\n",
       "      <td>3.51</td>\n",
       "      <td>2.93</td>\n",
       "      <td>6.64</td>\n",
       "      <td>3.72</td>\n",
       "      <td>-2.0</td>\n",
       "      <td>...</td>\n",
       "      <td>0.0</td>\n",
       "      <td>0.0</td>\n",
       "      <td>0.0</td>\n",
       "      <td>0.0</td>\n",
       "      <td>0.0</td>\n",
       "      <td>3</td>\n",
       "      <td>3</td>\n",
       "      <td>0</td>\n",
       "      <td>0</td>\n",
       "      <td>0</td>\n",
       "    </tr>\n",
       "    <tr>\n",
       "      <th>1</th>\n",
       "      <td>1201 味全</td>\n",
       "      <td>2008/12/31</td>\n",
       "      <td>5.0</td>\n",
       "      <td>10.75</td>\n",
       "      <td>0</td>\n",
       "      <td>0.54</td>\n",
       "      <td>4.62</td>\n",
       "      <td>4.04</td>\n",
       "      <td>3.27</td>\n",
       "      <td>-2.0</td>\n",
       "      <td>...</td>\n",
       "      <td>0.0</td>\n",
       "      <td>0.0</td>\n",
       "      <td>0.0</td>\n",
       "      <td>0.0</td>\n",
       "      <td>0.0</td>\n",
       "      <td>3</td>\n",
       "      <td>3</td>\n",
       "      <td>0</td>\n",
       "      <td>0</td>\n",
       "      <td>0</td>\n",
       "    </tr>\n",
       "    <tr>\n",
       "      <th>2</th>\n",
       "      <td>1210 大成</td>\n",
       "      <td>2008/12/31</td>\n",
       "      <td>4.0</td>\n",
       "      <td>23.25</td>\n",
       "      <td>0</td>\n",
       "      <td>0.42</td>\n",
       "      <td>5.93</td>\n",
       "      <td>1.96</td>\n",
       "      <td>4.42</td>\n",
       "      <td>-5.0</td>\n",
       "      <td>...</td>\n",
       "      <td>0.0</td>\n",
       "      <td>0.0</td>\n",
       "      <td>0.0</td>\n",
       "      <td>0.0</td>\n",
       "      <td>0.0</td>\n",
       "      <td>2</td>\n",
       "      <td>2</td>\n",
       "      <td>0</td>\n",
       "      <td>0</td>\n",
       "      <td>0</td>\n",
       "    </tr>\n",
       "    <tr>\n",
       "      <th>3</th>\n",
       "      <td>1215 卜蜂</td>\n",
       "      <td>2008/12/31</td>\n",
       "      <td>4.0</td>\n",
       "      <td>1.77</td>\n",
       "      <td>0</td>\n",
       "      <td>0.27</td>\n",
       "      <td>5.49</td>\n",
       "      <td>2.37</td>\n",
       "      <td>3.73</td>\n",
       "      <td>0.0</td>\n",
       "      <td>...</td>\n",
       "      <td>0.0</td>\n",
       "      <td>0.0</td>\n",
       "      <td>0.0</td>\n",
       "      <td>0.0</td>\n",
       "      <td>0.0</td>\n",
       "      <td>4</td>\n",
       "      <td>4</td>\n",
       "      <td>0</td>\n",
       "      <td>0</td>\n",
       "      <td>0</td>\n",
       "    </tr>\n",
       "    <tr>\n",
       "      <th>4</th>\n",
       "      <td>1216 統一</td>\n",
       "      <td>2008/12/31</td>\n",
       "      <td>4.0</td>\n",
       "      <td>178.78</td>\n",
       "      <td>0</td>\n",
       "      <td>1.38</td>\n",
       "      <td>4.02</td>\n",
       "      <td>4.95</td>\n",
       "      <td>3.56</td>\n",
       "      <td>-1.0</td>\n",
       "      <td>...</td>\n",
       "      <td>0.0</td>\n",
       "      <td>0.0</td>\n",
       "      <td>0.0</td>\n",
       "      <td>0.0</td>\n",
       "      <td>0.0</td>\n",
       "      <td>3</td>\n",
       "      <td>3</td>\n",
       "      <td>0</td>\n",
       "      <td>0</td>\n",
       "      <td>0</td>\n",
       "    </tr>\n",
       "  </tbody>\n",
       "</table>\n",
       "<p>5 rows × 24 columns</p>\n",
       "</div>"
      ],
      "text/plain": [
       "        公司          年月  TCRI     CFO  CFO不一致  利息支出率  資產報酬%  營業利益%  借款息%  \\\n",
       "0  1101 台泥  2008/12/31   3.0   80.43       0   3.51   2.93   6.64  3.72   \n",
       "1  1201 味全  2008/12/31   5.0   10.75       0   0.54   4.62   4.04  3.27   \n",
       "2  1210 大成  2008/12/31   4.0   23.25       0   0.42   5.93   1.96  4.42   \n",
       "3  1215 卜蜂  2008/12/31   4.0    1.77       0   0.27   5.49   2.37  3.73   \n",
       "4  1216 統一  2008/12/31   4.0  178.78       0   1.38   4.02   4.95  3.56   \n",
       "\n",
       "   平均收款天增減  ...  c_0  c_1  c_2  c_3  c_4  初步等級  門檻等級_規模  A1  A3  P  \n",
       "0     -2.0  ...  0.0  0.0  0.0  0.0  0.0     3        3   0   0  0  \n",
       "1     -2.0  ...  0.0  0.0  0.0  0.0  0.0     3        3   0   0  0  \n",
       "2     -5.0  ...  0.0  0.0  0.0  0.0  0.0     2        2   0   0  0  \n",
       "3      0.0  ...  0.0  0.0  0.0  0.0  0.0     4        4   0   0  0  \n",
       "4     -1.0  ...  0.0  0.0  0.0  0.0  0.0     3        3   0   0  0  \n",
       "\n",
       "[5 rows x 24 columns]"
      ]
     },
     "execution_count": 15,
     "metadata": {},
     "output_type": "execute_result"
    }
   ],
   "source": [
    "'''\n",
    "P發生的case\n",
    "(1) P1且P2\n",
    "(2) 連續3期P1（先略過）\n",
    "'''\n",
    "P_case1 = []\n",
    "for i in range(len(df)):\n",
    "    if P1[i] and P2[i]:\n",
    "        P_case1.append(1)\n",
    "    else:\n",
    "        P_case1.append(0)\n",
    "df['P'] = P_case1\n",
    "df.head()"
   ]
  },
  {
   "cell_type": "markdown",
   "metadata": {},
   "source": [
    "### 2-2-3 Liquidity"
   ]
  },
  {
   "cell_type": "code",
   "execution_count": 16,
   "metadata": {},
   "outputs": [],
   "source": [
    "# L1. 借款依存度(DE%)超過100%\n",
    "# df[df['借款依存度%'] > 100]\n",
    "L1 = []\n",
    "for l in df['借款依存度%']:\n",
    "    if l > 100:\n",
    "        L1.append(1)\n",
    "    else:\n",
    "        L1.append(0)\n",
    "df['L1'] = L1"
   ]
  },
  {
   "cell_type": "code",
   "execution_count": 17,
   "metadata": {},
   "outputs": [],
   "source": [
    "# L3. CFO為負，不足資金 < -0.25億\n",
    "# df[df['CFO'] < -0.25]\n",
    "L3 = []\n",
    "for l in df['CFO']:\n",
    "    if l < 0.25:\n",
    "        L3.append(1)\n",
    "    else:\n",
    "        L3.append(0)\n",
    "df['L3'] = L3"
   ]
  },
  {
   "cell_type": "markdown",
   "metadata": {},
   "source": [
    "### 把TCRI等級量化"
   ]
  },
  {
   "cell_type": "code",
   "execution_count": 18,
   "metadata": {},
   "outputs": [],
   "source": [
    "df[\"score\"] = 0.0\n",
    "df.loc[df['TCRI'] ==  0.0, 'score'] = 100.0\n",
    "df.loc[df['TCRI'] ==  9.0, 'score'] = 100.0\n",
    "df.loc[df['TCRI'] ==  8.0, 'score'] = 200.0\n",
    "df.loc[df['TCRI'] ==  7.0, 'score'] = 300.0\n",
    "df.loc[df['TCRI'] ==  6.0, 'score'] = 400.0\n",
    "df.loc[df['TCRI'] ==  5.0, 'score'] = 500.0\n",
    "df.loc[df['TCRI'] ==  4.0, 'score'] = 600.0\n",
    "df.loc[df['TCRI'] ==  3.0, 'score'] = 700.0\n",
    "df.loc[df['TCRI'] ==  2.0, 'score'] = 800.0\n",
    "df.loc[df['TCRI'] ==  1.0, 'score'] = 900.0"
   ]
  },
  {
   "cell_type": "code",
   "execution_count": 19,
   "metadata": {},
   "outputs": [
    {
     "data": {
      "text/html": [
       "<div>\n",
       "<style scoped>\n",
       "    .dataframe tbody tr th:only-of-type {\n",
       "        vertical-align: middle;\n",
       "    }\n",
       "\n",
       "    .dataframe tbody tr th {\n",
       "        vertical-align: top;\n",
       "    }\n",
       "\n",
       "    .dataframe thead th {\n",
       "        text-align: right;\n",
       "    }\n",
       "</style>\n",
       "<table border=\"1\" class=\"dataframe\">\n",
       "  <thead>\n",
       "    <tr style=\"text-align: right;\">\n",
       "      <th></th>\n",
       "      <th>公司</th>\n",
       "      <th>年月</th>\n",
       "      <th>TCRI</th>\n",
       "      <th>CFO</th>\n",
       "      <th>CFO不一致</th>\n",
       "      <th>利息支出率</th>\n",
       "      <th>資產報酬%</th>\n",
       "      <th>營業利益%</th>\n",
       "      <th>借款息%</th>\n",
       "      <th>平均收款天增減</th>\n",
       "      <th>...</th>\n",
       "      <th>c_3</th>\n",
       "      <th>c_4</th>\n",
       "      <th>初步等級</th>\n",
       "      <th>門檻等級_規模</th>\n",
       "      <th>A1</th>\n",
       "      <th>A3</th>\n",
       "      <th>P</th>\n",
       "      <th>L1</th>\n",
       "      <th>L3</th>\n",
       "      <th>score</th>\n",
       "    </tr>\n",
       "  </thead>\n",
       "  <tbody>\n",
       "    <tr>\n",
       "      <th>0</th>\n",
       "      <td>1101 台泥</td>\n",
       "      <td>2008/12/31</td>\n",
       "      <td>3.0</td>\n",
       "      <td>80.43</td>\n",
       "      <td>0</td>\n",
       "      <td>3.51</td>\n",
       "      <td>2.93</td>\n",
       "      <td>6.64</td>\n",
       "      <td>3.72</td>\n",
       "      <td>-2.0</td>\n",
       "      <td>...</td>\n",
       "      <td>0.0</td>\n",
       "      <td>0.0</td>\n",
       "      <td>3</td>\n",
       "      <td>3</td>\n",
       "      <td>0</td>\n",
       "      <td>0</td>\n",
       "      <td>0</td>\n",
       "      <td>0</td>\n",
       "      <td>0</td>\n",
       "      <td>700.0</td>\n",
       "    </tr>\n",
       "    <tr>\n",
       "      <th>1</th>\n",
       "      <td>1201 味全</td>\n",
       "      <td>2008/12/31</td>\n",
       "      <td>5.0</td>\n",
       "      <td>10.75</td>\n",
       "      <td>0</td>\n",
       "      <td>0.54</td>\n",
       "      <td>4.62</td>\n",
       "      <td>4.04</td>\n",
       "      <td>3.27</td>\n",
       "      <td>-2.0</td>\n",
       "      <td>...</td>\n",
       "      <td>0.0</td>\n",
       "      <td>0.0</td>\n",
       "      <td>3</td>\n",
       "      <td>3</td>\n",
       "      <td>0</td>\n",
       "      <td>0</td>\n",
       "      <td>0</td>\n",
       "      <td>0</td>\n",
       "      <td>0</td>\n",
       "      <td>500.0</td>\n",
       "    </tr>\n",
       "    <tr>\n",
       "      <th>2</th>\n",
       "      <td>1210 大成</td>\n",
       "      <td>2008/12/31</td>\n",
       "      <td>4.0</td>\n",
       "      <td>23.25</td>\n",
       "      <td>0</td>\n",
       "      <td>0.42</td>\n",
       "      <td>5.93</td>\n",
       "      <td>1.96</td>\n",
       "      <td>4.42</td>\n",
       "      <td>-5.0</td>\n",
       "      <td>...</td>\n",
       "      <td>0.0</td>\n",
       "      <td>0.0</td>\n",
       "      <td>2</td>\n",
       "      <td>2</td>\n",
       "      <td>0</td>\n",
       "      <td>0</td>\n",
       "      <td>0</td>\n",
       "      <td>0</td>\n",
       "      <td>0</td>\n",
       "      <td>600.0</td>\n",
       "    </tr>\n",
       "    <tr>\n",
       "      <th>3</th>\n",
       "      <td>1215 卜蜂</td>\n",
       "      <td>2008/12/31</td>\n",
       "      <td>4.0</td>\n",
       "      <td>1.77</td>\n",
       "      <td>0</td>\n",
       "      <td>0.27</td>\n",
       "      <td>5.49</td>\n",
       "      <td>2.37</td>\n",
       "      <td>3.73</td>\n",
       "      <td>0.0</td>\n",
       "      <td>...</td>\n",
       "      <td>0.0</td>\n",
       "      <td>0.0</td>\n",
       "      <td>4</td>\n",
       "      <td>4</td>\n",
       "      <td>0</td>\n",
       "      <td>0</td>\n",
       "      <td>0</td>\n",
       "      <td>0</td>\n",
       "      <td>0</td>\n",
       "      <td>600.0</td>\n",
       "    </tr>\n",
       "    <tr>\n",
       "      <th>4</th>\n",
       "      <td>1216 統一</td>\n",
       "      <td>2008/12/31</td>\n",
       "      <td>4.0</td>\n",
       "      <td>178.78</td>\n",
       "      <td>0</td>\n",
       "      <td>1.38</td>\n",
       "      <td>4.02</td>\n",
       "      <td>4.95</td>\n",
       "      <td>3.56</td>\n",
       "      <td>-1.0</td>\n",
       "      <td>...</td>\n",
       "      <td>0.0</td>\n",
       "      <td>0.0</td>\n",
       "      <td>3</td>\n",
       "      <td>3</td>\n",
       "      <td>0</td>\n",
       "      <td>0</td>\n",
       "      <td>0</td>\n",
       "      <td>1</td>\n",
       "      <td>0</td>\n",
       "      <td>600.0</td>\n",
       "    </tr>\n",
       "  </tbody>\n",
       "</table>\n",
       "<p>5 rows × 27 columns</p>\n",
       "</div>"
      ],
      "text/plain": [
       "        公司          年月  TCRI     CFO  CFO不一致  利息支出率  資產報酬%  營業利益%  借款息%  \\\n",
       "0  1101 台泥  2008/12/31   3.0   80.43       0   3.51   2.93   6.64  3.72   \n",
       "1  1201 味全  2008/12/31   5.0   10.75       0   0.54   4.62   4.04  3.27   \n",
       "2  1210 大成  2008/12/31   4.0   23.25       0   0.42   5.93   1.96  4.42   \n",
       "3  1215 卜蜂  2008/12/31   4.0    1.77       0   0.27   5.49   2.37  3.73   \n",
       "4  1216 統一  2008/12/31   4.0  178.78       0   1.38   4.02   4.95  3.56   \n",
       "\n",
       "   平均收款天增減  ...  c_3  c_4  初步等級  門檻等級_規模  A1  A3  P  L1  L3  score  \n",
       "0     -2.0  ...  0.0  0.0     3        3   0   0  0   0   0  700.0  \n",
       "1     -2.0  ...  0.0  0.0     3        3   0   0  0   0   0  500.0  \n",
       "2     -5.0  ...  0.0  0.0     2        2   0   0  0   0   0  600.0  \n",
       "3      0.0  ...  0.0  0.0     4        4   0   0  0   0   0  600.0  \n",
       "4     -1.0  ...  0.0  0.0     3        3   0   0  0   1   0  600.0  \n",
       "\n",
       "[5 rows x 27 columns]"
      ]
     },
     "execution_count": 19,
     "metadata": {},
     "output_type": "execute_result"
    }
   ],
   "source": [
    "df.head()"
   ]
  },
  {
   "cell_type": "markdown",
   "metadata": {},
   "source": [
    "# 3 訓練前的準備"
   ]
  },
  {
   "cell_type": "markdown",
   "metadata": {},
   "source": [
    "## 3-1 Resample imbalanced labels\n",
    "https://www.kaggle.com/rafjaa/resampling-strategies-for-imbalanced-datasets"
   ]
  },
  {
   "cell_type": "code",
   "execution_count": 20,
   "metadata": {},
   "outputs": [
    {
     "data": {
      "text/plain": [
       "4.0    509\n",
       "5.0    440\n",
       "6.0    398\n",
       "7.0    270\n",
       "3.0    206\n",
       "8.0    168\n",
       "9.0    102\n",
       "0.0     80\n",
       "2.0     45\n",
       "1.0     40\n",
       "Name: TCRI, dtype: int64"
      ]
     },
     "execution_count": 20,
     "metadata": {},
     "output_type": "execute_result"
    }
   ],
   "source": [
    "df['TCRI'].value_counts()"
   ]
  },
  {
   "cell_type": "code",
   "execution_count": 21,
   "metadata": {},
   "outputs": [],
   "source": [
    "# df['TCRI'].value_counts().plot(kind='bar')"
   ]
  },
  {
   "cell_type": "code",
   "execution_count": 22,
   "metadata": {},
   "outputs": [],
   "source": [
    "# Class count\n",
    "count_TCRI_4 = 2*len(df[df['TCRI'] == 4])\n",
    "\n",
    "\n",
    "# Divide by class\n",
    "df_TCRI_0 = df[df['TCRI'] == 0.0]\n",
    "df_TCRI_1 = df[df['TCRI'] == 1]\n",
    "df_TCRI_2 = df[df['TCRI'] == 2]\n",
    "df_TCRI_3 = df[df['TCRI'] == 3]\n",
    "df_TCRI_4 = df[df['TCRI'] == 4]\n",
    "df_TCRI_5 = df[df['TCRI'] == 5]\n",
    "df_TCRI_6 = df[df['TCRI'] == 6]\n",
    "df_TCRI_7 = df[df['TCRI'] == 7]\n",
    "df_TCRI_8 = df[df['TCRI'] == 8]\n",
    "df_TCRI_9 = df[df['TCRI'] == 9]"
   ]
  },
  {
   "cell_type": "code",
   "execution_count": 23,
   "metadata": {},
   "outputs": [],
   "source": [
    "# 把每個類別都複製到跟4類別一樣多\n",
    "\n",
    "df_TCRI_0_over = df_TCRI_0.sample(n=count_TCRI_4, replace=True, random_state=2018, )\n",
    "df_TCRI_1_over = df_TCRI_1.sample(n=count_TCRI_4, replace=True, random_state=2018, )\n",
    "df_TCRI_2_over = df_TCRI_2.sample(n=count_TCRI_4, replace=True, random_state=2018, )\n",
    "df_TCRI_3_over = df_TCRI_3.sample(n=count_TCRI_4, replace=True, random_state=2018, )\n",
    "df_TCRI_4_over = df_TCRI_4.sample(n=count_TCRI_4, replace=True, random_state=2018, )\n",
    "df_TCRI_5_over = df_TCRI_5.sample(n=count_TCRI_4, replace=True, random_state=2018, )\n",
    "df_TCRI_6_over = df_TCRI_6.sample(n=count_TCRI_4, replace=True, random_state=2018, )\n",
    "df_TCRI_7_over = df_TCRI_7.sample(n=count_TCRI_4, replace=True, random_state=2018, )\n",
    "df_TCRI_8_over = df_TCRI_8.sample(n=count_TCRI_4, replace=True, random_state=2018, )\n",
    "df_TCRI_9_over = df_TCRI_9.sample(n=count_TCRI_4, replace=True, random_state=2018, )"
   ]
  },
  {
   "cell_type": "code",
   "execution_count": 24,
   "metadata": {},
   "outputs": [
    {
     "data": {
      "text/plain": [
       "9.0    1018\n",
       "8.0    1018\n",
       "7.0    1018\n",
       "6.0    1018\n",
       "5.0    1018\n",
       "4.0    1018\n",
       "3.0    1018\n",
       "2.0    1018\n",
       "1.0    1018\n",
       "0.0    1018\n",
       "Name: TCRI, dtype: int64"
      ]
     },
     "execution_count": 24,
     "metadata": {},
     "output_type": "execute_result"
    }
   ],
   "source": [
    "# 新的複製的data 合併\n",
    "df_resample = pd.concat([df_TCRI_0_over, df_TCRI_1_over, df_TCRI_2_over, df_TCRI_3_over, df_TCRI_4_over, df_TCRI_5_over, df_TCRI_6_over, df_TCRI_7_over, df_TCRI_8_over, df_TCRI_9_over])\n",
    "df_resample['TCRI'].value_counts()"
   ]
  },
  {
   "cell_type": "code",
   "execution_count": 25,
   "metadata": {},
   "outputs": [],
   "source": [
    "# df_resample['TCRI'].value_counts().plot(kind='bar')"
   ]
  },
  {
   "cell_type": "markdown",
   "metadata": {},
   "source": [
    "# 4 訓練LinearRegression模型 求coef_"
   ]
  },
  {
   "cell_type": "code",
   "execution_count": 26,
   "metadata": {},
   "outputs": [],
   "source": [
    "import tensorflow as tf\n",
    "\n",
    "from tensorflow import keras\n",
    "from tensorflow.keras import Sequential, Model, Input\n",
    "from tensorflow.keras.layers import Dense, Embedding, SpatialDropout1D, Dropout, Activation, Flatten, InputLayer\n",
    "from sklearn import preprocessing\n",
    "from sklearn.feature_selection import SelectFromModel\n",
    "from sklearn.model_selection import train_test_split\n",
    "from sklearn.metrics import mean_squared_error, confusion_matrix\n",
    "from sklearn.metrics import multilabel_confusion_matrix\n",
    "from sklearn.metrics import accuracy_score\n",
    "from sklearn.metrics import classification_report"
   ]
  },
  {
   "cell_type": "markdown",
   "metadata": {},
   "source": [
    "### 沒resample 沒標準化 有c_0 c_1 c_2 c_3 c_4"
   ]
  },
  {
   "cell_type": "code",
   "execution_count": 47,
   "metadata": {},
   "outputs": [
    {
     "name": "stdout",
     "output_type": "stream",
     "text": [
      "(2258, 23)\n",
      "(2258,)\n"
     ]
    }
   ],
   "source": [
    "Y = df['score'].values\n",
    "X = df.drop(['score', 'TCRI', '公司', '年月'], axis = 1).values\n",
    "\n",
    "print(X.shape)\n",
    "print(Y.shape)"
   ]
  },
  {
   "cell_type": "code",
   "execution_count": 46,
   "metadata": {},
   "outputs": [
    {
     "name": "stdout",
     "output_type": "stream",
     "text": [
      "[ 2.28844318e-02  1.06298644e+01  1.70288770e-01  3.12441942e-01\n",
      "  1.02897646e-01 -6.88277444e+00  7.38613099e-01  4.99753168e-03\n",
      " -3.27501636e-02  1.75883776e-02  7.53962202e-03  6.25391973e-01\n",
      " -6.21879084e+00  8.45040940e-01 -2.17218844e+01 -2.17667066e+00\n",
      " -1.76267162e+01 -3.96918656e+01 -2.91135976e+01  3.36270736e-01\n",
      "  1.22814863e+00 -2.20028811e+01 -1.37836596e+01]\n",
      "CPU times: user 5.86 ms, sys: 373 µs, total: 6.23 ms\n",
      "Wall time: 2.06 ms\n"
     ]
    }
   ],
   "source": [
    "%%time\n",
    "\n",
    "from sklearn.linear_model import LinearRegression\n",
    "\n",
    "model_LinearRegression = LinearRegression()\n",
    "model_LinearRegression.fit(X, Y)\n",
    "\n",
    "print(model_LinearRegression.coef_)"
   ]
  },
  {
   "cell_type": "markdown",
   "metadata": {},
   "source": [
    "### 沒resample 有標準化 有c_0 c_1 c_2 c_3 c_4"
   ]
  },
  {
   "cell_type": "code",
   "execution_count": 29,
   "metadata": {},
   "outputs": [
    {
     "name": "stdout",
     "output_type": "stream",
     "text": [
      "(2258, 23)\n",
      "(2258,)\n"
     ]
    }
   ],
   "source": [
    "Y = df['score'].values\n",
    "X = df.drop(['score', 'TCRI', '公司', '年月'], axis = 1).values\n",
    "\n",
    "# 標準化\n",
    "minmax_scale = preprocessing.MinMaxScaler(feature_range=(0, 1))\n",
    "X = minmax_scale.fit_transform(X)\n",
    "\n",
    "print(X.shape)\n",
    "print(Y.shape)"
   ]
  },
  {
   "cell_type": "code",
   "execution_count": 30,
   "metadata": {},
   "outputs": [
    {
     "name": "stdout",
     "output_type": "stream",
     "text": [
      "[ 1.37009780e+02  1.06298644e+01  1.29249177e+01  5.36494058e+01\n",
      "  1.12680125e+02 -1.54587114e+02  3.36807573e+02  8.60874808e+01\n",
      " -1.44624723e+02  2.13470139e+02  2.26188660e-01  1.29524789e+02\n",
      " -2.05236324e+02  9.23373048e+01 -1.29622936e+02 -7.37003842e+01\n",
      " -1.41013730e+02 -3.17534924e+02 -2.91135976e+02  1.38207273e+02\n",
      "  1.22814863e+00 -2.20028811e+01 -1.37836596e+01]\n",
      "CPU times: user 7.97 ms, sys: 864 µs, total: 8.84 ms\n",
      "Wall time: 1.42 ms\n"
     ]
    }
   ],
   "source": [
    "%%time\n",
    "\n",
    "from sklearn.linear_model import LinearRegression\n",
    "\n",
    "model_LinearRegression = LinearRegression()\n",
    "model_LinearRegression.fit(X, Y)\n",
    "\n",
    "print(model_LinearRegression.coef_)"
   ]
  },
  {
   "cell_type": "markdown",
   "metadata": {},
   "source": [
    "### 有resample 沒標準化 有c_0 c_1 c_2 c_3 c_4"
   ]
  },
  {
   "cell_type": "code",
   "execution_count": 31,
   "metadata": {},
   "outputs": [
    {
     "name": "stdout",
     "output_type": "stream",
     "text": [
      "(10180, 23)\n",
      "(10180,)\n"
     ]
    }
   ],
   "source": [
    "Y = df_resample['score'].values\n",
    "X = df_resample.drop(['score', 'TCRI', '公司', '年月'], axis = 1).values\n",
    "\n",
    "print(X.shape)\n",
    "print(Y.shape)"
   ]
  },
  {
   "cell_type": "code",
   "execution_count": 32,
   "metadata": {},
   "outputs": [
    {
     "name": "stdout",
     "output_type": "stream",
     "text": [
      "[ 1.11502237e-02 -8.40796146e+00  1.00939492e+00  5.01643534e-01\n",
      "  8.29877254e-02 -8.02147154e+00  6.52339383e-01  1.05916382e-02\n",
      "  3.26637418e-03  1.82134347e-02  7.15262655e-01 -1.02988682e-01\n",
      " -1.54418152e+01  1.88307867e+00 -2.00349455e+01  1.83070262e+00\n",
      " -2.16320306e+00 -7.33439152e+01 -2.32209811e+01  3.86740771e-01\n",
      "  1.65606357e+01 -1.76852358e+01 -2.60885502e+00]\n",
      "CPU times: user 19.7 ms, sys: 3.6 ms, total: 23.3 ms\n",
      "Wall time: 3.92 ms\n"
     ]
    }
   ],
   "source": [
    "%%time\n",
    "\n",
    "from sklearn.linear_model import LinearRegression\n",
    "\n",
    "model_LinearRegression = LinearRegression()\n",
    "model_LinearRegression.fit(X, Y)\n",
    "\n",
    "print(model_LinearRegression.coef_)"
   ]
  },
  {
   "cell_type": "markdown",
   "metadata": {},
   "source": [
    "### 有resample 有標準化 有c_0 c_1 c_2 c_3 c_4"
   ]
  },
  {
   "cell_type": "code",
   "execution_count": 33,
   "metadata": {},
   "outputs": [
    {
     "name": "stdout",
     "output_type": "stream",
     "text": [
      "(10180, 23)\n",
      "(10180,)\n"
     ]
    }
   ],
   "source": [
    "Y = df_resample['score'].values\n",
    "X = df_resample.drop(['score', 'TCRI', '公司', '年月'], axis = 1).values\n",
    "\n",
    "# 標準化\n",
    "minmax_scale = preprocessing.MinMaxScaler(feature_range=(0, 1))\n",
    "X = minmax_scale.fit_transform(X)\n",
    "\n",
    "print(X.shape)\n",
    "print(Y.shape)"
   ]
  },
  {
   "cell_type": "code",
   "execution_count": 34,
   "metadata": {},
   "outputs": [
    {
     "name": "stdout",
     "output_type": "stream",
     "text": [
      "[  66.58199981   -8.40796146   76.61307461   86.13721114   84.97943084\n",
      " -180.16225075  297.46675872  182.45155959   14.4243084   221.0564571\n",
      "   21.45787965  -21.32996246 -509.62019342  205.76329648 -119.5563155\n",
      "   61.98617428  -17.30562448 -586.75132124 -232.20981126  158.95045676\n",
      "   16.56063568  -17.68523579   -2.60885502]\n",
      "CPU times: user 13.5 ms, sys: 754 µs, total: 14.3 ms\n",
      "Wall time: 2.31 ms\n"
     ]
    }
   ],
   "source": [
    "%%time\n",
    "\n",
    "from sklearn.linear_model import LinearRegression\n",
    "\n",
    "model_LinearRegression = LinearRegression()\n",
    "model_LinearRegression.fit(X, Y)\n",
    "\n",
    "print(model_LinearRegression.coef_)"
   ]
  },
  {
   "cell_type": "markdown",
   "metadata": {},
   "source": [
    "### 沒resample 沒標準化 沒c_0 c_1 c_2 c_3 c_4"
   ]
  },
  {
   "cell_type": "code",
   "execution_count": 35,
   "metadata": {},
   "outputs": [
    {
     "name": "stdout",
     "output_type": "stream",
     "text": [
      "(2258, 18)\n",
      "(2258,)\n"
     ]
    }
   ],
   "source": [
    "Y = df['score'].values\n",
    "X = df.drop(['score', 'TCRI', '公司', '年月', 'c_0', 'c_1', 'c_2', 'c_3', 'c_4' ], axis = 1).values\n",
    "\n",
    "print(X.shape)\n",
    "print(Y.shape)"
   ]
  },
  {
   "cell_type": "code",
   "execution_count": 36,
   "metadata": {},
   "outputs": [
    {
     "name": "stdout",
     "output_type": "stream",
     "text": [
      "[ 2.70170136e-02  1.22036858e+01  2.75892486e-02  3.18932192e-01\n",
      "  9.08556950e-02 -6.78901129e+00  7.30684945e-01  4.85585436e-03\n",
      " -3.40231517e-02  1.70081585e-02  6.78788202e-02 -1.74844630e+01\n",
      " -4.02646778e+01 -2.85807934e+01  3.46574387e-01  1.47609731e+00\n",
      " -2.20799771e+01 -1.31972614e+01]\n",
      "CPU times: user 8.36 ms, sys: 0 ns, total: 8.36 ms\n",
      "Wall time: 1.33 ms\n"
     ]
    }
   ],
   "source": [
    "%%time\n",
    "\n",
    "from sklearn.linear_model import LinearRegression\n",
    "\n",
    "model_LinearRegression = LinearRegression()\n",
    "model_LinearRegression.fit(X, Y)\n",
    "\n",
    "print(model_LinearRegression.coef_)"
   ]
  },
  {
   "cell_type": "markdown",
   "metadata": {},
   "source": [
    "### 沒resample 有標準化 沒c_0 c_1 c_2 c_3 c_4"
   ]
  },
  {
   "cell_type": "code",
   "execution_count": 37,
   "metadata": {},
   "outputs": [
    {
     "name": "stdout",
     "output_type": "stream",
     "text": [
      "(2258, 18)\n",
      "(2258,)\n"
     ]
    }
   ],
   "source": [
    "Y = df['score'].values\n",
    "X = df.drop(['score', 'TCRI', '公司', '年月', 'c_0', 'c_1', 'c_2', 'c_3', 'c_4' ], axis = 1).values\n",
    "\n",
    "# 標準化\n",
    "minmax_scale = preprocessing.MinMaxScaler(feature_range=(0, 1))\n",
    "X = minmax_scale.fit_transform(X)\n",
    "\n",
    "print(X.shape)\n",
    "print(Y.shape)"
   ]
  },
  {
   "cell_type": "code",
   "execution_count": 38,
   "metadata": {},
   "outputs": [
    {
     "name": "stdout",
     "output_type": "stream",
     "text": [
      "[ 161.75167113   12.2036858     2.09402397   54.76384668   99.49334594\n",
      " -152.48119366  333.19233472   83.64694725 -150.24623787  206.4280202\n",
      "    2.03636461 -139.87570431 -322.11742233 -285.8079344   142.44207324\n",
      "    1.47609731  -22.0799771   -13.19726142]\n",
      "CPU times: user 7.3 ms, sys: 370 µs, total: 7.67 ms\n",
      "Wall time: 1.21 ms\n"
     ]
    }
   ],
   "source": [
    "%%time\n",
    "\n",
    "from sklearn.linear_model import LinearRegression\n",
    "\n",
    "model_LinearRegression = LinearRegression()\n",
    "model_LinearRegression.fit(X, Y)\n",
    "\n",
    "print(model_LinearRegression.coef_)"
   ]
  },
  {
   "cell_type": "markdown",
   "metadata": {},
   "source": [
    "### 有resample 沒標準化 沒c_0 c_1 c_2 c_3 c_4"
   ]
  },
  {
   "cell_type": "code",
   "execution_count": 39,
   "metadata": {},
   "outputs": [
    {
     "name": "stdout",
     "output_type": "stream",
     "text": [
      "(10180, 18)\n",
      "(10180,)\n"
     ]
    }
   ],
   "source": [
    "Y = df_resample['score'].values\n",
    "X = df_resample.drop(['score', 'TCRI', '公司', '年月', 'c_0', 'c_1', 'c_2', 'c_3', 'c_4' ], axis = 1).values\n",
    "\n",
    "print(X.shape)\n",
    "print(Y.shape)"
   ]
  },
  {
   "cell_type": "code",
   "execution_count": 40,
   "metadata": {},
   "outputs": [
    {
     "name": "stdout",
     "output_type": "stream",
     "text": [
      "[ 1.47525979e-02 -1.22406761e+01  9.28967768e-01  7.06466824e-01\n",
      "  7.51550151e-02 -8.11850771e+00  6.62001458e-01  1.01562051e-02\n",
      "  4.86098072e-03  1.78183453e-02  8.21062001e-01 -8.05504584e-01\n",
      " -7.52985855e+01 -2.27241585e+01  4.17611623e-01  1.81349902e+01\n",
      " -2.12272724e+01  2.49924141e+00]\n",
      "CPU times: user 17.4 ms, sys: 0 ns, total: 17.4 ms\n",
      "Wall time: 2.83 ms\n"
     ]
    }
   ],
   "source": [
    "%%time\n",
    "\n",
    "from sklearn.linear_model import LinearRegression\n",
    "\n",
    "model_LinearRegression = LinearRegression()\n",
    "model_LinearRegression.fit(X, Y)\n",
    "\n",
    "print(model_LinearRegression.coef_)"
   ]
  },
  {
   "cell_type": "markdown",
   "metadata": {},
   "source": [
    "### 有resample 有標準化 沒c_0 c_1 c_2 c_3 c_4"
   ]
  },
  {
   "cell_type": "code",
   "execution_count": 41,
   "metadata": {},
   "outputs": [
    {
     "name": "stdout",
     "output_type": "stream",
     "text": [
      "(10180, 18)\n",
      "(10180,)\n"
     ]
    }
   ],
   "source": [
    "Y = df_resample['score'].values\n",
    "X = df_resample.drop(['score', 'TCRI', '公司', '年月', 'c_0', 'c_1', 'c_2', 'c_3', 'c_4' ], axis = 1).values\n",
    "\n",
    "# 標準化\n",
    "minmax_scale = preprocessing.MinMaxScaler(feature_range=(0, 1))\n",
    "X = minmax_scale.fit_transform(X)\n",
    "\n",
    "print(X.shape)\n",
    "print(Y.shape)"
   ]
  },
  {
   "cell_type": "code",
   "execution_count": 42,
   "metadata": {},
   "outputs": [
    {
     "name": "stdout",
     "output_type": "stream",
     "text": [
      "[  88.09307285  -12.24067614   70.50865356  121.30741832   76.95873548\n",
      " -182.34168309  301.87266498  174.95078851   21.46609087  216.26125733\n",
      "   24.63186004   -6.44403668 -602.38868423 -227.24158541  171.63837689\n",
      "   18.13499015  -21.22727244    2.49924141]\n",
      "CPU times: user 11.9 ms, sys: 46 µs, total: 12 ms\n",
      "Wall time: 1.92 ms\n"
     ]
    }
   ],
   "source": [
    "%%time\n",
    "\n",
    "from sklearn.linear_model import LinearRegression\n",
    "\n",
    "model_LinearRegression = LinearRegression()\n",
    "model_LinearRegression.fit(X, Y)\n",
    "\n",
    "print(model_LinearRegression.coef_)"
   ]
  },
  {
   "cell_type": "code",
   "execution_count": 48,
   "metadata": {},
   "outputs": [
    {
     "data": {
      "text/plain": [
       "array(['公司', '年月', 'TCRI', 'CFO', 'CFO不一致', '利息支出率', '資產報酬%', '營業利益%',\n",
       "       '借款息%', '平均收款天增減', '平均售貨天增減', '借款依存度%', '營收', 'TSE產業別', 'c_0',\n",
       "       'c_1', 'c_2', 'c_3', 'c_4', '初步等級', '門檻等級_規模', 'A1', 'A3', 'P',\n",
       "       'L1', 'L3', 'score'], dtype=object)"
      ]
     },
     "execution_count": 48,
     "metadata": {},
     "output_type": "execute_result"
    }
   ],
   "source": [
    "df.columns.values"
   ]
  },
  {
   "cell_type": "code",
   "execution_count": 49,
   "metadata": {},
   "outputs": [
    {
     "data": {
      "text/plain": [
       "array(['CFO', 'CFO不一致', '利息支出率', '資產報酬%', '營業利益%', '借款息%', '平均收款天增減',\n",
       "       '平均售貨天增減', '借款依存度%', '營收', 'TSE產業別', 'c_0', 'c_1', 'c_2', 'c_3',\n",
       "       'c_4', '初步等級', '門檻等級_規模', 'A1', 'A3', 'P', 'L1', 'L3'],\n",
       "      dtype=object)"
      ]
     },
     "execution_count": 49,
     "metadata": {},
     "output_type": "execute_result"
    }
   ],
   "source": [
    "df.drop(['score', 'TCRI', '公司', '年月'], axis = 1).columns.values"
   ]
  },
  {
   "cell_type": "code",
   "execution_count": 50,
   "metadata": {},
   "outputs": [
    {
     "data": {
      "text/plain": [
       "array(['CFO', 'CFO不一致', '利息支出率', '資產報酬%', '營業利益%', '借款息%', '平均收款天增減',\n",
       "       '平均售貨天增減', '借款依存度%', '營收', 'TSE產業別', '初步等級', '門檻等級_規模', 'A1', 'A3',\n",
       "       'P', 'L1', 'L3'], dtype=object)"
      ]
     },
     "execution_count": 50,
     "metadata": {},
     "output_type": "execute_result"
    }
   ],
   "source": [
    "df.drop(['score', 'TCRI', '公司', '年月', 'c_0', 'c_1', 'c_2', 'c_3', 'c_4' ], axis = 1).columns.values"
   ]
  },
  {
   "cell_type": "code",
   "execution_count": null,
   "metadata": {},
   "outputs": [],
   "source": []
  },
  {
   "cell_type": "code",
   "execution_count": null,
   "metadata": {},
   "outputs": [],
   "source": []
  }
 ],
 "metadata": {
  "kernelspec": {
   "display_name": "Python 3",
   "language": "python",
   "name": "python3"
  },
  "language_info": {
   "codemirror_mode": {
    "name": "ipython",
    "version": 3
   },
   "file_extension": ".py",
   "mimetype": "text/x-python",
   "name": "python",
   "nbconvert_exporter": "python",
   "pygments_lexer": "ipython3",
   "version": "3.7.5"
  }
 },
 "nbformat": 4,
 "nbformat_minor": 4
}
