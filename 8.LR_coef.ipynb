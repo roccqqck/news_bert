{
 "cells": [
  {
   "cell_type": "markdown",
   "metadata": {},
   "source": [
    "# 2 Feature Engineering"
   ]
  },
  {
   "cell_type": "markdown",
   "metadata": {},
   "source": [
    "## 2-1 根據基本總分產生的初步TCRI等級"
   ]
  },
  {
   "cell_type": "code",
   "execution_count": 1,
   "metadata": {},
   "outputs": [
    {
     "name": "stderr",
     "output_type": "stream",
     "text": [
      "/home/barry/miniconda3/envs/bertenv2/lib/python3.7/site-packages/tqdm/std.py:648: FutureWarning: The Panel class is removed from pandas. Accessing it from the top-level namespace will also be removed in the next version\n",
      "  from pandas import Panel\n"
     ]
    }
   ],
   "source": [
    "import pandas as pd\n",
    "import numpy as np\n",
    "from tqdm import tqdm\n",
    "tqdm.pandas()"
   ]
  },
  {
   "cell_type": "code",
   "execution_count": 2,
   "metadata": {},
   "outputs": [
    {
     "name": "stdout",
     "output_type": "stream",
     "text": [
      "(2288, 20)\n"
     ]
    },
    {
     "data": {
      "text/html": [
       "<div>\n",
       "<style scoped>\n",
       "    .dataframe tbody tr th:only-of-type {\n",
       "        vertical-align: middle;\n",
       "    }\n",
       "\n",
       "    .dataframe tbody tr th {\n",
       "        vertical-align: top;\n",
       "    }\n",
       "\n",
       "    .dataframe thead th {\n",
       "        text-align: right;\n",
       "    }\n",
       "</style>\n",
       "<table border=\"1\" class=\"dataframe\">\n",
       "  <thead>\n",
       "    <tr style=\"text-align: right;\">\n",
       "      <th></th>\n",
       "      <th>公司</th>\n",
       "      <th>年月</th>\n",
       "      <th>TCRI</th>\n",
       "      <th>總分</th>\n",
       "      <th>CFO</th>\n",
       "      <th>CFO不一致</th>\n",
       "      <th>利息支出率</th>\n",
       "      <th>資產報酬%</th>\n",
       "      <th>營業利益%</th>\n",
       "      <th>借款息%</th>\n",
       "      <th>平均收款天增減</th>\n",
       "      <th>平均售貨天增減</th>\n",
       "      <th>借款依存度%</th>\n",
       "      <th>營收</th>\n",
       "      <th>TSE產業別</th>\n",
       "      <th>c_0</th>\n",
       "      <th>c_1</th>\n",
       "      <th>c_2</th>\n",
       "      <th>c_3</th>\n",
       "      <th>c_4</th>\n",
       "    </tr>\n",
       "  </thead>\n",
       "  <tbody>\n",
       "    <tr>\n",
       "      <th>2286</th>\n",
       "      <td>9943 好樂迪</td>\n",
       "      <td>2017/12/29</td>\n",
       "      <td>5.0</td>\n",
       "      <td>711.0</td>\n",
       "      <td>5.20</td>\n",
       "      <td>0</td>\n",
       "      <td>0.00</td>\n",
       "      <td>15.93</td>\n",
       "      <td>17.41</td>\n",
       "      <td>6.53</td>\n",
       "      <td>1.0</td>\n",
       "      <td>0.0</td>\n",
       "      <td>0.0</td>\n",
       "      <td>29.0</td>\n",
       "      <td>16</td>\n",
       "      <td>0.0</td>\n",
       "      <td>0.000000e+00</td>\n",
       "      <td>0.000000e+00</td>\n",
       "      <td>0.000000e+00</td>\n",
       "      <td>0.000000e+00</td>\n",
       "    </tr>\n",
       "    <tr>\n",
       "      <th>2287</th>\n",
       "      <td>9946 三發地產</td>\n",
       "      <td>2017/12/29</td>\n",
       "      <td>7.0</td>\n",
       "      <td>243.0</td>\n",
       "      <td>-8.71</td>\n",
       "      <td>1</td>\n",
       "      <td>7.49</td>\n",
       "      <td>3.83</td>\n",
       "      <td>20.42</td>\n",
       "      <td>2.51</td>\n",
       "      <td>9.0</td>\n",
       "      <td>1437.0</td>\n",
       "      <td>102.0</td>\n",
       "      <td>17.0</td>\n",
       "      <td>14</td>\n",
       "      <td>1.0</td>\n",
       "      <td>1.433146e-20</td>\n",
       "      <td>1.467837e-13</td>\n",
       "      <td>2.940595e-25</td>\n",
       "      <td>2.578725e-17</td>\n",
       "    </tr>\n",
       "  </tbody>\n",
       "</table>\n",
       "</div>"
      ],
      "text/plain": [
       "             公司          年月  TCRI     總分   CFO  CFO不一致  利息支出率  資產報酬%  營業利益%  \\\n",
       "2286   9943 好樂迪  2017/12/29   5.0  711.0  5.20       0   0.00  15.93  17.41   \n",
       "2287  9946 三發地產  2017/12/29   7.0  243.0 -8.71       1   7.49   3.83  20.42   \n",
       "\n",
       "      借款息%  平均收款天增減  平均售貨天增減  借款依存度%    營收  TSE產業別  c_0           c_1  \\\n",
       "2286  6.53      1.0      0.0     0.0  29.0      16  0.0  0.000000e+00   \n",
       "2287  2.51      9.0   1437.0   102.0  17.0      14  1.0  1.433146e-20   \n",
       "\n",
       "               c_2           c_3           c_4  \n",
       "2286  0.000000e+00  0.000000e+00  0.000000e+00  \n",
       "2287  1.467837e-13  2.940595e-25  2.578725e-17  "
      ]
     },
     "execution_count": 2,
     "metadata": {},
     "output_type": "execute_result"
    }
   ],
   "source": [
    "df = pd.read_csv(\"data/TCRI_2008_2017_prob.csv\", encoding=\"utf-8\")\n",
    "df[\"c_0\"] = df[\"c_0\"].astype(float)  # 讀取後將欄位弄成float\n",
    "df[\"c_1\"] = df[\"c_1\"].astype(float)\n",
    "df[\"c_2\"] = df[\"c_2\"].astype(float)\n",
    "df[\"c_3\"] = df[\"c_3\"].astype(float)\n",
    "df[\"c_4\"] = df[\"c_4\"].astype(float)\n",
    "df[\"TCRI\"] = df[\"TCRI\"].astype(float)\n",
    "print(df.shape)\n",
    "df.tail(2)"
   ]
  },
  {
   "cell_type": "code",
   "execution_count": 3,
   "metadata": {},
   "outputs": [],
   "source": [
    "def transformBasicTCRILevel(value):\n",
    "    level = 0\n",
    "    if value < 165.0:\n",
    "        level = 9\n",
    "    elif value < 250.0:\n",
    "        level = 8\n",
    "    elif value < 335.0:\n",
    "        level = 7\n",
    "    elif value < 420.0:\n",
    "        level = 6\n",
    "    elif value < 505.0:\n",
    "        level = 5\n",
    "    elif value < 590.0:\n",
    "        level = 4\n",
    "    elif value < 675.0:\n",
    "        level = 3\n",
    "    elif value < 760.0:\n",
    "        level = 2\n",
    "    else:\n",
    "        level = 1\n",
    "    return level"
   ]
  },
  {
   "cell_type": "code",
   "execution_count": 4,
   "metadata": {},
   "outputs": [],
   "source": [
    "basicTCRI = []\n",
    "for score in df['總分']:\n",
    "    basicTCRI.append(transformBasicTCRILevel(score))"
   ]
  },
  {
   "cell_type": "code",
   "execution_count": 5,
   "metadata": {},
   "outputs": [
    {
     "name": "stdout",
     "output_type": "stream",
     "text": [
      "2.3138757483972596\n"
     ]
    }
   ],
   "source": [
    "from sklearn.metrics import mean_squared_error\n",
    "from math import sqrt\n",
    "rmse = sqrt(mean_squared_error(basicTCRI, df['TCRI']))\n",
    "print(rmse)"
   ]
  },
  {
   "cell_type": "code",
   "execution_count": 6,
   "metadata": {},
   "outputs": [
    {
     "data": {
      "text/html": [
       "<div>\n",
       "<style scoped>\n",
       "    .dataframe tbody tr th:only-of-type {\n",
       "        vertical-align: middle;\n",
       "    }\n",
       "\n",
       "    .dataframe tbody tr th {\n",
       "        vertical-align: top;\n",
       "    }\n",
       "\n",
       "    .dataframe thead th {\n",
       "        text-align: right;\n",
       "    }\n",
       "</style>\n",
       "<table border=\"1\" class=\"dataframe\">\n",
       "  <thead>\n",
       "    <tr style=\"text-align: right;\">\n",
       "      <th></th>\n",
       "      <th>公司</th>\n",
       "      <th>年月</th>\n",
       "      <th>TCRI</th>\n",
       "      <th>總分</th>\n",
       "      <th>CFO</th>\n",
       "      <th>CFO不一致</th>\n",
       "      <th>利息支出率</th>\n",
       "      <th>資產報酬%</th>\n",
       "      <th>營業利益%</th>\n",
       "      <th>借款息%</th>\n",
       "      <th>...</th>\n",
       "      <th>平均售貨天增減</th>\n",
       "      <th>借款依存度%</th>\n",
       "      <th>營收</th>\n",
       "      <th>TSE產業別</th>\n",
       "      <th>c_0</th>\n",
       "      <th>c_1</th>\n",
       "      <th>c_2</th>\n",
       "      <th>c_3</th>\n",
       "      <th>c_4</th>\n",
       "      <th>初步等級</th>\n",
       "    </tr>\n",
       "  </thead>\n",
       "  <tbody>\n",
       "    <tr>\n",
       "      <th>0</th>\n",
       "      <td>1101 台泥</td>\n",
       "      <td>2008/12/31</td>\n",
       "      <td>3.0</td>\n",
       "      <td>622.0</td>\n",
       "      <td>80.43</td>\n",
       "      <td>0</td>\n",
       "      <td>3.51</td>\n",
       "      <td>2.93</td>\n",
       "      <td>6.64</td>\n",
       "      <td>3.72</td>\n",
       "      <td>...</td>\n",
       "      <td>-2.0</td>\n",
       "      <td>88.0</td>\n",
       "      <td>785.0</td>\n",
       "      <td>1</td>\n",
       "      <td>0.0</td>\n",
       "      <td>0.0</td>\n",
       "      <td>0.0</td>\n",
       "      <td>0.0</td>\n",
       "      <td>0.0</td>\n",
       "      <td>3</td>\n",
       "    </tr>\n",
       "    <tr>\n",
       "      <th>1</th>\n",
       "      <td>1201 味全</td>\n",
       "      <td>2008/12/31</td>\n",
       "      <td>5.0</td>\n",
       "      <td>621.0</td>\n",
       "      <td>10.75</td>\n",
       "      <td>0</td>\n",
       "      <td>0.54</td>\n",
       "      <td>4.62</td>\n",
       "      <td>4.04</td>\n",
       "      <td>3.27</td>\n",
       "      <td>...</td>\n",
       "      <td>1.0</td>\n",
       "      <td>63.0</td>\n",
       "      <td>202.0</td>\n",
       "      <td>2</td>\n",
       "      <td>0.0</td>\n",
       "      <td>0.0</td>\n",
       "      <td>0.0</td>\n",
       "      <td>0.0</td>\n",
       "      <td>0.0</td>\n",
       "      <td>3</td>\n",
       "    </tr>\n",
       "    <tr>\n",
       "      <th>2</th>\n",
       "      <td>1210 大成</td>\n",
       "      <td>2008/12/31</td>\n",
       "      <td>4.0</td>\n",
       "      <td>719.0</td>\n",
       "      <td>23.25</td>\n",
       "      <td>0</td>\n",
       "      <td>0.42</td>\n",
       "      <td>5.93</td>\n",
       "      <td>1.96</td>\n",
       "      <td>4.42</td>\n",
       "      <td>...</td>\n",
       "      <td>-9.0</td>\n",
       "      <td>43.0</td>\n",
       "      <td>712.0</td>\n",
       "      <td>2</td>\n",
       "      <td>0.0</td>\n",
       "      <td>0.0</td>\n",
       "      <td>0.0</td>\n",
       "      <td>0.0</td>\n",
       "      <td>0.0</td>\n",
       "      <td>2</td>\n",
       "    </tr>\n",
       "    <tr>\n",
       "      <th>3</th>\n",
       "      <td>1215 卜蜂</td>\n",
       "      <td>2008/12/31</td>\n",
       "      <td>4.0</td>\n",
       "      <td>582.0</td>\n",
       "      <td>1.77</td>\n",
       "      <td>0</td>\n",
       "      <td>0.27</td>\n",
       "      <td>5.49</td>\n",
       "      <td>2.37</td>\n",
       "      <td>3.73</td>\n",
       "      <td>...</td>\n",
       "      <td>-1.0</td>\n",
       "      <td>38.0</td>\n",
       "      <td>154.0</td>\n",
       "      <td>2</td>\n",
       "      <td>0.0</td>\n",
       "      <td>0.0</td>\n",
       "      <td>0.0</td>\n",
       "      <td>0.0</td>\n",
       "      <td>0.0</td>\n",
       "      <td>4</td>\n",
       "    </tr>\n",
       "    <tr>\n",
       "      <th>4</th>\n",
       "      <td>1216 統一</td>\n",
       "      <td>2008/12/31</td>\n",
       "      <td>4.0</td>\n",
       "      <td>618.0</td>\n",
       "      <td>178.78</td>\n",
       "      <td>0</td>\n",
       "      <td>1.38</td>\n",
       "      <td>4.02</td>\n",
       "      <td>4.95</td>\n",
       "      <td>3.56</td>\n",
       "      <td>...</td>\n",
       "      <td>1.0</td>\n",
       "      <td>125.0</td>\n",
       "      <td>2997.0</td>\n",
       "      <td>2</td>\n",
       "      <td>0.0</td>\n",
       "      <td>0.0</td>\n",
       "      <td>0.0</td>\n",
       "      <td>0.0</td>\n",
       "      <td>0.0</td>\n",
       "      <td>3</td>\n",
       "    </tr>\n",
       "  </tbody>\n",
       "</table>\n",
       "<p>5 rows × 21 columns</p>\n",
       "</div>"
      ],
      "text/plain": [
       "        公司          年月  TCRI     總分     CFO  CFO不一致  利息支出率  資產報酬%  營業利益%  \\\n",
       "0  1101 台泥  2008/12/31   3.0  622.0   80.43       0   3.51   2.93   6.64   \n",
       "1  1201 味全  2008/12/31   5.0  621.0   10.75       0   0.54   4.62   4.04   \n",
       "2  1210 大成  2008/12/31   4.0  719.0   23.25       0   0.42   5.93   1.96   \n",
       "3  1215 卜蜂  2008/12/31   4.0  582.0    1.77       0   0.27   5.49   2.37   \n",
       "4  1216 統一  2008/12/31   4.0  618.0  178.78       0   1.38   4.02   4.95   \n",
       "\n",
       "   借款息%  ...  平均售貨天增減  借款依存度%      營收  TSE產業別  c_0  c_1  c_2  c_3  c_4  初步等級  \n",
       "0  3.72  ...     -2.0    88.0   785.0       1  0.0  0.0  0.0  0.0  0.0     3  \n",
       "1  3.27  ...      1.0    63.0   202.0       2  0.0  0.0  0.0  0.0  0.0     3  \n",
       "2  4.42  ...     -9.0    43.0   712.0       2  0.0  0.0  0.0  0.0  0.0     2  \n",
       "3  3.73  ...     -1.0    38.0   154.0       2  0.0  0.0  0.0  0.0  0.0     4  \n",
       "4  3.56  ...      1.0   125.0  2997.0       2  0.0  0.0  0.0  0.0  0.0     3  \n",
       "\n",
       "[5 rows x 21 columns]"
      ]
     },
     "execution_count": 6,
     "metadata": {},
     "output_type": "execute_result"
    }
   ],
   "source": [
    "# 用初步等級將總分替換\n",
    "# df.drop(['總分'], axis=1, inplace=True)\n",
    "df['初步等級'] = basicTCRI\n",
    "df.head()"
   ]
  },
  {
   "cell_type": "markdown",
   "metadata": {},
   "source": [
    "## 2-2 門檻等級：規模"
   ]
  },
  {
   "cell_type": "code",
   "execution_count": 7,
   "metadata": {},
   "outputs": [
    {
     "data": {
      "text/html": [
       "<div>\n",
       "<style scoped>\n",
       "    .dataframe tbody tr th:only-of-type {\n",
       "        vertical-align: middle;\n",
       "    }\n",
       "\n",
       "    .dataframe tbody tr th {\n",
       "        vertical-align: top;\n",
       "    }\n",
       "\n",
       "    .dataframe thead th {\n",
       "        text-align: right;\n",
       "    }\n",
       "</style>\n",
       "<table border=\"1\" class=\"dataframe\">\n",
       "  <thead>\n",
       "    <tr style=\"text-align: right;\">\n",
       "      <th></th>\n",
       "      <th>公司</th>\n",
       "      <th>年月</th>\n",
       "      <th>TCRI</th>\n",
       "      <th>總分</th>\n",
       "      <th>CFO</th>\n",
       "      <th>CFO不一致</th>\n",
       "      <th>利息支出率</th>\n",
       "      <th>資產報酬%</th>\n",
       "      <th>營業利益%</th>\n",
       "      <th>借款息%</th>\n",
       "      <th>...</th>\n",
       "      <th>借款依存度%</th>\n",
       "      <th>營收</th>\n",
       "      <th>TSE產業別</th>\n",
       "      <th>c_0</th>\n",
       "      <th>c_1</th>\n",
       "      <th>c_2</th>\n",
       "      <th>c_3</th>\n",
       "      <th>c_4</th>\n",
       "      <th>初步等級</th>\n",
       "      <th>門檻等級_規模</th>\n",
       "    </tr>\n",
       "  </thead>\n",
       "  <tbody>\n",
       "    <tr>\n",
       "      <th>0</th>\n",
       "      <td>1101 台泥</td>\n",
       "      <td>2008/12/31</td>\n",
       "      <td>3.0</td>\n",
       "      <td>622.0</td>\n",
       "      <td>80.43</td>\n",
       "      <td>0</td>\n",
       "      <td>3.51</td>\n",
       "      <td>2.93</td>\n",
       "      <td>6.64</td>\n",
       "      <td>3.72</td>\n",
       "      <td>...</td>\n",
       "      <td>88.0</td>\n",
       "      <td>785.0</td>\n",
       "      <td>1</td>\n",
       "      <td>0.0</td>\n",
       "      <td>0.0</td>\n",
       "      <td>0.0</td>\n",
       "      <td>0.0</td>\n",
       "      <td>0.0</td>\n",
       "      <td>3</td>\n",
       "      <td>3</td>\n",
       "    </tr>\n",
       "    <tr>\n",
       "      <th>1</th>\n",
       "      <td>1201 味全</td>\n",
       "      <td>2008/12/31</td>\n",
       "      <td>5.0</td>\n",
       "      <td>621.0</td>\n",
       "      <td>10.75</td>\n",
       "      <td>0</td>\n",
       "      <td>0.54</td>\n",
       "      <td>4.62</td>\n",
       "      <td>4.04</td>\n",
       "      <td>3.27</td>\n",
       "      <td>...</td>\n",
       "      <td>63.0</td>\n",
       "      <td>202.0</td>\n",
       "      <td>2</td>\n",
       "      <td>0.0</td>\n",
       "      <td>0.0</td>\n",
       "      <td>0.0</td>\n",
       "      <td>0.0</td>\n",
       "      <td>0.0</td>\n",
       "      <td>3</td>\n",
       "      <td>3</td>\n",
       "    </tr>\n",
       "    <tr>\n",
       "      <th>2</th>\n",
       "      <td>1210 大成</td>\n",
       "      <td>2008/12/31</td>\n",
       "      <td>4.0</td>\n",
       "      <td>719.0</td>\n",
       "      <td>23.25</td>\n",
       "      <td>0</td>\n",
       "      <td>0.42</td>\n",
       "      <td>5.93</td>\n",
       "      <td>1.96</td>\n",
       "      <td>4.42</td>\n",
       "      <td>...</td>\n",
       "      <td>43.0</td>\n",
       "      <td>712.0</td>\n",
       "      <td>2</td>\n",
       "      <td>0.0</td>\n",
       "      <td>0.0</td>\n",
       "      <td>0.0</td>\n",
       "      <td>0.0</td>\n",
       "      <td>0.0</td>\n",
       "      <td>2</td>\n",
       "      <td>2</td>\n",
       "    </tr>\n",
       "    <tr>\n",
       "      <th>3</th>\n",
       "      <td>1215 卜蜂</td>\n",
       "      <td>2008/12/31</td>\n",
       "      <td>4.0</td>\n",
       "      <td>582.0</td>\n",
       "      <td>1.77</td>\n",
       "      <td>0</td>\n",
       "      <td>0.27</td>\n",
       "      <td>5.49</td>\n",
       "      <td>2.37</td>\n",
       "      <td>3.73</td>\n",
       "      <td>...</td>\n",
       "      <td>38.0</td>\n",
       "      <td>154.0</td>\n",
       "      <td>2</td>\n",
       "      <td>0.0</td>\n",
       "      <td>0.0</td>\n",
       "      <td>0.0</td>\n",
       "      <td>0.0</td>\n",
       "      <td>0.0</td>\n",
       "      <td>4</td>\n",
       "      <td>4</td>\n",
       "    </tr>\n",
       "    <tr>\n",
       "      <th>4</th>\n",
       "      <td>1216 統一</td>\n",
       "      <td>2008/12/31</td>\n",
       "      <td>4.0</td>\n",
       "      <td>618.0</td>\n",
       "      <td>178.78</td>\n",
       "      <td>0</td>\n",
       "      <td>1.38</td>\n",
       "      <td>4.02</td>\n",
       "      <td>4.95</td>\n",
       "      <td>3.56</td>\n",
       "      <td>...</td>\n",
       "      <td>125.0</td>\n",
       "      <td>2997.0</td>\n",
       "      <td>2</td>\n",
       "      <td>0.0</td>\n",
       "      <td>0.0</td>\n",
       "      <td>0.0</td>\n",
       "      <td>0.0</td>\n",
       "      <td>0.0</td>\n",
       "      <td>3</td>\n",
       "      <td>3</td>\n",
       "    </tr>\n",
       "  </tbody>\n",
       "</table>\n",
       "<p>5 rows × 22 columns</p>\n",
       "</div>"
      ],
      "text/plain": [
       "        公司          年月  TCRI     總分     CFO  CFO不一致  利息支出率  資產報酬%  營業利益%  \\\n",
       "0  1101 台泥  2008/12/31   3.0  622.0   80.43       0   3.51   2.93   6.64   \n",
       "1  1201 味全  2008/12/31   5.0  621.0   10.75       0   0.54   4.62   4.04   \n",
       "2  1210 大成  2008/12/31   4.0  719.0   23.25       0   0.42   5.93   1.96   \n",
       "3  1215 卜蜂  2008/12/31   4.0  582.0    1.77       0   0.27   5.49   2.37   \n",
       "4  1216 統一  2008/12/31   4.0  618.0  178.78       0   1.38   4.02   4.95   \n",
       "\n",
       "   借款息%  ...  借款依存度%      營收  TSE產業別  c_0  c_1  c_2  c_3  c_4  初步等級  門檻等級_規模  \n",
       "0  3.72  ...    88.0   785.0       1  0.0  0.0  0.0  0.0  0.0     3        3  \n",
       "1  3.27  ...    63.0   202.0       2  0.0  0.0  0.0  0.0  0.0     3        3  \n",
       "2  4.42  ...    43.0   712.0       2  0.0  0.0  0.0  0.0  0.0     2        2  \n",
       "3  3.73  ...    38.0   154.0       2  0.0  0.0  0.0  0.0  0.0     4        4  \n",
       "4  3.56  ...   125.0  2997.0       2  0.0  0.0  0.0  0.0  0.0     3        3  \n",
       "\n",
       "[5 rows x 22 columns]"
      ]
     },
     "execution_count": 7,
     "metadata": {},
     "output_type": "execute_result"
    }
   ],
   "source": [
    "thresholdLevel = []\n",
    "for i in range(len(df)):\n",
    "    rev = df['營收'].iloc[i]\n",
    "    level = df['初步等級'].iloc[i]\n",
    "    threshold = 0\n",
    "    \n",
    "    # 營收不到5億，則不列入前5等；電子業門檻較高，門檻為10億\n",
    "    if df['TSE產業別'].iloc[i] == 28: # 電子零組件業產業別代碼為28\n",
    "        threshold = 10\n",
    "    else:\n",
    "        threshold = 5\n",
    "    if rev < threshold and level <= 5:\n",
    "        level = 6\n",
    "        \n",
    "    # 營收不到10億，則不列入前4等；電子業門檻較高，門檻為20億\n",
    "    if df['TSE產業別'].iloc[i] == 28: # 電子零組件業產業別代碼為28\n",
    "        threshold = 20\n",
    "    else:\n",
    "        threshold = 10\n",
    "    if rev < threshold and level <= 4:\n",
    "        level = 5\n",
    "    \n",
    "    # 營收不到30億，則不列入前3等；電子業門檻較高，門檻為40億\n",
    "    if df['TSE產業別'].iloc[i] == 28: # 電子零組件業產業別代碼為28\n",
    "        threshold = 40\n",
    "    else:\n",
    "        threshold = 30\n",
    "    if rev < threshold and level <= 3:\n",
    "        level = 4\n",
    "        \n",
    "    # 營收不到100億，則不列入前2等\n",
    "    threshold = 100\n",
    "    if rev < threshold and level <= 2:\n",
    "        level = 3\n",
    "        \n",
    "    # 營收不到200億，則不列入前1等\n",
    "    threshold = 200\n",
    "    if rev < threshold and level <= 1:\n",
    "        level = 2\n",
    "    \n",
    "    # 補充電子業門檻較高原因：受景氣影響較深，除非擁有關鍵技術或特殊的利基市場、獨門生意，否則一律適用較嚴格的規模門檻。\n",
    "    \n",
    "    thresholdLevel.append(level)\n",
    "\n",
    "df['門檻等級_規模'] = thresholdLevel\n",
    "df.head()"
   ]
  },
  {
   "cell_type": "markdown",
   "metadata": {},
   "source": [
    "## 2-2 APL 財務壓力計"
   ]
  },
  {
   "cell_type": "markdown",
   "metadata": {},
   "source": [
    "### 2-2-1 Assets Management"
   ]
  },
  {
   "cell_type": "code",
   "execution_count": 8,
   "metadata": {},
   "outputs": [],
   "source": [
    "# # 確認有無離群值\n",
    "# plt.subplot(1, 2, 1)\n",
    "# plt.boxplot(df['平均收款天增減'])\n",
    "# plt.subplot(1, 2, 2)\n",
    "# plt.boxplot(df['平均售貨天增減'])\n",
    "# plt.tight_layout()"
   ]
  },
  {
   "cell_type": "code",
   "execution_count": 9,
   "metadata": {},
   "outputs": [
    {
     "data": {
      "text/html": [
       "<div>\n",
       "<style scoped>\n",
       "    .dataframe tbody tr th:only-of-type {\n",
       "        vertical-align: middle;\n",
       "    }\n",
       "\n",
       "    .dataframe tbody tr th {\n",
       "        vertical-align: top;\n",
       "    }\n",
       "\n",
       "    .dataframe thead th {\n",
       "        text-align: right;\n",
       "    }\n",
       "</style>\n",
       "<table border=\"1\" class=\"dataframe\">\n",
       "  <thead>\n",
       "    <tr style=\"text-align: right;\">\n",
       "      <th></th>\n",
       "      <th>公司</th>\n",
       "      <th>年月</th>\n",
       "      <th>TCRI</th>\n",
       "      <th>總分</th>\n",
       "      <th>CFO</th>\n",
       "      <th>CFO不一致</th>\n",
       "      <th>利息支出率</th>\n",
       "      <th>資產報酬%</th>\n",
       "      <th>營業利益%</th>\n",
       "      <th>借款息%</th>\n",
       "      <th>...</th>\n",
       "      <th>借款依存度%</th>\n",
       "      <th>營收</th>\n",
       "      <th>TSE產業別</th>\n",
       "      <th>c_0</th>\n",
       "      <th>c_1</th>\n",
       "      <th>c_2</th>\n",
       "      <th>c_3</th>\n",
       "      <th>c_4</th>\n",
       "      <th>初步等級</th>\n",
       "      <th>門檻等級_規模</th>\n",
       "    </tr>\n",
       "  </thead>\n",
       "  <tbody>\n",
       "    <tr>\n",
       "      <th>0</th>\n",
       "      <td>1101 台泥</td>\n",
       "      <td>2008/12/31</td>\n",
       "      <td>3.0</td>\n",
       "      <td>622.0</td>\n",
       "      <td>80.43</td>\n",
       "      <td>0</td>\n",
       "      <td>3.51</td>\n",
       "      <td>2.93</td>\n",
       "      <td>6.64</td>\n",
       "      <td>3.72</td>\n",
       "      <td>...</td>\n",
       "      <td>88.0</td>\n",
       "      <td>785.0</td>\n",
       "      <td>1</td>\n",
       "      <td>0.0</td>\n",
       "      <td>0.0</td>\n",
       "      <td>0.0</td>\n",
       "      <td>0.0</td>\n",
       "      <td>0.0</td>\n",
       "      <td>3</td>\n",
       "      <td>3</td>\n",
       "    </tr>\n",
       "    <tr>\n",
       "      <th>1</th>\n",
       "      <td>1201 味全</td>\n",
       "      <td>2008/12/31</td>\n",
       "      <td>5.0</td>\n",
       "      <td>621.0</td>\n",
       "      <td>10.75</td>\n",
       "      <td>0</td>\n",
       "      <td>0.54</td>\n",
       "      <td>4.62</td>\n",
       "      <td>4.04</td>\n",
       "      <td>3.27</td>\n",
       "      <td>...</td>\n",
       "      <td>63.0</td>\n",
       "      <td>202.0</td>\n",
       "      <td>2</td>\n",
       "      <td>0.0</td>\n",
       "      <td>0.0</td>\n",
       "      <td>0.0</td>\n",
       "      <td>0.0</td>\n",
       "      <td>0.0</td>\n",
       "      <td>3</td>\n",
       "      <td>3</td>\n",
       "    </tr>\n",
       "  </tbody>\n",
       "</table>\n",
       "<p>2 rows × 22 columns</p>\n",
       "</div>"
      ],
      "text/plain": [
       "        公司          年月  TCRI     總分    CFO  CFO不一致  利息支出率  資產報酬%  營業利益%  借款息%  \\\n",
       "0  1101 台泥  2008/12/31   3.0  622.0  80.43       0   3.51   2.93   6.64  3.72   \n",
       "1  1201 味全  2008/12/31   5.0  621.0  10.75       0   0.54   4.62   4.04  3.27   \n",
       "\n",
       "   ...  借款依存度%     營收  TSE產業別  c_0  c_1  c_2  c_3  c_4  初步等級  門檻等級_規模  \n",
       "0  ...    88.0  785.0       1  0.0  0.0  0.0  0.0  0.0     3        3  \n",
       "1  ...    63.0  202.0       2  0.0  0.0  0.0  0.0  0.0     3        3  \n",
       "\n",
       "[2 rows x 22 columns]"
      ]
     },
     "execution_count": 9,
     "metadata": {},
     "output_type": "execute_result"
    }
   ],
   "source": [
    "from scipy import stats\n",
    "index_temp_1 = df[(np.abs(stats.zscore(df['平均收款天增減'])) > 3)].index\n",
    "index_temp_2 = df[(np.abs(stats.zscore(df['平均售貨天增減'])) > 3)].index\n",
    "# display(index_temp_1)\n",
    "# display(index_temp_2)\n",
    "\n",
    "# 聯集：讓index不重複\n",
    "def find_union(lst1, lst2):\n",
    "    final_list = list(set(lst1) | set(lst2)) \n",
    "    return final_list\n",
    "\n",
    "index_to_drop = find_union(index_temp_1, index_temp_2)\n",
    "\n",
    "df.drop(index=index_to_drop, axis=1, inplace=True)\n",
    "df.head(2)"
   ]
  },
  {
   "cell_type": "code",
   "execution_count": 10,
   "metadata": {},
   "outputs": [],
   "source": [
    "# plt.subplot(1, 2, 1)\n",
    "# plt.boxplot(df['平均收款天增減'])\n",
    "# plt.subplot(1, 2, 2)\n",
    "# plt.boxplot(df['平均售貨天增減'])\n",
    "# plt.tight_layout()"
   ]
  },
  {
   "cell_type": "code",
   "execution_count": 11,
   "metadata": {},
   "outputs": [],
   "source": [
    "# A1. 平均收帳天數比前一期慢 >= 20 天\n",
    "# df[df['平均收款天增減'] >= 20]\n",
    "A1 = []\n",
    "for d in df['平均收款天增減']:\n",
    "    if d >= 20:\n",
    "        A1.append(int(d / 20))\n",
    "    else:\n",
    "        A1.append(0)\n",
    "df['A1'] = A1"
   ]
  },
  {
   "cell_type": "code",
   "execution_count": 12,
   "metadata": {},
   "outputs": [],
   "source": [
    "# A3. 平均售貨天數比前一期慢 >= 20 天\n",
    "A3 = []\n",
    "for d in df['平均售貨天增減']:\n",
    "    if d >= 20:\n",
    "        A3.append(int(d / 20))\n",
    "    else:\n",
    "        A3.append(0)\n",
    "df['A3'] = A3"
   ]
  },
  {
   "cell_type": "markdown",
   "metadata": {},
   "source": [
    "### 2-2-2 Profitability"
   ]
  },
  {
   "cell_type": "code",
   "execution_count": 13,
   "metadata": {},
   "outputs": [],
   "source": [
    "# P1. 當期的總資產報酬率(ROA)不敷借款息\n",
    "# df[df['資產報酬%'] - df['借款息%'] <= 0]\n",
    "P1 = []\n",
    "for i in range(len(df)):\n",
    "    if df['資產報酬%'].iloc[i] - df['借款息%'].iloc[i] <= 0:\n",
    "        P1.append(True)\n",
    "    else:\n",
    "        P1.append(False)"
   ]
  },
  {
   "cell_type": "code",
   "execution_count": 14,
   "metadata": {},
   "outputs": [],
   "source": [
    "# P2. 當期的營業利益率(OP%)不足支應利息支出率(INT%)\n",
    "# df[df['營業利益%'] - df['利息支出率'] <= 0]\n",
    "P2 = []\n",
    "for i in range(len(df)):\n",
    "    if df['營業利益%'].iloc[i] - df['利息支出率'].iloc[i] <= 0:\n",
    "        P2.append(True)\n",
    "    else:\n",
    "        P2.append(False)"
   ]
  },
  {
   "cell_type": "code",
   "execution_count": 15,
   "metadata": {},
   "outputs": [
    {
     "data": {
      "text/html": [
       "<div>\n",
       "<style scoped>\n",
       "    .dataframe tbody tr th:only-of-type {\n",
       "        vertical-align: middle;\n",
       "    }\n",
       "\n",
       "    .dataframe tbody tr th {\n",
       "        vertical-align: top;\n",
       "    }\n",
       "\n",
       "    .dataframe thead th {\n",
       "        text-align: right;\n",
       "    }\n",
       "</style>\n",
       "<table border=\"1\" class=\"dataframe\">\n",
       "  <thead>\n",
       "    <tr style=\"text-align: right;\">\n",
       "      <th></th>\n",
       "      <th>公司</th>\n",
       "      <th>年月</th>\n",
       "      <th>TCRI</th>\n",
       "      <th>總分</th>\n",
       "      <th>CFO</th>\n",
       "      <th>CFO不一致</th>\n",
       "      <th>利息支出率</th>\n",
       "      <th>資產報酬%</th>\n",
       "      <th>營業利益%</th>\n",
       "      <th>借款息%</th>\n",
       "      <th>...</th>\n",
       "      <th>c_0</th>\n",
       "      <th>c_1</th>\n",
       "      <th>c_2</th>\n",
       "      <th>c_3</th>\n",
       "      <th>c_4</th>\n",
       "      <th>初步等級</th>\n",
       "      <th>門檻等級_規模</th>\n",
       "      <th>A1</th>\n",
       "      <th>A3</th>\n",
       "      <th>P</th>\n",
       "    </tr>\n",
       "  </thead>\n",
       "  <tbody>\n",
       "    <tr>\n",
       "      <th>0</th>\n",
       "      <td>1101 台泥</td>\n",
       "      <td>2008/12/31</td>\n",
       "      <td>3.0</td>\n",
       "      <td>622.0</td>\n",
       "      <td>80.43</td>\n",
       "      <td>0</td>\n",
       "      <td>3.51</td>\n",
       "      <td>2.93</td>\n",
       "      <td>6.64</td>\n",
       "      <td>3.72</td>\n",
       "      <td>...</td>\n",
       "      <td>0.0</td>\n",
       "      <td>0.0</td>\n",
       "      <td>0.0</td>\n",
       "      <td>0.0</td>\n",
       "      <td>0.0</td>\n",
       "      <td>3</td>\n",
       "      <td>3</td>\n",
       "      <td>0</td>\n",
       "      <td>0</td>\n",
       "      <td>0</td>\n",
       "    </tr>\n",
       "    <tr>\n",
       "      <th>1</th>\n",
       "      <td>1201 味全</td>\n",
       "      <td>2008/12/31</td>\n",
       "      <td>5.0</td>\n",
       "      <td>621.0</td>\n",
       "      <td>10.75</td>\n",
       "      <td>0</td>\n",
       "      <td>0.54</td>\n",
       "      <td>4.62</td>\n",
       "      <td>4.04</td>\n",
       "      <td>3.27</td>\n",
       "      <td>...</td>\n",
       "      <td>0.0</td>\n",
       "      <td>0.0</td>\n",
       "      <td>0.0</td>\n",
       "      <td>0.0</td>\n",
       "      <td>0.0</td>\n",
       "      <td>3</td>\n",
       "      <td>3</td>\n",
       "      <td>0</td>\n",
       "      <td>0</td>\n",
       "      <td>0</td>\n",
       "    </tr>\n",
       "    <tr>\n",
       "      <th>2</th>\n",
       "      <td>1210 大成</td>\n",
       "      <td>2008/12/31</td>\n",
       "      <td>4.0</td>\n",
       "      <td>719.0</td>\n",
       "      <td>23.25</td>\n",
       "      <td>0</td>\n",
       "      <td>0.42</td>\n",
       "      <td>5.93</td>\n",
       "      <td>1.96</td>\n",
       "      <td>4.42</td>\n",
       "      <td>...</td>\n",
       "      <td>0.0</td>\n",
       "      <td>0.0</td>\n",
       "      <td>0.0</td>\n",
       "      <td>0.0</td>\n",
       "      <td>0.0</td>\n",
       "      <td>2</td>\n",
       "      <td>2</td>\n",
       "      <td>0</td>\n",
       "      <td>0</td>\n",
       "      <td>0</td>\n",
       "    </tr>\n",
       "    <tr>\n",
       "      <th>3</th>\n",
       "      <td>1215 卜蜂</td>\n",
       "      <td>2008/12/31</td>\n",
       "      <td>4.0</td>\n",
       "      <td>582.0</td>\n",
       "      <td>1.77</td>\n",
       "      <td>0</td>\n",
       "      <td>0.27</td>\n",
       "      <td>5.49</td>\n",
       "      <td>2.37</td>\n",
       "      <td>3.73</td>\n",
       "      <td>...</td>\n",
       "      <td>0.0</td>\n",
       "      <td>0.0</td>\n",
       "      <td>0.0</td>\n",
       "      <td>0.0</td>\n",
       "      <td>0.0</td>\n",
       "      <td>4</td>\n",
       "      <td>4</td>\n",
       "      <td>0</td>\n",
       "      <td>0</td>\n",
       "      <td>0</td>\n",
       "    </tr>\n",
       "    <tr>\n",
       "      <th>4</th>\n",
       "      <td>1216 統一</td>\n",
       "      <td>2008/12/31</td>\n",
       "      <td>4.0</td>\n",
       "      <td>618.0</td>\n",
       "      <td>178.78</td>\n",
       "      <td>0</td>\n",
       "      <td>1.38</td>\n",
       "      <td>4.02</td>\n",
       "      <td>4.95</td>\n",
       "      <td>3.56</td>\n",
       "      <td>...</td>\n",
       "      <td>0.0</td>\n",
       "      <td>0.0</td>\n",
       "      <td>0.0</td>\n",
       "      <td>0.0</td>\n",
       "      <td>0.0</td>\n",
       "      <td>3</td>\n",
       "      <td>3</td>\n",
       "      <td>0</td>\n",
       "      <td>0</td>\n",
       "      <td>0</td>\n",
       "    </tr>\n",
       "  </tbody>\n",
       "</table>\n",
       "<p>5 rows × 25 columns</p>\n",
       "</div>"
      ],
      "text/plain": [
       "        公司          年月  TCRI     總分     CFO  CFO不一致  利息支出率  資產報酬%  營業利益%  \\\n",
       "0  1101 台泥  2008/12/31   3.0  622.0   80.43       0   3.51   2.93   6.64   \n",
       "1  1201 味全  2008/12/31   5.0  621.0   10.75       0   0.54   4.62   4.04   \n",
       "2  1210 大成  2008/12/31   4.0  719.0   23.25       0   0.42   5.93   1.96   \n",
       "3  1215 卜蜂  2008/12/31   4.0  582.0    1.77       0   0.27   5.49   2.37   \n",
       "4  1216 統一  2008/12/31   4.0  618.0  178.78       0   1.38   4.02   4.95   \n",
       "\n",
       "   借款息%  ...  c_0  c_1  c_2  c_3  c_4  初步等級  門檻等級_規模  A1  A3  P  \n",
       "0  3.72  ...  0.0  0.0  0.0  0.0  0.0     3        3   0   0  0  \n",
       "1  3.27  ...  0.0  0.0  0.0  0.0  0.0     3        3   0   0  0  \n",
       "2  4.42  ...  0.0  0.0  0.0  0.0  0.0     2        2   0   0  0  \n",
       "3  3.73  ...  0.0  0.0  0.0  0.0  0.0     4        4   0   0  0  \n",
       "4  3.56  ...  0.0  0.0  0.0  0.0  0.0     3        3   0   0  0  \n",
       "\n",
       "[5 rows x 25 columns]"
      ]
     },
     "execution_count": 15,
     "metadata": {},
     "output_type": "execute_result"
    }
   ],
   "source": [
    "'''\n",
    "P發生的case\n",
    "(1) P1且P2\n",
    "(2) 連續3期P1（先略過）\n",
    "'''\n",
    "P_case1 = []\n",
    "for i in range(len(df)):\n",
    "    if P1[i] and P2[i]:\n",
    "        P_case1.append(1)\n",
    "    else:\n",
    "        P_case1.append(0)\n",
    "df['P'] = P_case1\n",
    "df.head()"
   ]
  },
  {
   "cell_type": "markdown",
   "metadata": {},
   "source": [
    "### 2-2-3 Liquidity"
   ]
  },
  {
   "cell_type": "code",
   "execution_count": 16,
   "metadata": {},
   "outputs": [],
   "source": [
    "# L1. 借款依存度(DE%)超過100%\n",
    "# df[df['借款依存度%'] > 100]\n",
    "L1 = []\n",
    "for l in df['借款依存度%']:\n",
    "    if l > 100:\n",
    "        L1.append(1)\n",
    "    else:\n",
    "        L1.append(0)\n",
    "df['L1'] = L1"
   ]
  },
  {
   "cell_type": "code",
   "execution_count": 17,
   "metadata": {},
   "outputs": [],
   "source": [
    "# L3. CFO為負，不足資金 < -0.25億\n",
    "# df[df['CFO'] < -0.25]\n",
    "L3 = []\n",
    "for l in df['CFO']:\n",
    "    if l < 0.25:\n",
    "        L3.append(1)\n",
    "    else:\n",
    "        L3.append(0)\n",
    "df['L3'] = L3"
   ]
  },
  {
   "cell_type": "markdown",
   "metadata": {},
   "source": [
    "### 把TCRI等級量化"
   ]
  },
  {
   "cell_type": "code",
   "execution_count": 18,
   "metadata": {},
   "outputs": [],
   "source": [
    "df[\"score\"] = 0.0\n",
    "df.loc[df['TCRI'] ==  0.0, 'score'] = 110.0\n",
    "df.loc[df['TCRI'] ==  9.0, 'score'] = 110.0\n",
    "df.loc[df['TCRI'] ==  8.0, 'score'] = 215.0\n",
    "df.loc[df['TCRI'] ==  7.0, 'score'] = 300.0\n",
    "df.loc[df['TCRI'] ==  6.0, 'score'] = 385.0\n",
    "df.loc[df['TCRI'] ==  5.0, 'score'] = 470.0\n",
    "df.loc[df['TCRI'] ==  4.0, 'score'] = 555.0\n",
    "df.loc[df['TCRI'] ==  3.0, 'score'] = 640.0\n",
    "df.loc[df['TCRI'] ==  2.0, 'score'] = 725.0\n",
    "df.loc[df['TCRI'] ==  1.0, 'score'] = 810.0"
   ]
  },
  {
   "cell_type": "markdown",
   "metadata": {},
   "source": [
    "### 把初步等級量化"
   ]
  },
  {
   "cell_type": "code",
   "execution_count": 19,
   "metadata": {},
   "outputs": [],
   "source": [
    "# df[\"score_first\"] = 0.0\n",
    "# df.loc[df['初步等級'] ==  0.0, 'score_first'] = -50.0\n",
    "# df.loc[df['初步等級'] ==  9.0, 'score_first'] = 50.0\n",
    "# df.loc[df['初步等級'] ==  8.0, 'score_first'] = 165.0\n",
    "# df.loc[df['初步等級'] ==  7.0, 'score_first'] = 300.0\n",
    "# df.loc[df['初步等級'] ==  6.0, 'score_first'] = 400.0\n",
    "# df.loc[df['初步等級'] ==  5.0, 'score_first'] = 500.0\n",
    "# df.loc[df['初步等級'] ==  4.0, 'score_first'] = 600.0\n",
    "# df.loc[df['初步等級'] ==  3.0, 'score_first'] = 700.0\n",
    "# df.loc[df['初步等級'] ==  2.0, 'score_first'] = 800.0\n",
    "# df.loc[df['初步等級'] ==  1.0, 'score_first'] = 900.0"
   ]
  },
  {
   "cell_type": "code",
   "execution_count": 20,
   "metadata": {},
   "outputs": [
    {
     "data": {
      "text/html": [
       "<div>\n",
       "<style scoped>\n",
       "    .dataframe tbody tr th:only-of-type {\n",
       "        vertical-align: middle;\n",
       "    }\n",
       "\n",
       "    .dataframe tbody tr th {\n",
       "        vertical-align: top;\n",
       "    }\n",
       "\n",
       "    .dataframe thead th {\n",
       "        text-align: right;\n",
       "    }\n",
       "</style>\n",
       "<table border=\"1\" class=\"dataframe\">\n",
       "  <thead>\n",
       "    <tr style=\"text-align: right;\">\n",
       "      <th></th>\n",
       "      <th>公司</th>\n",
       "      <th>年月</th>\n",
       "      <th>TCRI</th>\n",
       "      <th>總分</th>\n",
       "      <th>CFO</th>\n",
       "      <th>CFO不一致</th>\n",
       "      <th>利息支出率</th>\n",
       "      <th>資產報酬%</th>\n",
       "      <th>營業利益%</th>\n",
       "      <th>借款息%</th>\n",
       "      <th>...</th>\n",
       "      <th>c_3</th>\n",
       "      <th>c_4</th>\n",
       "      <th>初步等級</th>\n",
       "      <th>門檻等級_規模</th>\n",
       "      <th>A1</th>\n",
       "      <th>A3</th>\n",
       "      <th>P</th>\n",
       "      <th>L1</th>\n",
       "      <th>L3</th>\n",
       "      <th>score</th>\n",
       "    </tr>\n",
       "  </thead>\n",
       "  <tbody>\n",
       "    <tr>\n",
       "      <th>0</th>\n",
       "      <td>1101 台泥</td>\n",
       "      <td>2008/12/31</td>\n",
       "      <td>3.0</td>\n",
       "      <td>622.0</td>\n",
       "      <td>80.43</td>\n",
       "      <td>0</td>\n",
       "      <td>3.51</td>\n",
       "      <td>2.93</td>\n",
       "      <td>6.64</td>\n",
       "      <td>3.72</td>\n",
       "      <td>...</td>\n",
       "      <td>0.0</td>\n",
       "      <td>0.0</td>\n",
       "      <td>3</td>\n",
       "      <td>3</td>\n",
       "      <td>0</td>\n",
       "      <td>0</td>\n",
       "      <td>0</td>\n",
       "      <td>0</td>\n",
       "      <td>0</td>\n",
       "      <td>640.0</td>\n",
       "    </tr>\n",
       "    <tr>\n",
       "      <th>1</th>\n",
       "      <td>1201 味全</td>\n",
       "      <td>2008/12/31</td>\n",
       "      <td>5.0</td>\n",
       "      <td>621.0</td>\n",
       "      <td>10.75</td>\n",
       "      <td>0</td>\n",
       "      <td>0.54</td>\n",
       "      <td>4.62</td>\n",
       "      <td>4.04</td>\n",
       "      <td>3.27</td>\n",
       "      <td>...</td>\n",
       "      <td>0.0</td>\n",
       "      <td>0.0</td>\n",
       "      <td>3</td>\n",
       "      <td>3</td>\n",
       "      <td>0</td>\n",
       "      <td>0</td>\n",
       "      <td>0</td>\n",
       "      <td>0</td>\n",
       "      <td>0</td>\n",
       "      <td>470.0</td>\n",
       "    </tr>\n",
       "    <tr>\n",
       "      <th>2</th>\n",
       "      <td>1210 大成</td>\n",
       "      <td>2008/12/31</td>\n",
       "      <td>4.0</td>\n",
       "      <td>719.0</td>\n",
       "      <td>23.25</td>\n",
       "      <td>0</td>\n",
       "      <td>0.42</td>\n",
       "      <td>5.93</td>\n",
       "      <td>1.96</td>\n",
       "      <td>4.42</td>\n",
       "      <td>...</td>\n",
       "      <td>0.0</td>\n",
       "      <td>0.0</td>\n",
       "      <td>2</td>\n",
       "      <td>2</td>\n",
       "      <td>0</td>\n",
       "      <td>0</td>\n",
       "      <td>0</td>\n",
       "      <td>0</td>\n",
       "      <td>0</td>\n",
       "      <td>555.0</td>\n",
       "    </tr>\n",
       "    <tr>\n",
       "      <th>3</th>\n",
       "      <td>1215 卜蜂</td>\n",
       "      <td>2008/12/31</td>\n",
       "      <td>4.0</td>\n",
       "      <td>582.0</td>\n",
       "      <td>1.77</td>\n",
       "      <td>0</td>\n",
       "      <td>0.27</td>\n",
       "      <td>5.49</td>\n",
       "      <td>2.37</td>\n",
       "      <td>3.73</td>\n",
       "      <td>...</td>\n",
       "      <td>0.0</td>\n",
       "      <td>0.0</td>\n",
       "      <td>4</td>\n",
       "      <td>4</td>\n",
       "      <td>0</td>\n",
       "      <td>0</td>\n",
       "      <td>0</td>\n",
       "      <td>0</td>\n",
       "      <td>0</td>\n",
       "      <td>555.0</td>\n",
       "    </tr>\n",
       "    <tr>\n",
       "      <th>4</th>\n",
       "      <td>1216 統一</td>\n",
       "      <td>2008/12/31</td>\n",
       "      <td>4.0</td>\n",
       "      <td>618.0</td>\n",
       "      <td>178.78</td>\n",
       "      <td>0</td>\n",
       "      <td>1.38</td>\n",
       "      <td>4.02</td>\n",
       "      <td>4.95</td>\n",
       "      <td>3.56</td>\n",
       "      <td>...</td>\n",
       "      <td>0.0</td>\n",
       "      <td>0.0</td>\n",
       "      <td>3</td>\n",
       "      <td>3</td>\n",
       "      <td>0</td>\n",
       "      <td>0</td>\n",
       "      <td>0</td>\n",
       "      <td>1</td>\n",
       "      <td>0</td>\n",
       "      <td>555.0</td>\n",
       "    </tr>\n",
       "  </tbody>\n",
       "</table>\n",
       "<p>5 rows × 28 columns</p>\n",
       "</div>"
      ],
      "text/plain": [
       "        公司          年月  TCRI     總分     CFO  CFO不一致  利息支出率  資產報酬%  營業利益%  \\\n",
       "0  1101 台泥  2008/12/31   3.0  622.0   80.43       0   3.51   2.93   6.64   \n",
       "1  1201 味全  2008/12/31   5.0  621.0   10.75       0   0.54   4.62   4.04   \n",
       "2  1210 大成  2008/12/31   4.0  719.0   23.25       0   0.42   5.93   1.96   \n",
       "3  1215 卜蜂  2008/12/31   4.0  582.0    1.77       0   0.27   5.49   2.37   \n",
       "4  1216 統一  2008/12/31   4.0  618.0  178.78       0   1.38   4.02   4.95   \n",
       "\n",
       "   借款息%  ...  c_3  c_4  初步等級  門檻等級_規模  A1  A3  P  L1  L3  score  \n",
       "0  3.72  ...  0.0  0.0     3        3   0   0  0   0   0  640.0  \n",
       "1  3.27  ...  0.0  0.0     3        3   0   0  0   0   0  470.0  \n",
       "2  4.42  ...  0.0  0.0     2        2   0   0  0   0   0  555.0  \n",
       "3  3.73  ...  0.0  0.0     4        4   0   0  0   0   0  555.0  \n",
       "4  3.56  ...  0.0  0.0     3        3   0   0  0   1   0  555.0  \n",
       "\n",
       "[5 rows x 28 columns]"
      ]
     },
     "execution_count": 20,
     "metadata": {},
     "output_type": "execute_result"
    }
   ],
   "source": [
    "df.head()"
   ]
  },
  {
   "cell_type": "markdown",
   "metadata": {},
   "source": [
    "### 去掉跟regression無關的欄位"
   ]
  },
  {
   "cell_type": "code",
   "execution_count": 21,
   "metadata": {},
   "outputs": [
    {
     "name": "stdout",
     "output_type": "stream",
     "text": [
      "(2258, 18)\n"
     ]
    },
    {
     "data": {
      "text/html": [
       "<div>\n",
       "<style scoped>\n",
       "    .dataframe tbody tr th:only-of-type {\n",
       "        vertical-align: middle;\n",
       "    }\n",
       "\n",
       "    .dataframe tbody tr th {\n",
       "        vertical-align: top;\n",
       "    }\n",
       "\n",
       "    .dataframe thead th {\n",
       "        text-align: right;\n",
       "    }\n",
       "</style>\n",
       "<table border=\"1\" class=\"dataframe\">\n",
       "  <thead>\n",
       "    <tr style=\"text-align: right;\">\n",
       "      <th></th>\n",
       "      <th>公司</th>\n",
       "      <th>年月</th>\n",
       "      <th>TCRI</th>\n",
       "      <th>CFO</th>\n",
       "      <th>利息支出率</th>\n",
       "      <th>資產報酬%</th>\n",
       "      <th>營業利益%</th>\n",
       "      <th>借款息%</th>\n",
       "      <th>平均收款天增減</th>\n",
       "      <th>平均售貨天增減</th>\n",
       "      <th>借款依存度%</th>\n",
       "      <th>營收</th>\n",
       "      <th>c_0</th>\n",
       "      <th>c_1</th>\n",
       "      <th>c_2</th>\n",
       "      <th>c_3</th>\n",
       "      <th>c_4</th>\n",
       "      <th>score</th>\n",
       "    </tr>\n",
       "  </thead>\n",
       "  <tbody>\n",
       "    <tr>\n",
       "      <th>0</th>\n",
       "      <td>1101 台泥</td>\n",
       "      <td>2008/12/31</td>\n",
       "      <td>3.0</td>\n",
       "      <td>80.43</td>\n",
       "      <td>3.51</td>\n",
       "      <td>2.93</td>\n",
       "      <td>6.64</td>\n",
       "      <td>3.72</td>\n",
       "      <td>-2.0</td>\n",
       "      <td>-2.0</td>\n",
       "      <td>88.0</td>\n",
       "      <td>785.0</td>\n",
       "      <td>0.0</td>\n",
       "      <td>0.0</td>\n",
       "      <td>0.0</td>\n",
       "      <td>0.0</td>\n",
       "      <td>0.0</td>\n",
       "      <td>640.0</td>\n",
       "    </tr>\n",
       "    <tr>\n",
       "      <th>1</th>\n",
       "      <td>1201 味全</td>\n",
       "      <td>2008/12/31</td>\n",
       "      <td>5.0</td>\n",
       "      <td>10.75</td>\n",
       "      <td>0.54</td>\n",
       "      <td>4.62</td>\n",
       "      <td>4.04</td>\n",
       "      <td>3.27</td>\n",
       "      <td>-2.0</td>\n",
       "      <td>1.0</td>\n",
       "      <td>63.0</td>\n",
       "      <td>202.0</td>\n",
       "      <td>0.0</td>\n",
       "      <td>0.0</td>\n",
       "      <td>0.0</td>\n",
       "      <td>0.0</td>\n",
       "      <td>0.0</td>\n",
       "      <td>470.0</td>\n",
       "    </tr>\n",
       "    <tr>\n",
       "      <th>2</th>\n",
       "      <td>1210 大成</td>\n",
       "      <td>2008/12/31</td>\n",
       "      <td>4.0</td>\n",
       "      <td>23.25</td>\n",
       "      <td>0.42</td>\n",
       "      <td>5.93</td>\n",
       "      <td>1.96</td>\n",
       "      <td>4.42</td>\n",
       "      <td>-5.0</td>\n",
       "      <td>-9.0</td>\n",
       "      <td>43.0</td>\n",
       "      <td>712.0</td>\n",
       "      <td>0.0</td>\n",
       "      <td>0.0</td>\n",
       "      <td>0.0</td>\n",
       "      <td>0.0</td>\n",
       "      <td>0.0</td>\n",
       "      <td>555.0</td>\n",
       "    </tr>\n",
       "    <tr>\n",
       "      <th>3</th>\n",
       "      <td>1215 卜蜂</td>\n",
       "      <td>2008/12/31</td>\n",
       "      <td>4.0</td>\n",
       "      <td>1.77</td>\n",
       "      <td>0.27</td>\n",
       "      <td>5.49</td>\n",
       "      <td>2.37</td>\n",
       "      <td>3.73</td>\n",
       "      <td>0.0</td>\n",
       "      <td>-1.0</td>\n",
       "      <td>38.0</td>\n",
       "      <td>154.0</td>\n",
       "      <td>0.0</td>\n",
       "      <td>0.0</td>\n",
       "      <td>0.0</td>\n",
       "      <td>0.0</td>\n",
       "      <td>0.0</td>\n",
       "      <td>555.0</td>\n",
       "    </tr>\n",
       "    <tr>\n",
       "      <th>4</th>\n",
       "      <td>1216 統一</td>\n",
       "      <td>2008/12/31</td>\n",
       "      <td>4.0</td>\n",
       "      <td>178.78</td>\n",
       "      <td>1.38</td>\n",
       "      <td>4.02</td>\n",
       "      <td>4.95</td>\n",
       "      <td>3.56</td>\n",
       "      <td>-1.0</td>\n",
       "      <td>1.0</td>\n",
       "      <td>125.0</td>\n",
       "      <td>2997.0</td>\n",
       "      <td>0.0</td>\n",
       "      <td>0.0</td>\n",
       "      <td>0.0</td>\n",
       "      <td>0.0</td>\n",
       "      <td>0.0</td>\n",
       "      <td>555.0</td>\n",
       "    </tr>\n",
       "  </tbody>\n",
       "</table>\n",
       "</div>"
      ],
      "text/plain": [
       "        公司          年月  TCRI     CFO  利息支出率  資產報酬%  營業利益%  借款息%  平均收款天增減  \\\n",
       "0  1101 台泥  2008/12/31   3.0   80.43   3.51   2.93   6.64  3.72     -2.0   \n",
       "1  1201 味全  2008/12/31   5.0   10.75   0.54   4.62   4.04  3.27     -2.0   \n",
       "2  1210 大成  2008/12/31   4.0   23.25   0.42   5.93   1.96  4.42     -5.0   \n",
       "3  1215 卜蜂  2008/12/31   4.0    1.77   0.27   5.49   2.37  3.73      0.0   \n",
       "4  1216 統一  2008/12/31   4.0  178.78   1.38   4.02   4.95  3.56     -1.0   \n",
       "\n",
       "   平均售貨天增減  借款依存度%      營收  c_0  c_1  c_2  c_3  c_4  score  \n",
       "0     -2.0    88.0   785.0  0.0  0.0  0.0  0.0  0.0  640.0  \n",
       "1      1.0    63.0   202.0  0.0  0.0  0.0  0.0  0.0  470.0  \n",
       "2     -9.0    43.0   712.0  0.0  0.0  0.0  0.0  0.0  555.0  \n",
       "3     -1.0    38.0   154.0  0.0  0.0  0.0  0.0  0.0  555.0  \n",
       "4      1.0   125.0  2997.0  0.0  0.0  0.0  0.0  0.0  555.0  "
      ]
     },
     "execution_count": 21,
     "metadata": {},
     "output_type": "execute_result"
    }
   ],
   "source": [
    "df = df.drop(['總分','CFO不一致','TSE產業別','初步等級','門檻等級_規模', 'A1','A3','P','L1','L3'], axis = 1)\n",
    "print(df.shape)\n",
    "df.head()"
   ]
  },
  {
   "cell_type": "markdown",
   "metadata": {},
   "source": [
    "# 3 訓練前的準備"
   ]
  },
  {
   "cell_type": "markdown",
   "metadata": {},
   "source": [
    "## 3-1 Resample imbalanced labels\n",
    "https://www.kaggle.com/rafjaa/resampling-strategies-for-imbalanced-datasets"
   ]
  },
  {
   "cell_type": "code",
   "execution_count": 22,
   "metadata": {},
   "outputs": [
    {
     "data": {
      "text/plain": [
       "4.0    509\n",
       "5.0    440\n",
       "6.0    398\n",
       "7.0    270\n",
       "3.0    206\n",
       "8.0    168\n",
       "9.0    102\n",
       "0.0     80\n",
       "2.0     45\n",
       "1.0     40\n",
       "Name: TCRI, dtype: int64"
      ]
     },
     "execution_count": 22,
     "metadata": {},
     "output_type": "execute_result"
    }
   ],
   "source": [
    "df['TCRI'].value_counts()"
   ]
  },
  {
   "cell_type": "code",
   "execution_count": 23,
   "metadata": {},
   "outputs": [],
   "source": [
    "# df['TCRI'].value_counts().plot(kind='bar')"
   ]
  },
  {
   "cell_type": "code",
   "execution_count": 24,
   "metadata": {},
   "outputs": [],
   "source": [
    "# Class count\n",
    "count_TCRI_4 = 2*len(df[df['TCRI'] == 4])\n",
    "\n",
    "\n",
    "# Divide by class\n",
    "df_TCRI_0 = df[df['TCRI'] == 0.0]\n",
    "df_TCRI_1 = df[df['TCRI'] == 1]\n",
    "df_TCRI_2 = df[df['TCRI'] == 2]\n",
    "df_TCRI_3 = df[df['TCRI'] == 3]\n",
    "df_TCRI_4 = df[df['TCRI'] == 4]\n",
    "df_TCRI_5 = df[df['TCRI'] == 5]\n",
    "df_TCRI_6 = df[df['TCRI'] == 6]\n",
    "df_TCRI_7 = df[df['TCRI'] == 7]\n",
    "df_TCRI_8 = df[df['TCRI'] == 8]\n",
    "df_TCRI_9 = df[df['TCRI'] == 9]"
   ]
  },
  {
   "cell_type": "code",
   "execution_count": 25,
   "metadata": {},
   "outputs": [],
   "source": [
    "# 把每個類別都複製到跟4類別一樣多\n",
    "\n",
    "df_TCRI_0_over = df_TCRI_0.sample(n=count_TCRI_4, replace=True, random_state=2018, )\n",
    "df_TCRI_1_over = df_TCRI_1.sample(n=count_TCRI_4, replace=True, random_state=2018, )\n",
    "df_TCRI_2_over = df_TCRI_2.sample(n=count_TCRI_4, replace=True, random_state=2018, )\n",
    "df_TCRI_3_over = df_TCRI_3.sample(n=count_TCRI_4, replace=True, random_state=2018, )\n",
    "df_TCRI_4_over = df_TCRI_4.sample(n=count_TCRI_4, replace=True, random_state=2018, )\n",
    "df_TCRI_5_over = df_TCRI_5.sample(n=count_TCRI_4, replace=True, random_state=2018, )\n",
    "df_TCRI_6_over = df_TCRI_6.sample(n=count_TCRI_4, replace=True, random_state=2018, )\n",
    "df_TCRI_7_over = df_TCRI_7.sample(n=count_TCRI_4, replace=True, random_state=2018, )\n",
    "df_TCRI_8_over = df_TCRI_8.sample(n=count_TCRI_4, replace=True, random_state=2018, )\n",
    "df_TCRI_9_over = df_TCRI_9.sample(n=count_TCRI_4, replace=True, random_state=2018, )"
   ]
  },
  {
   "cell_type": "code",
   "execution_count": 26,
   "metadata": {},
   "outputs": [
    {
     "data": {
      "text/plain": [
       "9.0    1018\n",
       "8.0    1018\n",
       "7.0    1018\n",
       "6.0    1018\n",
       "5.0    1018\n",
       "4.0    1018\n",
       "3.0    1018\n",
       "2.0    1018\n",
       "1.0    1018\n",
       "0.0    1018\n",
       "Name: TCRI, dtype: int64"
      ]
     },
     "execution_count": 26,
     "metadata": {},
     "output_type": "execute_result"
    }
   ],
   "source": [
    "# 新的複製的data 合併\n",
    "df_resample = pd.concat([df_TCRI_0_over, df_TCRI_1_over, df_TCRI_2_over, df_TCRI_3_over, df_TCRI_4_over, df_TCRI_5_over, df_TCRI_6_over, df_TCRI_7_over, df_TCRI_8_over, df_TCRI_9_over])\n",
    "df_resample['TCRI'].value_counts()"
   ]
  },
  {
   "cell_type": "code",
   "execution_count": 27,
   "metadata": {},
   "outputs": [],
   "source": [
    "# df_resample['TCRI'].value_counts().plot(kind='bar')"
   ]
  },
  {
   "cell_type": "markdown",
   "metadata": {},
   "source": [
    "# 4 訓練LinearRegression模型 求coef_"
   ]
  },
  {
   "cell_type": "code",
   "execution_count": 28,
   "metadata": {},
   "outputs": [],
   "source": [
    "import tensorflow as tf\n",
    "\n",
    "from tensorflow import keras\n",
    "from tensorflow.keras import Sequential, Model, Input\n",
    "from tensorflow.keras.layers import Dense, Embedding, SpatialDropout1D, Dropout, Activation, Flatten, InputLayer\n",
    "from sklearn import preprocessing\n",
    "from sklearn.feature_selection import SelectFromModel\n",
    "from sklearn.model_selection import train_test_split\n",
    "from sklearn.metrics import mean_squared_error, confusion_matrix\n",
    "from sklearn.metrics import multilabel_confusion_matrix\n",
    "from sklearn.metrics import accuracy_score\n",
    "from sklearn.metrics import classification_report"
   ]
  },
  {
   "cell_type": "markdown",
   "metadata": {},
   "source": [
    "### 沒resample 沒標準化 有c_0 c_1 c_2 c_3 c_4"
   ]
  },
  {
   "cell_type": "code",
   "execution_count": 29,
   "metadata": {},
   "outputs": [
    {
     "name": "stdout",
     "output_type": "stream",
     "text": [
      "(2258, 14)\n",
      "(2258,)\n"
     ]
    }
   ],
   "source": [
    "Y = df['score'].values\n",
    "X = df.drop(['score', 'TCRI', '公司', '年月'], axis = 1).values\n",
    "\n",
    "print(X.shape)\n",
    "print(Y.shape)"
   ]
  },
  {
   "cell_type": "code",
   "execution_count": 30,
   "metadata": {},
   "outputs": [
    {
     "name": "stdout",
     "output_type": "stream",
     "text": [
      "[ 1.72351194e-02 -7.65526790e+00  8.55865506e+00 -1.70242655e-01\n",
      " -8.14389690e+00  3.04416790e-01  5.59061301e-03 -1.14394378e-01\n",
      "  3.79412068e-02 -1.16454615e+00 -8.06993455e+00 -3.37822130e-01\n",
      " -2.37317717e+01 -2.53353433e+00]\n",
      "CPU times: user 9.91 ms, sys: 556 µs, total: 10.5 ms\n",
      "Wall time: 23.1 ms\n"
     ]
    }
   ],
   "source": [
    "%%time\n",
    "\n",
    "from sklearn.linear_model import LinearRegression\n",
    "\n",
    "model_LinearRegression = LinearRegression()\n",
    "model_LinearRegression.fit(X, Y)\n",
    "\n",
    "print(model_LinearRegression.coef_)"
   ]
  },
  {
   "cell_type": "markdown",
   "metadata": {},
   "source": [
    "### 沒resample 有標準化 有c_0 c_1 c_2 c_3 c_4"
   ]
  },
  {
   "cell_type": "code",
   "execution_count": 31,
   "metadata": {},
   "outputs": [
    {
     "name": "stdout",
     "output_type": "stream",
     "text": [
      "(2258, 14)\n",
      "(2258,)\n"
     ]
    }
   ],
   "source": [
    "Y = df['score'].values\n",
    "X = df.drop(['score', 'TCRI', '公司', '年月'], axis = 1).values\n",
    "\n",
    "# 標準化\n",
    "minmax_scale = preprocessing.MinMaxScaler(feature_range=(0, 1))\n",
    "X = minmax_scale.fit_transform(X)\n",
    "\n",
    "print(X.shape)\n",
    "print(Y.shape)"
   ]
  },
  {
   "cell_type": "code",
   "execution_count": 32,
   "metadata": {},
   "outputs": [
    {
     "name": "stdout",
     "output_type": "stream",
     "text": [
      "[ 103.18717673 -581.03483396 1469.60666042 -186.42762448 -182.9119244\n",
      "  138.81405612   96.30389975 -505.16557246  460.49242722 -241.1888871\n",
      " -266.3288965   -36.91369668 -141.6167159   -85.78351192]\n",
      "CPU times: user 4.5 ms, sys: 2.28 ms, total: 6.78 ms\n",
      "Wall time: 1.08 ms\n"
     ]
    }
   ],
   "source": [
    "%%time\n",
    "\n",
    "from sklearn.linear_model import LinearRegression\n",
    "\n",
    "model_LinearRegression = LinearRegression()\n",
    "model_LinearRegression.fit(X, Y)\n",
    "\n",
    "print(model_LinearRegression.coef_)"
   ]
  },
  {
   "cell_type": "markdown",
   "metadata": {},
   "source": [
    "### 有resample 沒標準化 有c_0 c_1 c_2 c_3 c_4"
   ]
  },
  {
   "cell_type": "code",
   "execution_count": 33,
   "metadata": {},
   "outputs": [
    {
     "name": "stdout",
     "output_type": "stream",
     "text": [
      "(10180, 14)\n",
      "(10180,)\n"
     ]
    }
   ],
   "source": [
    "Y = df_resample['score'].values\n",
    "X = df_resample.drop(['score', 'TCRI', '公司', '年月'], axis = 1).values\n",
    "\n",
    "print(X.shape)\n",
    "print(Y.shape)"
   ]
  },
  {
   "cell_type": "code",
   "execution_count": 34,
   "metadata": {},
   "outputs": [
    {
     "name": "stdout",
     "output_type": "stream",
     "text": [
      "[-1.21659837e-02 -7.41564050e+00  1.02015829e+01 -3.26312554e-01\n",
      " -1.77589083e+01  2.84423453e-01  9.50423180e-03 -7.50467428e-02\n",
      "  4.96018258e-02 -4.42785900e-01 -1.72896130e+01 -1.82194250e+00\n",
      " -2.38686988e+01 -3.69018683e-01]\n",
      "CPU times: user 13 ms, sys: 1.18 ms, total: 14.2 ms\n",
      "Wall time: 2.31 ms\n"
     ]
    }
   ],
   "source": [
    "%%time\n",
    "\n",
    "from sklearn.linear_model import LinearRegression\n",
    "\n",
    "model_LinearRegression = LinearRegression()\n",
    "model_LinearRegression.fit(X, Y)\n",
    "\n",
    "print(model_LinearRegression.coef_)"
   ]
  },
  {
   "cell_type": "markdown",
   "metadata": {},
   "source": [
    "### 有resample 有標準化 有c_0 c_1 c_2 c_3 c_4"
   ]
  },
  {
   "cell_type": "code",
   "execution_count": 35,
   "metadata": {},
   "outputs": [
    {
     "name": "stdout",
     "output_type": "stream",
     "text": [
      "(10180, 14)\n",
      "(10180,)\n"
     ]
    }
   ],
   "source": [
    "Y = df_resample['score'].values\n",
    "X = df_resample.drop(['score', 'TCRI', '公司', '年月'], axis = 1).values\n",
    "\n",
    "# 標準化\n",
    "minmax_scale = preprocessing.MinMaxScaler(feature_range=(0, 1))\n",
    "X = minmax_scale.fit_transform(X)\n",
    "\n",
    "print(X.shape)\n",
    "print(Y.shape)"
   ]
  },
  {
   "cell_type": "code",
   "execution_count": 36,
   "metadata": {},
   "outputs": [
    {
     "name": "stdout",
     "output_type": "stream",
     "text": [
      "[ -72.6474686  -562.84711427 1751.71380385 -334.14405554 -398.86508092\n",
      "  129.69709441  163.71989694 -331.40641629  602.01735966  -91.70528676\n",
      " -570.60234046 -199.08297012 -142.43381294  -12.49468708]\n",
      "CPU times: user 11.6 ms, sys: 0 ns, total: 11.6 ms\n",
      "Wall time: 1.88 ms\n"
     ]
    }
   ],
   "source": [
    "%%time\n",
    "\n",
    "from sklearn.linear_model import LinearRegression\n",
    "\n",
    "model_LinearRegression = LinearRegression()\n",
    "model_LinearRegression.fit(X, Y)\n",
    "\n",
    "print(model_LinearRegression.coef_)"
   ]
  },
  {
   "cell_type": "markdown",
   "metadata": {},
   "source": [
    "### 沒resample 沒標準化 沒c_0 c_1 c_2 c_3 c_4"
   ]
  },
  {
   "cell_type": "code",
   "execution_count": 37,
   "metadata": {},
   "outputs": [
    {
     "name": "stdout",
     "output_type": "stream",
     "text": [
      "(2258, 9)\n",
      "(2258,)\n"
     ]
    }
   ],
   "source": [
    "Y = df['score'].values\n",
    "X = df.drop(['score', 'TCRI', '公司', '年月', 'c_0', 'c_1', 'c_2', 'c_3', 'c_4' ], axis = 1).values\n",
    "\n",
    "print(X.shape)\n",
    "print(Y.shape)"
   ]
  },
  {
   "cell_type": "code",
   "execution_count": 38,
   "metadata": {},
   "outputs": [
    {
     "name": "stdout",
     "output_type": "stream",
     "text": [
      "[ 2.13400183e-02 -7.82950523e+00  8.63288564e+00 -1.84980946e-01\n",
      " -7.94946710e+00  3.05559503e-01  5.66512382e-03 -1.16388835e-01\n",
      "  3.79122196e-02]\n",
      "CPU times: user 5.57 ms, sys: 376 µs, total: 5.95 ms\n",
      "Wall time: 955 µs\n"
     ]
    }
   ],
   "source": [
    "%%time\n",
    "\n",
    "from sklearn.linear_model import LinearRegression\n",
    "\n",
    "model_LinearRegression = LinearRegression()\n",
    "model_LinearRegression.fit(X, Y)\n",
    "\n",
    "print(model_LinearRegression.coef_)"
   ]
  },
  {
   "cell_type": "markdown",
   "metadata": {},
   "source": [
    "### 沒resample 有標準化 沒c_0 c_1 c_2 c_3 c_4"
   ]
  },
  {
   "cell_type": "code",
   "execution_count": 39,
   "metadata": {},
   "outputs": [
    {
     "name": "stdout",
     "output_type": "stream",
     "text": [
      "(2258, 9)\n",
      "(2258,)\n"
     ]
    }
   ],
   "source": [
    "Y = df['score'].values\n",
    "X = df.drop(['score', 'TCRI', '公司', '年月', 'c_0', 'c_1', 'c_2', 'c_3', 'c_4' ], axis = 1).values\n",
    "\n",
    "# 標準化\n",
    "minmax_scale = preprocessing.MinMaxScaler(feature_range=(0, 1))\n",
    "X = minmax_scale.fit_transform(X)\n",
    "\n",
    "print(X.shape)\n",
    "print(Y.shape)"
   ]
  },
  {
   "cell_type": "code",
   "execution_count": 40,
   "metadata": {},
   "outputs": [
    {
     "name": "stdout",
     "output_type": "stream",
     "text": [
      "[ 127.76332965 -594.25944662 1482.35279242 -202.56708494 -178.54503109\n",
      "  139.33513337   97.58742294 -513.97309344  460.14060975]\n",
      "CPU times: user 6.82 ms, sys: 0 ns, total: 6.82 ms\n",
      "Wall time: 1.1 ms\n"
     ]
    }
   ],
   "source": [
    "%%time\n",
    "\n",
    "from sklearn.linear_model import LinearRegression\n",
    "\n",
    "model_LinearRegression = LinearRegression()\n",
    "model_LinearRegression.fit(X, Y)\n",
    "\n",
    "print(model_LinearRegression.coef_)"
   ]
  },
  {
   "cell_type": "markdown",
   "metadata": {},
   "source": [
    "### 有resample 沒標準化 沒c_0 c_1 c_2 c_3 c_4"
   ]
  },
  {
   "cell_type": "code",
   "execution_count": 41,
   "metadata": {},
   "outputs": [
    {
     "name": "stdout",
     "output_type": "stream",
     "text": [
      "(10180, 9)\n",
      "(10180,)\n"
     ]
    }
   ],
   "source": [
    "Y = df_resample['score'].values\n",
    "X = df_resample.drop(['score', 'TCRI', '公司', '年月', 'c_0', 'c_1', 'c_2', 'c_3', 'c_4' ], axis = 1).values\n",
    "\n",
    "print(X.shape)\n",
    "print(Y.shape)"
   ]
  },
  {
   "cell_type": "code",
   "execution_count": 42,
   "metadata": {},
   "outputs": [
    {
     "name": "stdout",
     "output_type": "stream",
     "text": [
      "[-5.87243467e-03 -7.60302292e+00  1.04254856e+01 -3.48962447e-01\n",
      " -1.80289482e+01  3.07994207e-01  9.49480161e-03 -7.59539276e-02\n",
      "  4.91561183e-02]\n",
      "CPU times: user 8.87 ms, sys: 0 ns, total: 8.87 ms\n",
      "Wall time: 1.43 ms\n"
     ]
    }
   ],
   "source": [
    "%%time\n",
    "\n",
    "from sklearn.linear_model import LinearRegression\n",
    "\n",
    "model_LinearRegression = LinearRegression()\n",
    "model_LinearRegression.fit(X, Y)\n",
    "\n",
    "print(model_LinearRegression.coef_)"
   ]
  },
  {
   "cell_type": "markdown",
   "metadata": {},
   "source": [
    "### 有resample 有標準化 沒c_0 c_1 c_2 c_3 c_4"
   ]
  },
  {
   "cell_type": "code",
   "execution_count": 43,
   "metadata": {},
   "outputs": [
    {
     "name": "stdout",
     "output_type": "stream",
     "text": [
      "(10180, 9)\n",
      "(10180,)\n"
     ]
    }
   ],
   "source": [
    "Y = df_resample['score'].values\n",
    "X = df_resample.drop(['score', 'TCRI', '公司', '年月', 'c_0', 'c_1', 'c_2', 'c_3', 'c_4' ], axis = 1).values\n",
    "\n",
    "# 標準化\n",
    "minmax_scale = preprocessing.MinMaxScaler(feature_range=(0, 1))\n",
    "X = minmax_scale.fit_transform(X)\n",
    "\n",
    "print(X.shape)\n",
    "print(Y.shape)"
   ]
  },
  {
   "cell_type": "code",
   "execution_count": 44,
   "metadata": {},
   "outputs": [
    {
     "name": "stdout",
     "output_type": "stream",
     "text": [
      "[ -35.06642147 -577.06943928 1790.16013144 -357.3375459  -404.93017736\n",
      "  140.44535838  163.5574525  -335.41254421  596.60780771]\n",
      "CPU times: user 8.66 ms, sys: 64 µs, total: 8.73 ms\n",
      "Wall time: 1.4 ms\n"
     ]
    }
   ],
   "source": [
    "%%time\n",
    "\n",
    "from sklearn.linear_model import LinearRegression\n",
    "\n",
    "model_LinearRegression = LinearRegression()\n",
    "model_LinearRegression.fit(X, Y)\n",
    "\n",
    "print(model_LinearRegression.coef_)"
   ]
  },
  {
   "cell_type": "code",
   "execution_count": 45,
   "metadata": {},
   "outputs": [
    {
     "data": {
      "text/plain": [
       "array(['公司', '年月', 'TCRI', 'CFO', '利息支出率', '資產報酬%', '營業利益%', '借款息%',\n",
       "       '平均收款天增減', '平均售貨天增減', '借款依存度%', '營收', 'c_0', 'c_1', 'c_2', 'c_3',\n",
       "       'c_4', 'score'], dtype=object)"
      ]
     },
     "execution_count": 45,
     "metadata": {},
     "output_type": "execute_result"
    }
   ],
   "source": [
    "df.columns.values"
   ]
  },
  {
   "cell_type": "code",
   "execution_count": 46,
   "metadata": {},
   "outputs": [
    {
     "data": {
      "text/plain": [
       "array(['CFO', '利息支出率', '資產報酬%', '營業利益%', '借款息%', '平均收款天增減', '平均售貨天增減',\n",
       "       '借款依存度%', '營收', 'c_0', 'c_1', 'c_2', 'c_3', 'c_4'], dtype=object)"
      ]
     },
     "execution_count": 46,
     "metadata": {},
     "output_type": "execute_result"
    }
   ],
   "source": [
    "df.drop(['score', 'TCRI', '公司', '年月'], axis = 1).columns.values"
   ]
  },
  {
   "cell_type": "code",
   "execution_count": 47,
   "metadata": {},
   "outputs": [
    {
     "data": {
      "text/plain": [
       "array(['CFO', '利息支出率', '資產報酬%', '營業利益%', '借款息%', '平均收款天增減', '平均售貨天增減',\n",
       "       '借款依存度%', '營收'], dtype=object)"
      ]
     },
     "execution_count": 47,
     "metadata": {},
     "output_type": "execute_result"
    }
   ],
   "source": [
    "df.drop(['score', 'TCRI', '公司', '年月', 'c_0', 'c_1', 'c_2', 'c_3', 'c_4' ], axis = 1).columns.values"
   ]
  },
  {
   "cell_type": "code",
   "execution_count": null,
   "metadata": {},
   "outputs": [],
   "source": []
  },
  {
   "cell_type": "code",
   "execution_count": null,
   "metadata": {},
   "outputs": [],
   "source": []
  }
 ],
 "metadata": {
  "kernelspec": {
   "display_name": "Python 3",
   "language": "python",
   "name": "python3"
  },
  "language_info": {
   "codemirror_mode": {
    "name": "ipython",
    "version": 3
   },
   "file_extension": ".py",
   "mimetype": "text/x-python",
   "name": "python",
   "nbconvert_exporter": "python",
   "pygments_lexer": "ipython3",
   "version": "3.7.5"
  }
 },
 "nbformat": 4,
 "nbformat_minor": 4
}
